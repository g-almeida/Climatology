{
 "cells": [
  {
   "cell_type": "code",
   "execution_count": 2,
   "metadata": {},
   "outputs": [
    {
     "name": "stdout",
     "output_type": "stream",
     "text": [
      "Collecting cdsapi\n",
      "  Downloading cdsapi-0.3.1.tar.gz (12 kB)\n",
      "Requirement already satisfied: requests>=2.5.0 in /home/gabriel/miniconda3/envs/urca/lib/python3.7/site-packages (from cdsapi) (2.24.0)\n",
      "Collecting tqdm\n",
      "  Downloading tqdm-4.51.0-py2.py3-none-any.whl (70 kB)\n",
      "\u001b[K     |████████████████████████████████| 70 kB 1.0 MB/s eta 0:00:011\n",
      "\u001b[?25hRequirement already satisfied: chardet<4,>=3.0.2 in /home/gabriel/miniconda3/envs/urca/lib/python3.7/site-packages (from requests>=2.5.0->cdsapi) (3.0.4)\n",
      "Requirement already satisfied: certifi>=2017.4.17 in /home/gabriel/miniconda3/envs/urca/lib/python3.7/site-packages (from requests>=2.5.0->cdsapi) (2020.6.20)\n",
      "Requirement already satisfied: urllib3!=1.25.0,!=1.25.1,<1.26,>=1.21.1 in /home/gabriel/miniconda3/envs/urca/lib/python3.7/site-packages (from requests>=2.5.0->cdsapi) (1.25.10)\n",
      "Requirement already satisfied: idna<3,>=2.5 in /home/gabriel/miniconda3/envs/urca/lib/python3.7/site-packages (from requests>=2.5.0->cdsapi) (2.10)\n",
      "Building wheels for collected packages: cdsapi\n",
      "  Building wheel for cdsapi (setup.py) ... \u001b[?25ldone\n",
      "\u001b[?25h  Created wheel for cdsapi: filename=cdsapi-0.3.1-py2.py3-none-any.whl size=11660 sha256=7d1815d23033148d719ffa7a6a6fff06489a01c013b5b17a2c8f57089f0cea26\n",
      "  Stored in directory: /home/gabriel/.cache/pip/wheels/e7/48/99/df4da2f0ec6d8d4e8acade3332ad5b4f527d38cbcb2d78843a\n",
      "Successfully built cdsapi\n",
      "Installing collected packages: tqdm, cdsapi\n",
      "Successfully installed cdsapi-0.3.1 tqdm-4.51.0\n",
      "Note: you may need to restart the kernel to use updated packages.\n"
     ]
    }
   ],
   "source": [
    "pip install cdsapi"
   ]
  },
  {
   "cell_type": "code",
   "execution_count": 3,
   "metadata": {
    "scrolled": true
   },
   "outputs": [
    {
     "name": "stderr",
     "output_type": "stream",
     "text": [
      "2020-03-27 15:53:20,311 INFO Sending request to https://cds.climate.copernicus.eu/api/v2/resources/reanalysis-era5-pressure-levels-monthly-means\n",
      "2020-03-27 15:53:21,347 INFO Request is completed\n",
      "2020-03-27 15:53:21,350 INFO Downloading http://136.156.132.110/cache-compute-0001/cache/data7/adaptor.mars.internal-1585330234.6717813-26958-27-6eebea26-7b4b-4956-ae26-bf6c4a17095f.nc to download.nc (121.3M)\n",
      "2020-03-27 15:55:15,287 INFO Download rate 1.1M/s                              \n"
     ]
    },
    {
     "data": {
      "text/plain": [
       "Result(content_length=127198024,content_type=application/x-netcdf,location=http://136.156.132.110/cache-compute-0001/cache/data7/adaptor.mars.internal-1585330234.6717813-26958-27-6eebea26-7b4b-4956-ae26-bf6c4a17095f.nc)"
      ]
     },
     "execution_count": 3,
     "metadata": {},
     "output_type": "execute_result"
    }
   ],
   "source": [
    "import cdsapi\n",
    "\n",
    "c = cdsapi.Client()\n",
    "\n",
    "c.retrieve(\n",
    "    'reanalysis-era5-pressure-levels-monthly-means',\n",
    "    {\n",
    "        'format': 'netcdf',\n",
    "        'variable': 'geopotential',\n",
    "        'pressure_level': [\n",
    "            '700', '850',\n",
    "        ],\n",
    "        'year': [\n",
    "            '2010', '2011',\n",
    "            '2012', '2013', '2014',\n",
    "            '2015', '2016', '2017',\n",
    "            '2018', '2019', '2020',\n",
    "        ],\n",
    "        'month': [\n",
    "            '01', '02', '03',\n",
    "            '04', '05', '06',\n",
    "            '07', '08', '09',\n",
    "            '10', '11', '12',\n",
    "        ],\n",
    "        'time': '00:00',\n",
    "        'area': [20,-70,-70,20],\n",
    "        'product_type': 'monthly_averaged_reanalysis',\n",
    "    },\n",
    "    'download.nc')"
   ]
  },
  {
   "cell_type": "code",
   "execution_count": 1,
   "metadata": {},
   "outputs": [
    {
     "name": "stderr",
     "output_type": "stream",
     "text": [
      "2020-03-29 21:56:06,075 INFO Sending request to https://cds.climate.copernicus.eu/api/v2/resources/reanalysis-era5-pressure-levels-monthly-means\n",
      "2020-03-29 21:56:07,308 INFO Request is queued\n",
      "2020-03-29 21:56:08,593 INFO Request is running\n",
      "2020-03-29 21:56:21,680 INFO Request is completed\n",
      "2020-03-29 21:56:21,680 INFO Downloading http://136.156.132.235/cache-compute-0006/cache/data1/adaptor.mars.internal-1585529767.3724084-12082-13-12a22d27-7f24-4efc-956f-09c99d7b112e.nc to download.nc (25.9M)\n",
      "2020-03-29 21:56:45,181 INFO Download rate 1.1M/s                              \n"
     ]
    },
    {
     "data": {
      "text/plain": [
       "Result(content_length=27111120,content_type=application/x-netcdf,location=http://136.156.132.235/cache-compute-0006/cache/data1/adaptor.mars.internal-1585529767.3724084-12082-13-12a22d27-7f24-4efc-956f-09c99d7b112e.nc)"
      ]
     },
     "execution_count": 1,
     "metadata": {},
     "output_type": "execute_result"
    }
   ],
   "source": [
    "import cdsapi\n",
    "\n",
    "c = cdsapi.Client()\n",
    "\n",
    "c.retrieve(\n",
    "    'reanalysis-era5-pressure-levels-monthly-means',\n",
    "    {\n",
    "        'format': 'netcdf',\n",
    "        'product_type': 'monthly_averaged_reanalysis',\n",
    "        'variable': 'u_component_of_wind',\n",
    "        'pressure_level': [\n",
    "            '700', '850',\n",
    "        ],\n",
    "        'year': [\n",
    "            '2018', '2019', '2020',\n",
    "        ],\n",
    "        'month': [\n",
    "            '01', '02', '03',\n",
    "            '04', '05', '06',\n",
    "            '07', '08', '09',\n",
    "            '10', '11', '12',\n",
    "        ],\n",
    "        'time': '00:00',\n",
    "        'area': [20,-70,-70,20],\n",
    "    },\n",
    "    'download.nc')"
   ]
  },
  {
   "cell_type": "code",
   "execution_count": 1,
   "metadata": {},
   "outputs": [
    {
     "name": "stderr",
     "output_type": "stream",
     "text": [
      "2020-06-01 14:26:32,673 INFO Welcome to the CDS\n",
      "2020-06-01 14:26:32,692 INFO Sending request to https://cds.climate.copernicus.eu/api/v2/resources/reanalysis-era5-pressure-levels-monthly-means\n",
      "2020-06-01 14:26:34,113 INFO Request is queued\n",
      "2020-06-01 14:26:35,335 INFO Request is running\n",
      "2020-06-01 14:31:13,690 INFO Request is completed\n",
      "2020-06-01 14:31:13,695 INFO Downloading http://136.156.133.32/cache-compute-0009/cache/data9/adaptor.mars.internal-1591032394.2596667-27018-27-92649ab7-8412-4947-9daa-a4f7206d581e.nc to download.nc (79.5M)\n",
      "2020-06-01 14:33:41,805 INFO Download rate 549.7K/s                            \n"
     ]
    },
    {
     "data": {
      "text/plain": [
       "Result(content_length=83374544,content_type=application/x-netcdf,location=http://136.156.133.32/cache-compute-0009/cache/data9/adaptor.mars.internal-1591032394.2596667-27018-27-92649ab7-8412-4947-9daa-a4f7206d581e.nc)"
      ]
     },
     "execution_count": 1,
     "metadata": {},
     "output_type": "execute_result"
    }
   ],
   "source": [
    "import cdsapi\n",
    "\n",
    "c = cdsapi.Client()\n",
    "\n",
    "c.retrieve(\n",
    "    'reanalysis-era5-pressure-levels-monthly-means',\n",
    "    {\n",
    "        'format': 'netcdf',\n",
    "        'variable': 'geopotential',\n",
    "        'pressure_level': '850',\n",
    "        'product_type': 'monthly_averaged_reanalysis',\n",
    "        'year': [\n",
    "            '1979', '1980', '1981',\n",
    "            '1982', '1983', '1984',\n",
    "            '1985', '1986', '1987',\n",
    "            '1988', '1989', '1990',\n",
    "            '1991', '1992', '1993',\n",
    "            '1994', '1995', '1996',\n",
    "            '1997', '1998', '1999',\n",
    "            '2000', '2001', '2002',\n",
    "            '2003', '2004', '2005',\n",
    "            '2006', '2007', '2008',\n",
    "            '2009', '2010', '2011',\n",
    "            '2012', '2013', '2014',\n",
    "            '2015', '2016', '2017',\n",
    "            '2018', '2019', '2020',\n",
    "        ],\n",
    "        'month': [\n",
    "            '01', '02', '03',\n",
    "            '04', '05', '06',\n",
    "            '07', '08', '09',\n",
    "            '10', '11', '12',\n",
    "        ],\n",
    "        'area': [\n",
    "            -5, -50, -45,\n",
    "            15,\n",
    "        ],\n",
    "        'time': '00:00',\n",
    "    },\n",
    "    'download.nc')"
   ]
  },
  {
   "cell_type": "code",
   "execution_count": 3,
   "metadata": {},
   "outputs": [
    {
     "name": "stderr",
     "output_type": "stream",
     "text": [
      "2020-10-29 18:16:06,180 INFO Welcome to the CDS\n",
      "2020-10-29 18:16:06,183 INFO Sending request to https://cds.climate.copernicus.eu/api/v2/resources/reanalysis-era5-pressure-levels-monthly-means\n",
      "2020-10-29 18:16:06,501 INFO Request is queued\n",
      "2020-10-29 18:16:07,713 INFO Request is running\n",
      "2020-10-29 18:18:59,934 INFO Request is completed\n",
      "2020-10-29 18:18:59,936 INFO Downloading http://136.156.133.36/cache-compute-0010/cache/data3/adaptor.mars.internal-1604006166.6762102-18881-3-45a24382-afb9-4deb-82a5-4abb956120b3.nc to download.nc (37.3M)\n",
      "2020-10-29 18:19:27,964 INFO Download rate 1.3M/s   \n"
     ]
    },
    {
     "data": {
      "text/plain": [
       "Result(content_length=39124584,content_type=application/x-netcdf,location=http://136.156.133.36/cache-compute-0010/cache/data3/adaptor.mars.internal-1604006166.6762102-18881-3-45a24382-afb9-4deb-82a5-4abb956120b3.nc)"
      ]
     },
     "execution_count": 3,
     "metadata": {},
     "output_type": "execute_result"
    }
   ],
   "source": [
    "import cdsapi\n",
    "\n",
    "c = cdsapi.Client()\n",
    "\n",
    "c.retrieve(\n",
    "    'reanalysis-era5-pressure-levels-monthly-means',\n",
    "    {\n",
    "        'format': 'netcdf',\n",
    "        'variable': 'geopotential',\n",
    "        'pressure_level': '500',\n",
    "        'year': [\n",
    "            '1979', '1980', '1981',\n",
    "            '1982', '1983', '1984',\n",
    "            '1985', '1986', '1987',\n",
    "            '1988', '1989', '1990',\n",
    "            '1991', '1992', '1993',\n",
    "            '1994', '1995', '1996',\n",
    "            '1997', '1998', '1999',\n",
    "            '2000', '2001', '2002',\n",
    "            '2003', '2004', '2005',\n",
    "            '2006', '2007', '2008',\n",
    "            '2009', '2010', '2011',\n",
    "            '2012', '2013', '2014',\n",
    "            '2015', '2016', '2017',\n",
    "            '2018', '2019', '2020',\n",
    "        ],\n",
    "        'month': [\n",
    "            '01', '02', '03',\n",
    "            '04', '05', '06',\n",
    "            '07', '08', '09',\n",
    "            '10', '11', '12',\n",
    "        ],\n",
    "        'area': [\n",
    "            -20, -48, -40,\n",
    "            12,\n",
    "        ],\n",
    "        'product_type': 'monthly_averaged_reanalysis',\n",
    "        'time': '00:00',\n",
    "    },\n",
    "    'download.nc')"
   ]
  },
  {
   "cell_type": "code",
   "execution_count": 2,
   "metadata": {},
   "outputs": [
    {
     "name": "stderr",
     "output_type": "stream",
     "text": [
      "2020-10-30 12:12:36,194 INFO Welcome to the CDS\n",
      "2020-10-30 12:12:36,197 INFO Sending request to https://cds.climate.copernicus.eu/api/v2/resources/reanalysis-era5-pressure-levels\n",
      "2020-10-30 12:12:36,474 INFO Request is completed\n",
      "2020-10-30 12:12:36,476 INFO Downloading http://136.156.132.153/cache-compute-0002/cache/data6/adaptor.mars.internal-1604007628.815885-31737-36-d12adf38-f995-413d-8435-ce19b2b83726.nc to download.nc (1.1G)\n",
      "2020-10-30 12:38:23,700 INFO Download rate 762.3K/s   \n"
     ]
    },
    {
     "data": {
      "text/plain": [
       "Result(content_length=1207747504,content_type=application/x-netcdf,location=http://136.156.132.153/cache-compute-0002/cache/data6/adaptor.mars.internal-1604007628.815885-31737-36-d12adf38-f995-413d-8435-ce19b2b83726.nc)"
      ]
     },
     "execution_count": 2,
     "metadata": {},
     "output_type": "execute_result"
    }
   ],
   "source": [
    "import cdsapi\n",
    "\n",
    "c = cdsapi.Client()\n",
    "\n",
    "c.retrieve(\n",
    "    'reanalysis-era5-pressure-levels',\n",
    "    {\n",
    "        'product_type': 'reanalysis',\n",
    "        'format': 'netcdf',\n",
    "        'variable': 'geopotential',\n",
    "        'pressure_level': '500',\n",
    "        'year': [\n",
    "            '1979', '1980', '1981',\n",
    "            '1982', '1983', '1984',\n",
    "            '1985', '1986', '1987',\n",
    "            '1988', '1989', '1990',\n",
    "            '1991', '1992', '1993',\n",
    "            '1994', '1995', '1996',\n",
    "            '1997', '1998', '1999',\n",
    "            '2000', '2001', '2002',\n",
    "            '2003', '2004', '2005',\n",
    "            '2006', '2007', '2008',\n",
    "            '2009', '2010', '2011',\n",
    "            '2012', '2013', '2014',\n",
    "            '2015', '2016', '2017',\n",
    "            '2018', '2019', '2020',\n",
    "        ],\n",
    "        'month': [\n",
    "            '01', '02', '03',\n",
    "            '04', '05', '06',\n",
    "            '07', '08', '09',\n",
    "            '10', '11', '12',\n",
    "        ],\n",
    "        'day': [\n",
    "            '01', '02', '03',\n",
    "            '04', '05', '06',\n",
    "            '07', '08', '09',\n",
    "            '10', '11', '12',\n",
    "            '13', '14', '15',\n",
    "            '16', '17', '18',\n",
    "            '19', '20', '21',\n",
    "            '22', '23', '24',\n",
    "            '25', '26', '27',\n",
    "            '28', '29', '30',\n",
    "            '31',\n",
    "        ],\n",
    "        'time': [\n",
    "            '00:00', '06:00', '12:00',\n",
    "            '18:00',\n",
    "        ],\n",
    "        'area': [\n",
    "            -10, -60, -25,\n",
    "            -40,\n",
    "        ],\n",
    "    },\n",
    "    'download.nc')"
   ]
  },
  {
   "cell_type": "code",
   "execution_count": 7,
   "metadata": {},
   "outputs": [
    {
     "name": "stderr",
     "output_type": "stream",
     "text": [
      "2020-10-29 20:14:22,043 INFO Welcome to the CDS\n",
      "2020-10-29 20:14:22,046 INFO Sending request to https://cds.climate.copernicus.eu/api/v2/resources/reanalysis-era5-pressure-levels\n",
      "2020-10-29 20:14:22,336 INFO Request is queued\n",
      "2020-10-29 20:14:23,547 INFO Request is running\n",
      "2020-10-29 21:51:25,994 INFO Request is completed\n",
      "2020-10-29 21:51:25,998 INFO Downloading http://136.156.133.32/cache-compute-0009/cache/data7/adaptor.mars.internal-1604013262.3912842-27634-27-d870863d-9899-48ed-8ad5-2754d51a2a91.nc to download.nc (1.1G)\n",
      "2020-10-29 22:01:27,454 INFO Download rate 1.9M/s     \n"
     ]
    },
    {
     "data": {
      "text/plain": [
       "Result(content_length=1207747516,content_type=application/x-netcdf,location=http://136.156.133.32/cache-compute-0009/cache/data7/adaptor.mars.internal-1604013262.3912842-27634-27-d870863d-9899-48ed-8ad5-2754d51a2a91.nc)"
      ]
     },
     "execution_count": 7,
     "metadata": {},
     "output_type": "execute_result"
    }
   ],
   "source": [
    "# U e V 500hPa houry\n",
    "import cdsapi\n",
    "\n",
    "c = cdsapi.Client()\n",
    "\n",
    "c.retrieve(\n",
    "    'reanalysis-era5-pressure-levels',\n",
    "    {\n",
    "        'product_type': 'reanalysis',\n",
    "        'format': 'netcdf',\n",
    "        'variable': [\n",
    "            'u_component_of_wind'\n",
    "        ],\n",
    "        'pressure_level': '500',\n",
    "        'year': [\n",
    "            '1979', '1980', '1981',\n",
    "            '1982', '1983', '1984',\n",
    "            '1985', '1986', '1987',\n",
    "            '1988', '1989', '1990',\n",
    "            '1991', '1992', '1993',\n",
    "            '1994', '1995', '1996',\n",
    "            '1997', '1998', '1999',\n",
    "            '2000', '2001', '2002',\n",
    "            '2003', '2004', '2005',\n",
    "            '2006', '2007', '2008',\n",
    "            '2009', '2010', '2011',\n",
    "            '2012', '2013', '2014',\n",
    "            '2015', '2016', '2017',\n",
    "            '2018', '2019', '2020',\n",
    "        ],\n",
    "        'month': [\n",
    "            '01', '02', '03',\n",
    "            '04', '05', '06',\n",
    "            '07', '08', '09',\n",
    "            '10', '11', '12',\n",
    "        ],\n",
    "        'day': [\n",
    "            '01', '02', '03',\n",
    "            '04', '05', '06',\n",
    "            '07', '08', '09',\n",
    "            '10', '11', '12',\n",
    "            '13', '14', '15',\n",
    "            '16', '17', '18',\n",
    "            '19', '20', '21',\n",
    "            '22', '23', '24',\n",
    "            '25', '26', '27',\n",
    "            '28', '29', '30',\n",
    "            '31',\n",
    "        ],\n",
    "        'time': [\n",
    "            '00:00', '06:00', '12:00',\n",
    "            '18:00',\n",
    "        ],\n",
    "        'area': [\n",
    "            -10, -60, -25,\n",
    "            -40,\n",
    "        ],\n",
    "    },\n",
    "    'download.nc')"
   ]
  },
  {
   "cell_type": "code",
   "execution_count": 8,
   "metadata": {},
   "outputs": [
    {
     "name": "stderr",
     "output_type": "stream",
     "text": [
      "2020-10-29 22:17:32,383 INFO Welcome to the CDS\n",
      "2020-10-29 22:17:32,386 INFO Sending request to https://cds.climate.copernicus.eu/api/v2/resources/reanalysis-era5-pressure-levels\n",
      "2020-10-29 22:17:32,666 INFO Request is queued\n",
      "2020-10-29 22:17:33,878 INFO Request is running\n",
      "2020-10-29 23:54:36,602 INFO Request is completed\n",
      "2020-10-29 23:54:36,605 INFO Downloading http://136.156.133.46/cache-compute-0015/cache/data7/adaptor.mars.internal-1604020652.816023-14786-3-3e129e75-167c-4227-8f0d-b735e9546000.nc to download.nc (1.1G)\n",
      "2020-10-30 00:08:55,522 INFO Download rate 1.3M/s     \n"
     ]
    },
    {
     "data": {
      "text/plain": [
       "Result(content_length=1207747512,content_type=application/x-netcdf,location=http://136.156.133.46/cache-compute-0015/cache/data7/adaptor.mars.internal-1604020652.816023-14786-3-3e129e75-167c-4227-8f0d-b735e9546000.nc)"
      ]
     },
     "execution_count": 8,
     "metadata": {},
     "output_type": "execute_result"
    }
   ],
   "source": [
    "#V 500hPa houry\n",
    "import cdsapi\n",
    "\n",
    "c = cdsapi.Client()\n",
    "\n",
    "c.retrieve(\n",
    "    'reanalysis-era5-pressure-levels',\n",
    "    {\n",
    "        'product_type': 'reanalysis',\n",
    "        'format': 'netcdf',\n",
    "        'variable': [\n",
    "            'v_component_of_wind'\n",
    "        ],\n",
    "        'pressure_level': '500',\n",
    "        'year': [\n",
    "            '1979', '1980', '1981',\n",
    "            '1982', '1983', '1984',\n",
    "            '1985', '1986', '1987',\n",
    "            '1988', '1989', '1990',\n",
    "            '1991', '1992', '1993',\n",
    "            '1994', '1995', '1996',\n",
    "            '1997', '1998', '1999',\n",
    "            '2000', '2001', '2002',\n",
    "            '2003', '2004', '2005',\n",
    "            '2006', '2007', '2008',\n",
    "            '2009', '2010', '2011',\n",
    "            '2012', '2013', '2014',\n",
    "            '2015', '2016', '2017',\n",
    "            '2018', '2019', '2020',\n",
    "        ],\n",
    "        'month': [\n",
    "            '01', '02', '03',\n",
    "            '04', '05', '06',\n",
    "            '07', '08', '09',\n",
    "            '10', '11', '12',\n",
    "        ],\n",
    "        'day': [\n",
    "            '01', '02', '03',\n",
    "            '04', '05', '06',\n",
    "            '07', '08', '09',\n",
    "            '10', '11', '12',\n",
    "            '13', '14', '15',\n",
    "            '16', '17', '18',\n",
    "            '19', '20', '21',\n",
    "            '22', '23', '24',\n",
    "            '25', '26', '27',\n",
    "            '28', '29', '30',\n",
    "            '31',\n",
    "        ],\n",
    "        'time': [\n",
    "            '00:00', '06:00', '12:00',\n",
    "            '18:00',\n",
    "        ],\n",
    "        'area': [\n",
    "            -10, -60, -25,\n",
    "            -40,\n",
    "        ],\n",
    "    },\n",
    "    'download.nc')"
   ]
  },
  {
   "cell_type": "code",
   "execution_count": 3,
   "metadata": {},
   "outputs": [
    {
     "name": "stderr",
     "output_type": "stream",
     "text": [
      "2020-10-30 13:04:27,573 INFO Welcome to the CDS\n",
      "2020-10-30 13:04:27,574 INFO Sending request to https://cds.climate.copernicus.eu/api/v2/resources/reanalysis-era5-pressure-levels\n",
      "2020-10-30 13:04:27,860 INFO Request is completed\n",
      "2020-10-30 13:04:27,863 INFO Downloading http://136.156.133.25/cache-compute-0008/cache/data9/adaptor.mars.internal-1604028016.586659-15138-27-6b1f81ee-e456-4d4d-96ab-644d3ffdd48a.nc to download.nc (1.1G)\n",
      "2020-10-30 13:21:20,316 INFO Download rate 1.1M/s      \n"
     ]
    },
    {
     "data": {
      "text/plain": [
       "Result(content_length=1207747512,content_type=application/x-netcdf,location=http://136.156.133.25/cache-compute-0008/cache/data9/adaptor.mars.internal-1604028016.586659-15138-27-6b1f81ee-e456-4d4d-96ab-644d3ffdd48a.nc)"
      ]
     },
     "execution_count": 3,
     "metadata": {},
     "output_type": "execute_result"
    }
   ],
   "source": [
    "#U 700hPa hourly\n",
    "import cdsapi\n",
    "\n",
    "c = cdsapi.Client()\n",
    "\n",
    "c.retrieve(\n",
    "    'reanalysis-era5-pressure-levels',\n",
    "    {\n",
    "        'product_type': 'reanalysis',\n",
    "        'format': 'netcdf',\n",
    "        'variable': [\n",
    "            'u_component_of_wind'\n",
    "        ],\n",
    "        'pressure_level': '700',\n",
    "        'year': [\n",
    "            '1979', '1980', '1981',\n",
    "            '1982', '1983', '1984',\n",
    "            '1985', '1986', '1987',\n",
    "            '1988', '1989', '1990',\n",
    "            '1991', '1992', '1993',\n",
    "            '1994', '1995', '1996',\n",
    "            '1997', '1998', '1999',\n",
    "            '2000', '2001', '2002',\n",
    "            '2003', '2004', '2005',\n",
    "            '2006', '2007', '2008',\n",
    "            '2009', '2010', '2011',\n",
    "            '2012', '2013', '2014',\n",
    "            '2015', '2016', '2017',\n",
    "            '2018', '2019', '2020',\n",
    "        ],\n",
    "        'month': [\n",
    "            '01', '02', '03',\n",
    "            '04', '05', '06',\n",
    "            '07', '08', '09',\n",
    "            '10', '11', '12',\n",
    "        ],\n",
    "        'day': [\n",
    "            '01', '02', '03',\n",
    "            '04', '05', '06',\n",
    "            '07', '08', '09',\n",
    "            '10', '11', '12',\n",
    "            '13', '14', '15',\n",
    "            '16', '17', '18',\n",
    "            '19', '20', '21',\n",
    "            '22', '23', '24',\n",
    "            '25', '26', '27',\n",
    "            '28', '29', '30',\n",
    "            '31',\n",
    "        ],\n",
    "        'time': [\n",
    "            '00:00', '06:00', '12:00',\n",
    "            '18:00',\n",
    "        ],\n",
    "        'area': [\n",
    "            -10, -60, -25,\n",
    "            -40,\n",
    "        ],\n",
    "    },\n",
    "    'download.nc')"
   ]
  },
  {
   "cell_type": "code",
   "execution_count": 1,
   "metadata": {},
   "outputs": [
    {
     "name": "stderr",
     "output_type": "stream",
     "text": [
      "2020-10-30 17:52:07,140 INFO Welcome to the CDS\n",
      "2020-10-30 17:52:07,223 INFO Sending request to https://cds.climate.copernicus.eu/api/v2/resources/reanalysis-era5-pressure-levels\n",
      "2020-10-30 17:52:07,616 INFO Request is completed\n",
      "2020-10-30 17:52:07,630 INFO Downloading http://136.156.132.110/cache-compute-0001/cache/data1/adaptor.mars.internal-1604076069.3976393-20116-17-bbfdad95-02f6-4ac8-8e32-7ed8ba7525ea.nc to download.nc (1.1G)\n",
      "2020-10-30 18:07:21,431 INFO Download rate 1.3M/s    \n"
     ]
    },
    {
     "data": {
      "text/plain": [
       "Result(content_length=1207826584,content_type=application/x-netcdf,location=http://136.156.132.110/cache-compute-0001/cache/data1/adaptor.mars.internal-1604076069.3976393-20116-17-bbfdad95-02f6-4ac8-8e32-7ed8ba7525ea.nc)"
      ]
     },
     "execution_count": 1,
     "metadata": {},
     "output_type": "execute_result"
    }
   ],
   "source": [
    "#V 700hPa hourly\n",
    "import cdsapi\n",
    "\n",
    "c = cdsapi.Client()\n",
    "\n",
    "c.retrieve(\n",
    "    'reanalysis-era5-pressure-levels',\n",
    "    {\n",
    "        'product_type': 'reanalysis',\n",
    "        'format': 'netcdf',\n",
    "        'variable': [\n",
    "            'v_component_of_wind'\n",
    "        ],\n",
    "        'pressure_level': '700',\n",
    "        'year': [\n",
    "            '1979', '1980', '1981',\n",
    "            '1982', '1983', '1984',\n",
    "            '1985', '1986', '1987',\n",
    "            '1988', '1989', '1990',\n",
    "            '1991', '1992', '1993',\n",
    "            '1994', '1995', '1996',\n",
    "            '1997', '1998', '1999',\n",
    "            '2000', '2001', '2002',\n",
    "            '2003', '2004', '2005',\n",
    "            '2006', '2007', '2008',\n",
    "            '2009', '2010', '2011',\n",
    "            '2012', '2013', '2014',\n",
    "            '2015', '2016', '2017',\n",
    "            '2018', '2019', '2020',\n",
    "        ],\n",
    "        'month': [\n",
    "            '01', '02', '03',\n",
    "            '04', '05', '06',\n",
    "            '07', '08', '09',\n",
    "            '10', '11', '12',\n",
    "        ],\n",
    "        'day': [\n",
    "            '01', '02', '03',\n",
    "            '04', '05', '06',\n",
    "            '07', '08', '09',\n",
    "            '10', '11', '12',\n",
    "            '13', '14', '15',\n",
    "            '16', '17', '18',\n",
    "            '19', '20', '21',\n",
    "            '22', '23', '24',\n",
    "            '25', '26', '27',\n",
    "            '28', '29', '30',\n",
    "            '31',\n",
    "        ],\n",
    "        'time': [\n",
    "            '00:00', '06:00', '12:00',\n",
    "            '18:00',\n",
    "        ],\n",
    "        'area': [\n",
    "            -10, -60, -25,\n",
    "            -40,\n",
    "        ],\n",
    "    },\n",
    "    'download.nc')"
   ]
  },
  {
   "cell_type": "code",
   "execution_count": 1,
   "metadata": {},
   "outputs": [
    {
     "name": "stderr",
     "output_type": "stream",
     "text": [
      "2020-10-31 15:19:15,366 INFO Welcome to the CDS\n",
      "2020-10-31 15:19:15,373 INFO Sending request to https://cds.climate.copernicus.eu/api/v2/resources/reanalysis-era5-pressure-levels\n",
      "2020-10-31 15:19:15,773 INFO Request is completed\n",
      "2020-10-31 15:19:15,773 INFO Downloading http://136.156.132.236/cache-compute-0007/cache/data4/adaptor.mars.internal-1604079312.762856-1313-37-73663755-18aa-4398-98be-04e976116652.nc to download.nc (1.1G)\n",
      "2020-10-31 15:27:33,275 INFO Download rate 2.3M/s                                                                      \n"
     ]
    },
    {
     "data": {
      "text/plain": [
       "Result(content_length=1207826584,content_type=application/x-netcdf,location=http://136.156.132.236/cache-compute-0007/cache/data4/adaptor.mars.internal-1604079312.762856-1313-37-73663755-18aa-4398-98be-04e976116652.nc)"
      ]
     },
     "execution_count": 1,
     "metadata": {},
     "output_type": "execute_result"
    }
   ],
   "source": [
    "#U hourly 850hPa\n",
    "import cdsapi\n",
    "\n",
    "c = cdsapi.Client()\n",
    "\n",
    "c.retrieve(\n",
    "    'reanalysis-era5-pressure-levels',\n",
    "    {\n",
    "        'product_type': 'reanalysis',\n",
    "        'format': 'netcdf',\n",
    "        'variable': [\n",
    "            'u_component_of_wind'\n",
    "        ],\n",
    "        'pressure_level': '850',\n",
    "        'year': [\n",
    "            '1979', '1980', '1981',\n",
    "            '1982', '1983', '1984',\n",
    "            '1985', '1986', '1987',\n",
    "            '1988', '1989', '1990',\n",
    "            '1991', '1992', '1993',\n",
    "            '1994', '1995', '1996',\n",
    "            '1997', '1998', '1999',\n",
    "            '2000', '2001', '2002',\n",
    "            '2003', '2004', '2005',\n",
    "            '2006', '2007', '2008',\n",
    "            '2009', '2010', '2011',\n",
    "            '2012', '2013', '2014',\n",
    "            '2015', '2016', '2017',\n",
    "            '2018', '2019', '2020',\n",
    "        ],\n",
    "        'month': [\n",
    "            '01', '02', '03',\n",
    "            '04', '05', '06',\n",
    "            '07', '08', '09',\n",
    "            '10', '11', '12',\n",
    "        ],\n",
    "        'day': [\n",
    "            '01', '02', '03',\n",
    "            '04', '05', '06',\n",
    "            '07', '08', '09',\n",
    "            '10', '11', '12',\n",
    "            '13', '14', '15',\n",
    "            '16', '17', '18',\n",
    "            '19', '20', '21',\n",
    "            '22', '23', '24',\n",
    "            '25', '26', '27',\n",
    "            '28', '29', '30',\n",
    "            '31',\n",
    "        ],\n",
    "        'time': [\n",
    "            '00:00', '06:00', '12:00',\n",
    "            '18:00',\n",
    "        ],\n",
    "        'area': [\n",
    "            -10, -60, -25,\n",
    "            -40,\n",
    "        ],\n",
    "    },\n",
    "    'download.nc')"
   ]
  },
  {
   "cell_type": "code",
   "execution_count": 2,
   "metadata": {},
   "outputs": [
    {
     "name": "stderr",
     "output_type": "stream",
     "text": [
      "2020-10-31 16:06:44,629 INFO Welcome to the CDS\n",
      "2020-10-31 16:06:44,632 INFO Sending request to https://cds.climate.copernicus.eu/api/v2/resources/reanalysis-era5-pressure-levels\n",
      "2020-10-31 16:06:45,115 INFO Request is completed\n",
      "2020-10-31 16:06:45,131 INFO Downloading http://136.156.132.198/cache-compute-0003/cache/data4/adaptor.mars.internal-1604079364.515185-20206-7-46a15f0a-306e-4b22-bd5b-0feb499aeecc.nc to download.nc (1.1G)\n",
      "2020-10-31 16:20:14,469 INFO Download rate 1.4M/s                                                                      \n"
     ]
    },
    {
     "data": {
      "text/plain": [
       "Result(content_length=1207826584,content_type=application/x-netcdf,location=http://136.156.132.198/cache-compute-0003/cache/data4/adaptor.mars.internal-1604079364.515185-20206-7-46a15f0a-306e-4b22-bd5b-0feb499aeecc.nc)"
      ]
     },
     "execution_count": 2,
     "metadata": {},
     "output_type": "execute_result"
    }
   ],
   "source": [
    "#V hourly 850hPa\n",
    "import cdsapi\n",
    "\n",
    "c = cdsapi.Client()\n",
    "\n",
    "c.retrieve(\n",
    "    'reanalysis-era5-pressure-levels',\n",
    "    {\n",
    "        'product_type': 'reanalysis',\n",
    "        'format': 'netcdf',\n",
    "        'variable': [\n",
    "            'v_component_of_wind'\n",
    "        ],\n",
    "        'pressure_level': '850',\n",
    "        'year': [\n",
    "            '1979', '1980', '1981',\n",
    "            '1982', '1983', '1984',\n",
    "            '1985', '1986', '1987',\n",
    "            '1988', '1989', '1990',\n",
    "            '1991', '1992', '1993',\n",
    "            '1994', '1995', '1996',\n",
    "            '1997', '1998', '1999',\n",
    "            '2000', '2001', '2002',\n",
    "            '2003', '2004', '2005',\n",
    "            '2006', '2007', '2008',\n",
    "            '2009', '2010', '2011',\n",
    "            '2012', '2013', '2014',\n",
    "            '2015', '2016', '2017',\n",
    "            '2018', '2019', '2020',\n",
    "        ],\n",
    "        'month': [\n",
    "            '01', '02', '03',\n",
    "            '04', '05', '06',\n",
    "            '07', '08', '09',\n",
    "            '10', '11', '12',\n",
    "        ],\n",
    "        'day': [\n",
    "            '01', '02', '03',\n",
    "            '04', '05', '06',\n",
    "            '07', '08', '09',\n",
    "            '10', '11', '12',\n",
    "            '13', '14', '15',\n",
    "            '16', '17', '18',\n",
    "            '19', '20', '21',\n",
    "            '22', '23', '24',\n",
    "            '25', '26', '27',\n",
    "            '28', '29', '30',\n",
    "            '31',\n",
    "        ],\n",
    "        'time': [\n",
    "            '00:00', '06:00', '12:00',\n",
    "            '18:00',\n",
    "        ],\n",
    "        'area': [\n",
    "            -10, -60, -25,\n",
    "            -40,\n",
    "        ],\n",
    "    },\n",
    "    'download.nc')"
   ]
  },
  {
   "cell_type": "code",
   "execution_count": null,
   "metadata": {},
   "outputs": [],
   "source": []
  }
 ],
 "metadata": {
  "kernelspec": {
   "display_name": "Python 3",
   "language": "python",
   "name": "python3"
  },
  "language_info": {
   "codemirror_mode": {
    "name": "ipython",
    "version": 3
   },
   "file_extension": ".py",
   "mimetype": "text/x-python",
   "name": "python",
   "nbconvert_exporter": "python",
   "pygments_lexer": "ipython3",
   "version": "3.8.5"
  }
 },
 "nbformat": 4,
 "nbformat_minor": 4
}

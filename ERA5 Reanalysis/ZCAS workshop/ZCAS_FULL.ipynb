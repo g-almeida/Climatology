{
 "cells": [
  {
   "cell_type": "code",
   "execution_count": null,
   "metadata": {},
   "outputs": [],
   "source": [
    "pip install mygrads"
   ]
  },
  {
   "cell_type": "code",
   "execution_count": null,
   "metadata": {},
   "outputs": [],
   "source": [
    "import sys\n",
    "sys.path.append('C:\\\\Users\\\\Gabriel\\\\GitHub\\\\bloqueios')\n",
    "import newBlock as nb\n",
    "import xarray as xr\n",
    "import pandas as pd\n",
    "import numpy as np\n",
    "import matplotlib as mpl\n",
    "import matplotlib.pyplot as plt\n",
    "import matplotlib.ticker as mticker\n",
    "import matplotlib.patches as mpatches\n",
    "from cartopy.mpl.gridliner import LONGITUDE_FORMATTER, LATITUDE_FORMATTER\n",
    "from mpl_toolkits.axes_grid1 import make_axes_locatable\n",
    "import seaborn as sns\n",
    "import cartopy\n",
    "import cartopy.crs as ccrs\n",
    "import cartopy.feature as cfeature\n",
    "from cartopy.mpl.ticker import LongitudeFormatter, LatitudeFormatter\n",
    "from cartopy.util import add_cyclic_point\n",
    "from datetime import datetime\n",
    "import os\n",
    "import seaborn as sns\n",
    "import metpy.calc as mpcalc\n",
    "import re\n",
    "import calendar\n",
    "from matplotlib.offsetbox import AnchoredText\n",
    "import mygrads as mg\n",
    "sns.set()"
   ]
  },
  {
   "cell_type": "code",
   "execution_count": null,
   "metadata": {},
   "outputs": [],
   "source": [
    "teste = nb.dataset('D:/_Gabriel/Estudo/UFF/Bloqueios_Atmosfericos/ZCAS/multiVarsSingleLevel.nc','ERA-5')\n",
    "teste.dataset"
   ]
  },
  {
   "cell_type": "code",
   "execution_count": null,
   "metadata": {},
   "outputs": [],
   "source": [
    "teste2 = nb.dataset('D:/_Gabriel/Estudo/UFF/Bloqueios_Atmosfericos/ZCAS/multiVarsZCAS.nc','ERA-5')\n",
    "t2 = teste2.dataset.sel(level=200)"
   ]
  },
  {
   "cell_type": "code",
   "execution_count": null,
   "metadata": {},
   "outputs": [],
   "source": [
    "t2.sel(time=slice('1979-12-04','2009-12-09')).mean(axis=0).uwnd"
   ]
  },
  {
   "cell_type": "code",
   "execution_count": null,
   "metadata": {},
   "outputs": [],
   "source": [
    "mg.hdivg(t2.sel(time=slice('1979-12-04','1979-12-09')).mean(axis=0).uwnd.values, t2.sel(time=slice('1979-12-04','1979-12-09')).mean(axis=0).vwnd.values, t2.lat.values, t2.lon.values) *10**5 "
   ]
  },
  {
   "cell_type": "code",
   "execution_count": null,
   "metadata": {},
   "outputs": [],
   "source": [
    "teste2.dataset"
   ]
  },
  {
   "cell_type": "code",
   "execution_count": null,
   "metadata": {},
   "outputs": [],
   "source": [
    "t.sel(time=slice('1979-12-04','1979-12-09')).mean(axis =0)"
   ]
  },
  {
   "cell_type": "markdown",
   "metadata": {},
   "source": [
    "# Setting Data"
   ]
  },
  {
   "cell_type": "code",
   "execution_count": null,
   "metadata": {},
   "outputs": [],
   "source": [
    "tempoAnalise = ['2009-12-04','2009-12-09']\n",
    "tempoBase = ['1979-12-04','2019-12-09']"
   ]
  },
  {
   "cell_type": "code",
   "execution_count": null,
   "metadata": {},
   "outputs": [],
   "source": [
    "def data(var, level, tempo):\n",
    "    if level == None:\n",
    "        dados = nb.dataset('D:/_Gabriel/Estudo/UFF/Bloqueios_Atmosfericos/ZCAS/multiVarsSingleLevel.nc','ERA-5')\n",
    "    else:\n",
    "        dados = nb.dataset('D:/_Gabriel/Estudo/UFF/Bloqueios_Atmosfericos/ZCAS/multiVarsZCAS.nc', 'ERA-5')\n",
    "        dados = dados.formatar(level = level)\n",
    "    uwnd = dados.dataset.sel(time=slice(tempo[0],tempo[1])).mean(axis=0).uwnd.values\n",
    "    vwnd = dados.dataset.sel(time=slice(tempo[0],tempo[1])).mean(axis=0).vwnd.values\n",
    "    \n",
    "    if var == 'hgt':\n",
    "        dados = dados.dataset.hgt / 9.81\n",
    "        dados = dados.sel(time=slice(tempo[0],tempo[1])).mean(axis=0)\n",
    "    elif var == 'uwnd':\n",
    "        dados = dados.dataset.uwnd\n",
    "        dados = dados.sel(time=slice(tempo[0],tempo[1])).mean(axis=0)\n",
    "    elif var == 'vwnd':\n",
    "        dados = dados.dataset.vwnd\n",
    "        dados = dados.sel(time=slice(tempo[0],tempo[1])).mean(axis=0)\n",
    "    elif var == 'w':\n",
    "        dados = dados.dataset.w\n",
    "        dados = dados.sel(time=slice(tempo[0],tempo[1])).mean(axis=0)\n",
    "    elif var == 'msl':\n",
    "        dados = dados.dataset.msl\n",
    "        dados = dados.sel(time=slice(tempo[0],tempo[1])).mean(axis=0)\n",
    "    elif var == 'ttr':\n",
    "        dados = dados.dataset.ttr\n",
    "        dados = dados.sel(time=slice(tempo[0],tempo[1])).mean(axis=0)\n",
    "    \n",
    "    lons = dados.lon.values\n",
    "    lats = dados.lat.values\n",
    "    \n",
    "    return lons, lats, dados, uwnd, vwnd"
   ]
  },
  {
   "cell_type": "code",
   "execution_count": null,
   "metadata": {},
   "outputs": [],
   "source": [
    "def div(var, level, tempo):\n",
    "    dados = nb.dataset('D:/_Gabriel/Estudo/UFF/Bloqueios_Atmosfericos/ZCAS/multiVarsZCAS.nc', 'ERA-5')\n",
    "    dados2 = dados.formatar(level = level)\n",
    "    uwnd = dados2.dataset.sel(time=slice(tempo[0],tempo[1])).mean(axis=0).uwnd.values\n",
    "    vwnd = dados2.dataset.sel(time=slice(tempo[0],tempo[1])).mean(axis=0).vwnd.values\n",
    "   \n",
    "    #dados3 = dados2.dataset.sel(time=slice(tempo[0],tempo[1])).mean(axis=0)\n",
    "    \n",
    "    div = mg.hdivg(uwnd, vwnd, dados2.dataset.lat.values, dados2.dataset.lon.values) *10**5 \n",
    "    \n",
    "    lons = dados2.dataset.lon.values\n",
    "    lats = dados2.dataset.lat.values\n",
    "    \n",
    "    return lons, lats, div, uwnd, vwnd"
   ]
  },
  {
   "cell_type": "code",
   "execution_count": null,
   "metadata": {},
   "outputs": [],
   "source": [
    "def vort(var, level, tempo):\n",
    "    dados = nb.dataset('D:/_Gabriel/Estudo/UFF/Bloqueios_Atmosfericos/ZCAS/multiVarsZCAS.nc', 'ERA-5')\n",
    "    dados2 = dados.formatar(level = level)\n",
    "    uwnd = dados2.dataset.sel(time=slice(tempo[0],tempo[1])).mean(axis=0).uwnd.values\n",
    "    vwnd = dados2.dataset.sel(time=slice(tempo[0],tempo[1])).mean(axis=0).vwnd.values\n",
    "   \n",
    "    #dados3 = dados2.dataset.sel(time=slice(tempo[0],tempo[1])).mean(axis=0)\n",
    "    \n",
    "    vort = mg.hcurl(uwnd, vwnd, dados2.dataset.lat.values, dados2.dataset.lon.values) *10**5 \n",
    "    \n",
    "    lons = dados2.dataset.lon.values\n",
    "    lats = dados2.dataset.lat.values\n",
    "    \n",
    "    return lons, lats, vort, uwnd, vwnd"
   ]
  },
  {
   "cell_type": "code",
   "execution_count": null,
   "metadata": {},
   "outputs": [],
   "source": [
    "def figuraComp(var, level, periodoBase, periodo, title):\n",
    "    fig, ax = plt.subplots(nrows=1, ncols=2, subplot_kw=dict(projection = ccrs.PlateCarree()), figsize=(32,26))\n",
    "    fig.suptitle(title, style ='oblique', fontsize=34, weight='bold', y = 0.72, x = 0.505)\n",
    "    \n",
    "    plotComp(ax[0], var, level, periodoBase)\n",
    "    plotComp(ax[1], var, level, periodo)\n",
    "    "
   ]
  },
  {
   "cell_type": "code",
   "execution_count": null,
   "metadata": {},
   "outputs": [],
   "source": [
    "def plotComp(ax, var, level, tempo):\n",
    "    if var == 'div':\n",
    "        lons, lats, valor, uwnd, vwnd = div(var, level, tempo)\n",
    "    elif var == 'vort':\n",
    "        lons, lats, valor, uwnd, vwnd = vort(var, level, tempo)\n",
    "    else:\n",
    "        lons, lats, valor, uwnd, vwnd = data(var, level, tempo)\n",
    "    \n",
    "    #clevs = np.arange(11000, 13000, 150)\n",
    "    cf = ax.contourf(lons, lats, valor, extend='both', cmap = 'Spectral_r', transform=ccrs.PlateCarree())\n",
    "    if level != None:\n",
    "        x = lons[::10]\n",
    "        y = lats[::10]\n",
    "        #brb = ax.barbs(x, y, uwnd, vwnd, length=7, cmap = 'jet_r', linewidth =15)\n",
    "        q = ax.quiver(x,y, u = uwnd[::10,::10], v= vwnd[::10,::10],\n",
    "                  transform=ccrs.PlateCarree(), color='k',width=0.004, minlength=0.1)\n",
    "        qk = ax.quiverkey(q, 1.1, 0.98, 20, r'20 m/s', labelpos='E')\n",
    "    \n",
    "    cbar = plt.colorbar(cf, orientation='horizontal', pad=0.05 , ax=ax, shrink = 1.0, aspect=40)\n",
    "    cbar.ax.tick_params(labelsize=20)\n",
    "    #cbar.set_label(\"W / m²\", fontsize = 20, y = 0.3)\n",
    "    \n",
    "    gl = ax.gridlines(crs=ccrs.PlateCarree(), draw_labels=True, linewidth=1, color='black', alpha=0.3, linestyle='--')\n",
    "    gl.xlabels_top = False\n",
    "    gl.ylabels_left = True\n",
    "    gl.ylabels_right = False\n",
    "    gl.ylines = True\n",
    "    gl.xlines = True\n",
    "    #gl.xlocator = mticker.FixedLocator(np.arange(-70, 50, 20)) #-70,50,20\n",
    "    gl.xformatter = LONGITUDE_FORMATTER\n",
    "    gl.yformatter = LATITUDE_FORMATTER\n",
    "    gl.xlabel_style = {'size': 20}\n",
    "    gl.ylabel_style = {'size': 20}\n",
    "    \n",
    "    plt.tight_layout()\n",
    "    ax.coastlines('50m')\n",
    "    #ax.set_extent([-70, 20, -50, 10])\n",
    "    ax.set_title(var, fontdict={'fontsize': 35}, loc = 'left', style ='oblique', weight='bold', pad = 10)\n",
    "    ax.set_title('Média de ' + tempo[0] + ' ' + tempo[1], fontdict={'fontsize': 35}, loc = 'right', pad = 10)"
   ]
  },
  {
   "cell_type": "code",
   "execution_count": null,
   "metadata": {},
   "outputs": [],
   "source": [
    "levels = [200, 500, 850]\n",
    "variaveis1 = ['uwnd','vwnd','w','hgt']\n",
    "variaveis2 = ['msl','ttr']\n",
    "vortdiv = ['div', 'vort']"
   ]
  },
  {
   "cell_type": "code",
   "execution_count": null,
   "metadata": {},
   "outputs": [],
   "source": [
    "figuraComp(var = 'vort', level = 200, periodoBase= tempoBase, periodo = tempoAnalise, title ='Comparativo da climatologia (1979 - 2019) e 2009' )"
   ]
  },
  {
   "cell_type": "code",
   "execution_count": null,
   "metadata": {},
   "outputs": [],
   "source": [
    "for variavel in vortdiv:\n",
    "    for cada in levels:\n",
    "        figuraComp(var = variavel,level = cada, periodoBase = tempoBase, periodo = tempoAnalise, title = 'Comparativo da climatologia (1979 - 2019) e 2009')\n",
    "        plt.savefig('D:/_Gabriel/Estudo/UFF/Bloqueios_Atmosfericos/ZCAS/exercício2/' + variavel + str(cada) +'Comp.png')"
   ]
  },
  {
   "cell_type": "code",
   "execution_count": null,
   "metadata": {},
   "outputs": [],
   "source": [
    "for variavel in variaveis1:\n",
    "    for cada in levels:\n",
    "        figuraComp(var = variavel,level = cada, periodoBase = tempoBase, periodo = tempoAnalise, title = 'Comparativo da climatologia (1979 - 2019) e 2009')\n",
    "        plt.savefig('D:/_Gabriel/Estudo/UFF/Bloqueios_Atmosfericos/ZCAS/exercício2/' + variavel + str(cada) +'Comp.png')"
   ]
  },
  {
   "cell_type": "code",
   "execution_count": null,
   "metadata": {},
   "outputs": [],
   "source": [
    "for variavel in variaveis2:\n",
    "    figuraComp(var = variavel,level = None, periodoBase = tempoBase, periodo = tempoAnalise, title = 'Comparativo da climatologia (1979 - 2019) e 2009')\n",
    "    plt.savefig('D:/_Gabriel/Estudo/UFF/Bloqueios_Atmosfericos/ZCAS/exercício2/' + variavel +'Comp.png')"
   ]
  },
  {
   "cell_type": "markdown",
   "metadata": {},
   "source": [
    "# Anomalia"
   ]
  },
  {
   "cell_type": "code",
   "execution_count": null,
   "metadata": {},
   "outputs": [],
   "source": [
    "def figuraAnom(var, level, periodoBase, periodo, title):\n",
    "    fig, ax = plt.subplots(nrows=1, ncols=1, subplot_kw=dict(projection = ccrs.PlateCarree()), figsize=(32,26))\n",
    "    fig.suptitle(title, style ='oblique', fontsize=34, weight='bold', y = 0.95, x = 0.505)\n",
    "    \n",
    "    plotAnom(ax, var, level, periodoBase, periodo)"
   ]
  },
  {
   "cell_type": "code",
   "execution_count": null,
   "metadata": {},
   "outputs": [],
   "source": [
    "def plotAnom(ax, var, level, periodoBase, periodo):\n",
    "    if var == 'div':\n",
    "        lons, lats, valorBase, uwnd, vwnd = div(var, level, periodoBase)\n",
    "        lons, lats, valorAnalise, uwnd, vwnd = div(var, level, periodo)\n",
    "    elif var == 'vort':\n",
    "        lons, lats, valorBase, uwnd, vwnd = vort(var, level, periodoBase)\n",
    "        lons, lats, valorAnalise, uwnd, vwnd = div(var, level, periodo)\n",
    "    else:\n",
    "        lons, lats, valorBase, uwnd, vwnd = data(var, level, periodoBase)\n",
    "        lons, lats, valorAnalise, uwnd, vwnd = div(var, level, periodo)\n",
    "    \n",
    "    anom = valorAnalise - valorBase\n",
    "    \n",
    "    #clevs = np.arange(11000, 13000, 150)\n",
    "    cf = ax.contourf(lons, lats, anom, extend='both', cmap = 'RdBu_r', transform=ccrs.PlateCarree())\n",
    "    \n",
    "    if level != None:\n",
    "        x = lons[::10]\n",
    "        y = lats[::10]\n",
    "        #brb = ax.barbs(x, y, uwnd, vwnd, length=7, cmap = 'jet_r', linewidth =15)\n",
    "        q = ax.quiver(x,y, u = uwnd[::10,::10], v= vwnd[::10,::10],\n",
    "                  transform=ccrs.PlateCarree(), color='k',width=0.002, minlength=0.1)\n",
    "        qk = ax.quiverkey(q, 1.1, 0.98, 20, r'20 m/s', labelpos='E')\n",
    "    \n",
    "    \n",
    "    cbar = plt.colorbar(cf, orientation='horizontal', pad=0.05 , ax=ax, shrink = 1.0, aspect=40)\n",
    "    cbar.ax.tick_params(labelsize=20)\n",
    "    #cbar.set_label(\"W / m²\", fontsize = 20, y = 0.3)\n",
    "    \n",
    "    gl = ax.gridlines(crs=ccrs.PlateCarree(), draw_labels=True, linewidth=1, color='black', alpha=0.3, linestyle='--')\n",
    "    gl.xlabels_top = False\n",
    "    gl.ylabels_left = True\n",
    "    gl.ylabels_right = False\n",
    "    gl.ylines = True\n",
    "    gl.xlines = True\n",
    "    #gl.xlocator = mticker.FixedLocator(np.arange(-70, 50, 20)) #-70,50,20\n",
    "    gl.xformatter = LONGITUDE_FORMATTER\n",
    "    gl.yformatter = LATITUDE_FORMATTER\n",
    "    gl.xlabel_style = {'size': 20}\n",
    "    gl.ylabel_style = {'size': 20}\n",
    "    \n",
    "    plt.tight_layout()\n",
    "    ax.coastlines('50m')\n",
    "    #ax.set_extent([-70, 20, -50, 10])\n",
    "    ax.set_title(var, fontdict={'fontsize': 35}, loc = 'right', style ='oblique', weight='bold', pad = 10)\n",
    "    #ax.set_title('Anomalia de 2009', fontdict={'fontsize': 35}, loc = 'right', pad = 10)"
   ]
  },
  {
   "cell_type": "code",
   "execution_count": null,
   "metadata": {},
   "outputs": [],
   "source": [
    "for variavel in variaveis2:\n",
    "    figuraAnom(var = variavel, level = None, periodoBase = tempoBase, periodo = tempoAnalise, title='Anomalia de 2009 relativa à climatologia (1979-2019)')\n",
    "    plt.savefig('D:/_Gabriel/Estudo/UFF/Bloqueios_Atmosfericos/ZCAS/exercício2/' + variavel +'Anom.png')"
   ]
  },
  {
   "cell_type": "code",
   "execution_count": null,
   "metadata": {},
   "outputs": [],
   "source": [
    "for variavel in variaveis1:\n",
    "    for cada in levels:\n",
    "        figuraAnom(var = variavel, level = cada, periodoBase = tempoBase, periodo = tempoAnalise, title='Anomalia de 2009 relativa à climatologia (1979-2019)')\n",
    "        plt.savefig('D:/_Gabriel/Estudo/UFF/Bloqueios_Atmosfericos/ZCAS/exercício2/' + variavel + str(cada) + 'Anom.png')"
   ]
  },
  {
   "cell_type": "code",
   "execution_count": null,
   "metadata": {},
   "outputs": [],
   "source": [
    "for variavel in vortdiv:\n",
    "    for cada in levels:\n",
    "        figuraAnom(var = variavel, level = cada, periodoBase = tempoBase, periodo = tempoAnalise, title='Anomalia de 2009 relativa à climatologia (1979-2019)')\n",
    "        plt.savefig('D:/_Gabriel/Estudo/UFF/Bloqueios_Atmosfericos/ZCAS/exercício2/' + variavel + str(cada) + 'Anom.png')"
   ]
  },
  {
   "cell_type": "code",
   "execution_count": null,
   "metadata": {},
   "outputs": [],
   "source": []
  }
 ],
 "metadata": {
  "kernelspec": {
   "display_name": "Python 3",
   "language": "python",
   "name": "python3"
  },
  "language_info": {
   "codemirror_mode": {
    "name": "ipython",
    "version": 3
   },
   "file_extension": ".py",
   "mimetype": "text/x-python",
   "name": "python",
   "nbconvert_exporter": "python",
   "pygments_lexer": "ipython3",
   "version": "3.8.5"
  }
 },
 "nbformat": 4,
 "nbformat_minor": 4
}

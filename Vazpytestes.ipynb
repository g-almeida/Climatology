{
 "cells": [
  {
   "cell_type": "markdown",
   "metadata": {},
   "source": [
    "## Vazpy tests"
   ]
  },
  {
   "cell_type": "code",
   "execution_count": 1,
   "metadata": {},
   "outputs": [],
   "source": [
    "import vazpy as vz"
   ]
  },
  {
   "cell_type": "code",
   "execution_count": 2,
   "metadata": {},
   "outputs": [
    {
     "data": {
      "text/plain": [
       "[<xarray.Dataset>\n",
       " Dimensions:  (time: 14611)\n",
       " Coordinates:\n",
       "   * time     (time) datetime64[ns] 1979-01-01 1979-01-02 ... 2019-01-01\n",
       " Data variables:\n",
       "     246      (time) int64 11588 18224 14928 10183 6820 ... 6125 6380 6740 7064\n",
       "     34       (time) int64 8631 15140 11877 7269 5272 ... 4510 4807 5064 5465\n",
       "     237      (time) int64 891 422 420 219 252 294 ... 368 304 255 326 294 216\n",
       "     240      (time) int64 1718 773 618 518 530 543 ... 667 697 617 524 505 531\n",
       "     33       (time) int64 3511 8280 5512 3760 2905 ... 2035 2134 2294 2513 2727\n",
       "     24       (time) int64 805 2318 1228 824 649 591 ... 317 343 395 500 615 673\n",
       "     6        (time) int64 1569 2325 1754 1070 917 854 ... 995 1001 978 934 888\n",
       "     18       (time) int64 3533 4629 5172 2689 1796 ... 1778 1868 1967 2058 2203\n",
       "     156      (time) int64 1227 5583 2817 1048 1041 977 ... 483 573 626 621 849\n",
       "     168      (time) int64 4415 5797 12332 7714 3306 ... 1393 1209 1072 980 908\n",
       "     275      (time) int64 11766 32062 40333 33939 25245 ... 7864 7908 8013 8078\n",
       "     287      (time) int64 26844 31031 35562 42629 ... 30813 29945 30342 29938\n",
       "     285      (time) int64 26921 31129 34756 42201 ... 29471 29908 29539 28658\n",
       "     190      (time) int64 553 914 997 731 1085 420 ... 265 259 271 284 295 295\n",
       "     254      (time) int64 85 162 257 63 85 115 62 28 ... 43 38 34 30 27 25 23 21,\n",
       " <xarray.Dataset>\n",
       " Dimensions:  (time: 14611)\n",
       " Coordinates:\n",
       "   * time     (time) datetime64[ns] 1979-01-01 1979-01-02 ... 2019-01-01\n",
       " Data variables:\n",
       "     111      (time) int64 90 49 139 65 68 95 89 ... 301 296 296 289 278 250 225\n",
       "     217      (time) int64 462 68 145 113 241 616 256 ... 600 568 536 492 436 394\n",
       "     74       (time) int64 521 137 271 134 185 1014 ... 409 415 368 321 291 282\n",
       "     78       (time) int64 652 175 550 172 291 1433 ... 566 599 613 593 553 518\n",
       "     66       (time) int64 13311 15225 18467 11427 8604 ... 8912 9078 9193 9346\n",
       "     63       (time) int64 1428 809 661 548 381 1315 ... 1154 1125 1090 1051 1004\n",
       "     61       (time) int64 947 657 427 311 369 876 ... 929 929 899 862 812 755]"
      ]
     },
     "execution_count": 2,
     "metadata": {},
     "output_type": "execute_result"
    }
   ],
   "source": [
    "vazoes = vz.vazoes('D:/_Gabriel/Estudo/UFF/Bloqueios_Atmosfericos/CSVs/vazoesdiarias.csv')\n",
    "vazoes"
   ]
  },
  {
   "cell_type": "code",
   "execution_count": 3,
   "metadata": {},
   "outputs": [
    {
     "name": "stderr",
     "output_type": "stream",
     "text": [
      "C:\\Users\\gabri\\miniconda3\\envs\\gab\\lib\\site-packages\\xarray\\core\\common.py:1123: FutureWarning: 'base' in .resample() and in Grouper() is deprecated.\n",
      "The new arguments that you should use are 'offset' or 'origin'.\n",
      "\n",
      ">>> df.resample(freq=\"3s\", base=2)\n",
      "\n",
      "becomes:\n",
      "\n",
      ">>> df.resample(freq=\"3s\", offset=\"2s\")\n",
      "\n",
      "  grouper = pd.Grouper(\n"
     ]
    },
    {
     "data": {
      "text/html": [
       "<div>\n",
       "<style scoped>\n",
       "    .dataframe tbody tr th:only-of-type {\n",
       "        vertical-align: middle;\n",
       "    }\n",
       "\n",
       "    .dataframe tbody tr th {\n",
       "        vertical-align: top;\n",
       "    }\n",
       "\n",
       "    .dataframe thead th {\n",
       "        text-align: right;\n",
       "    }\n",
       "</style>\n",
       "<table border=\"1\" class=\"dataframe\">\n",
       "  <thead>\n",
       "    <tr style=\"text-align: right;\">\n",
       "      <th></th>\n",
       "      <th>Furnas</th>\n",
       "      <th>Sobradinho</th>\n",
       "    </tr>\n",
       "    <tr>\n",
       "      <th>time</th>\n",
       "      <th></th>\n",
       "      <th></th>\n",
       "    </tr>\n",
       "  </thead>\n",
       "  <tbody>\n",
       "    <tr>\n",
       "      <th>1979-01-01</th>\n",
       "      <td>0.342002</td>\n",
       "      <td>0.498832</td>\n",
       "    </tr>\n",
       "    <tr>\n",
       "      <th>1979-02-01</th>\n",
       "      <td>0.558291</td>\n",
       "      <td>0.630731</td>\n",
       "    </tr>\n",
       "    <tr>\n",
       "      <th>1979-03-01</th>\n",
       "      <td>0.340529</td>\n",
       "      <td>1.000000</td>\n",
       "    </tr>\n",
       "    <tr>\n",
       "      <th>1979-10-01</th>\n",
       "      <td>0.169981</td>\n",
       "      <td>0.270475</td>\n",
       "    </tr>\n",
       "    <tr>\n",
       "      <th>1979-11-01</th>\n",
       "      <td>0.236271</td>\n",
       "      <td>0.404450</td>\n",
       "    </tr>\n",
       "    <tr>\n",
       "      <th>...</th>\n",
       "      <td>...</td>\n",
       "      <td>...</td>\n",
       "    </tr>\n",
       "    <tr>\n",
       "      <th>2018-03-01</th>\n",
       "      <td>0.153000</td>\n",
       "      <td>0.167327</td>\n",
       "    </tr>\n",
       "    <tr>\n",
       "      <th>2018-10-01</th>\n",
       "      <td>0.118133</td>\n",
       "      <td>0.050142</td>\n",
       "    </tr>\n",
       "    <tr>\n",
       "      <th>2018-11-01</th>\n",
       "      <td>0.193991</td>\n",
       "      <td>0.115708</td>\n",
       "    </tr>\n",
       "    <tr>\n",
       "      <th>2018-12-01</th>\n",
       "      <td>0.162871</td>\n",
       "      <td>0.165531</td>\n",
       "    </tr>\n",
       "    <tr>\n",
       "      <th>2019-01-01</th>\n",
       "      <td>0.231927</td>\n",
       "      <td>0.093131</td>\n",
       "    </tr>\n",
       "  </tbody>\n",
       "</table>\n",
       "<p>241 rows × 2 columns</p>\n",
       "</div>"
      ],
      "text/plain": [
       "              Furnas  Sobradinho\n",
       "time                            \n",
       "1979-01-01  0.342002    0.498832\n",
       "1979-02-01  0.558291    0.630731\n",
       "1979-03-01  0.340529    1.000000\n",
       "1979-10-01  0.169981    0.270475\n",
       "1979-11-01  0.236271    0.404450\n",
       "...              ...         ...\n",
       "2018-03-01  0.153000    0.167327\n",
       "2018-10-01  0.118133    0.050142\n",
       "2018-11-01  0.193991    0.115708\n",
       "2018-12-01  0.162871    0.165531\n",
       "2019-01-01  0.231927    0.093131\n",
       "\n",
       "[241 rows x 2 columns]"
      ]
     },
     "execution_count": 3,
     "metadata": {},
     "output_type": "execute_result"
    }
   ],
   "source": [
    "vz.dfvazoes('D:/_Gabriel/Estudo/UFF/Bloqueios_Atmosfericos/CSVs/vazoesdiarias.csv', series='rainy season', usinas=['6', '168'])"
   ]
  },
  {
   "cell_type": "code",
   "execution_count": null,
   "metadata": {},
   "outputs": [],
   "source": []
  }
 ],
 "metadata": {
  "kernelspec": {
   "display_name": "Python 3",
   "language": "python",
   "name": "python3"
  },
  "language_info": {
   "codemirror_mode": {
    "name": "ipython",
    "version": 3
   },
   "file_extension": ".py",
   "mimetype": "text/x-python",
   "name": "python",
   "nbconvert_exporter": "python",
   "pygments_lexer": "ipython3",
   "version": "3.8.5"
  }
 },
 "nbformat": 4,
 "nbformat_minor": 4
}

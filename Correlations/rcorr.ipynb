{
 "cells": [
  {
   "cell_type": "markdown",
   "metadata": {},
   "source": [
    "CÓDIGO EM R PARA CRIAR A CORRELAÇÃO COM NÍVEL DE SIGNIFICÂNCIA\n",
    "\n",
    "eu não escrevi nome a nome nas listas de csv ali embaixo, ao invés disso eu abri um jupyter notebook\n",
    "na linguagem do python, importei o os e usei os.listdir() no diretório em que os csv estavam salvos.\n",
    "assim ele retornou essa lista e eu só colei aqui nesse notebook\n",
    "\n",
    "\n",
    "eu pago dinheiro pra quem conseguir mexer no titulo do corrplot"
   ]
  },
  {
   "cell_type": "code",
   "execution_count": 1,
   "metadata": {
    "scrolled": false
   },
   "outputs": [
    {
     "name": "stderr",
     "output_type": "stream",
     "text": [
      "Warning message:\n",
      "\"package 'corrplot' was built under R version 3.6.3\"corrplot 0.84 loaded\n"
     ]
    }
   ],
   "source": [
    "#essa biblioteca precisa ser instalada, se eu não me engano é conda install -c conda-forge r-corrplot\n",
    "#mas é melhor checar o nome certinho no conda forge\n",
    "library(corrplot)"
   ]
  },
  {
   "cell_type": "markdown",
   "metadata": {},
   "source": [
    "# NCEP"
   ]
  },
  {
   "cell_type": "code",
   "execution_count": null,
   "metadata": {},
   "outputs": [],
   "source": [
    "todas = c('corr850-10.0 : -17.5-300.0 : 320.0todasD_DJF_2010-2018.csv',\n",
    " 'corr850-10.0 : -25.0-300.0 : 320.0todasF_DJF_2010-2018.csv',\n",
    " 'corr850-10.0 : -17.5-300.0 : 320.0todasD_DJF_1979-2010.csv',\n",
    " 'corr850-10.0 : -25.0-300.0 : 320.0todasF_DJF_1979-2010.csv',\n",
    " 'corr850-17.5 : -25.0-300.0 : 320.0todasD_DJF_1979-2010.csv',\n",
    " 'corr850-10.0 : -25.0-300.0 : 320.0todasD_DJF_2010-2018.csv',\n",
    " 'corr850-10.0 : -17.5-300.0 : 320.0todasF_DJF_2010-2018.csv',\n",
    " 'corr850-17.5 : -25.0-300.0 : 320.0todasF_DJF_1979-2010.csv',\n",
    " 'corr850-10.0 : -25.0-300.0 : 320.0todasD_DJF_1979-2010.csv',\n",
    " 'corr850-10.0 : -17.5-300.0 : 320.0todasF_DJF_1979-2010.csv',\n",
    " 'corr850-10.0 : -25.0-300.0 : 320.0todasJ_DJF_2010-2018.csv',\n",
    " 'corr850-10.0 : -25.0-300.0 : 320.0todasJ_DJF_1979-2010.csv',\n",
    " 'corr850-17.5 : -25.0-300.0 : 320.0todasJ_DJF_1979-2010.csv',\n",
    " 'corr850-10.0 : -17.5-300.0 : 320.0todasJ_DJF_1979-2010.csv',\n",
    " 'corr850-17.5 : -25.0-300.0 : 320.0todasF_DJF_2010-2018.csv',\n",
    " 'corr850-17.5 : -25.0-300.0 : 320.0todasD_DJF_2010-2018.csv',\n",
    " 'corr850-10.0 : -17.5-300.0 : 320.0todasJ_DJF_2010-2018.csv',\n",
    " 'corr850-17.5 : -25.0-300.0 : 320.0todasJ_DJF_2010-2018.csv')\n"
   ]
  },
  {
   "cell_type": "code",
   "execution_count": null,
   "metadata": {},
   "outputs": [],
   "source": [
    "jja = c('corr850-17.5 : -25.0-300.0 : 320.0sul_JJA_1979-2010.csv',\n",
    " 'corr850-17.5 : -25.0-300.0 : 320.0sul_JJA_2010-2018.csv',\n",
    " 'corr850-10.0 : -17.5-300.0 : 320.0sul_JJA_2010-2018.csv',\n",
    " 'corr850-10.0 : -17.5-300.0 : 320.0sul_JJA_1979-2010.csv',\n",
    " 'corr850-10.0 : -25.0-300.0 : 320.0sul_JJA_1979-2010.csv',\n",
    " 'corr850-10.0 : -25.0-300.0 : 320.0sul_JJA_2010-2018.csv')"
   ]
  },
  {
   "cell_type": "markdown",
   "metadata": {},
   "source": [
    "# zcas NCEP"
   ]
  },
  {
   "cell_type": "code",
   "execution_count": 2,
   "metadata": {},
   "outputs": [],
   "source": [
    "zcas = c('corr-10.0 : -25.0-300.0 : 320.0_ZCAS_1995-2010.csv',\n",
    " 'corr-10.0 : -17.5-300.0 : 320.0_ZCAS_1995-2010.csv',\n",
    " 'corr-17.5 : -25.0-300.0 : 320.0_ZCAS_1995-2010.csv',\n",
    " 'corr-10.0 : -17.5-300.0 : 320.0_ZCAS_2010-2018.csv',\n",
    " 'corr-17.5 : -25.0-300.0 : 320.0_ZCAS_2010-2018.csv',\n",
    " 'corr-10.0 : -25.0-300.0 : 320.0_ZCAS_2010-2018.csv')"
   ]
  },
  {
   "cell_type": "markdown",
   "metadata": {},
   "source": [
    "# ERA"
   ]
  },
  {
   "cell_type": "code",
   "execution_count": null,
   "metadata": {},
   "outputs": [],
   "source": [
    "br = c(\n",
    " 'corr_850_BloqueioNorte_BR_DEC_1979_2010.csv',\n",
    " 'corr_850_Completo_BR_FEB_2010_2018.csv',\n",
    " 'corr_850_Completo_BR_JAN_2010_2018.csv',\n",
    " 'corr_850_BloqueioSul_BR_DEC_2010_2018.csv',\n",
    " 'corr_850_BloqueioNorte_BR_FEB_1979_2010.csv',\n",
    " 'corr_850_Completo_BR_DEC_1979_2010.csv',\n",
    " 'corr_850_Completo_BR_JAN_1979_2010.csv',\n",
    " 'corr_850_BloqueioNorte_BR_DEC_2010_2018.csv',\n",
    " 'corr_850_BloqueioNorte_BR_FEB_2010_2018.csv',\n",
    " 'corr_850_Completo_BR_DEC_2010_2018.csv',\n",
    " 'corr_850_BloqueioNorte_BR_JAN_2010_2018.csv',\n",
    " 'corr_850_BloqueioSul_BR_JAN_1979_2010.csv',\n",
    " 'corr_850_BloqueioSul_BR_FEB_2010_2018.csv',\n",
    " 'corr_850_BloqueioSul_BR_JAN_2010_2018.csv',\n",
    " 'corr_850_Completo_BR_FEB_1979_2010.csv',\n",
    " 'corr_850_BloqueioSul_BR_FEB_1979_2010.csv',\n",
    " 'corr_850_BloqueioNorte_BR_JAN_1979_2010.csv',\n",
    " 'corr_850_BloqueioSul_BR_DEC_1979_2010.csv'\n",
    ")"
   ]
  },
  {
   "cell_type": "code",
   "execution_count": null,
   "metadata": {},
   "outputs": [],
   "source": [
    "sul = c('corr_850_BloqueioNorte_SUL_JAN_1979_2010.csv',\n",
    "'corr_850_BloqueioNorte_SUL_DEC_2010_2018.csv',\n",
    "'corr_850_BloqueioNorte_SUL_DEC_1979_2010.csv',\n",
    "'corr_850_BloqueioSul_SUL_FEB_2010_2018.csv',\n",
    "'corr_850_BloqueioNorte_SUL_FEB_2010_2018.csv',\n",
    "'corr_850_Completo_SUL_DEC_1979_2010.csv',\n",
    "'corr_850_BloqueioNorte_SUL_JJA_1979_2010.csv',\n",
    "'corr_850_Completo_SUL_FEB_2010_2018.csv',\n",
    "'corr_850_Completo_SUL_DEC_2010_2018.csv', \n",
    "'corr_850_BloqueioSul_SUL_JAN_2010_2018.csv',\n",
    "'corr_850_BloqueioNorte_SUL_JAN_2010_2018.csv',\n",
    "'corr_850_Completo_SUL_JAN_1979_2010.csv',\n",
    "'corr_850_BloqueioNorte_SUL_FEB_1979_2010.csv',\n",
    "'corr_850_BloqueioSul_SUL_JJA_2010_2018.csv',\n",
    "'corr_850_BloqueioSul_SUL_DEC_2010_2018.csv',\n",
    "'corr_850_BloqueioSul_SUL_JJA_1979_2010.csv',\n",
    "'corr_850_BloqueioNorte_SUL_JJA_2010_2018.csv',\n",
    "'corr_850_BloqueioSul_SUL_DEC_1979_2010.csv',\n",
    "'corr_850_BloqueioSul_SUL_FEB_1979_2010.csv',\n",
    "'corr_850_BloqueioSul_SUL_JAN_1979_2010.csv',\n",
    "'corr_850_Completo_SUL_JJA_1979_2010.csv',\n",
    "'corr_850_Completo_SUL_JAN_2010_2018.csv',\n",
    "'corr_850_Completo_SUL_FEB_1979_2010.csv',\n",
    "'corr_850_Completo_SUL_JJA_2010_2018.csv')"
   ]
  },
  {
   "cell_type": "code",
   "execution_count": 6,
   "metadata": {},
   "outputs": [],
   "source": [
    "todasERA = c('corr_BloqueioNorte_TODAS_DEC_1979_2010.csv', \n",
    "            'corr_BloqueioNorte_TODAS_DEC_2010_2018.csv',\n",
    "            'corr_BloqueioNorte_TODAS_FEB_1979_2010.csv',\n",
    "            'corr_BloqueioNorte_TODAS_FEB_2010_2018.csv',\n",
    "            'corr_BloqueioNorte_TODAS_JAN_1979_2010.csv',\n",
    "            'corr_BloqueioNorte_TODAS_JAN_2010_2018.csv',\n",
    "            'corr_BloqueioSul_TODAS_DEC_1979_2010.csv',\n",
    "            'corr_BloqueioSul_TODAS_DEC_2010_2018.csv',\n",
    "            'corr_BloqueioSul_TODAS_FEB_1979_2010.csv',\n",
    "            'corr_BloqueioSul_TODAS_FEB_2010_2018.csv',\n",
    "            'corr_BloqueioSul_TODAS_JAN_1979_2010.csv',\n",
    "            'corr_BloqueioSul_TODAS_JAN_2010_2018.csv',\n",
    "            'corr_Completo_TODAS_DEC_1979_2010.csv',\n",
    "            'corr_Completo_TODAS_DEC_2010_2018.csv',\n",
    "            'corr_Completo_TODAS_FEB_1979_2010.csv',\n",
    "            'corr_Completo_TODAS_FEB_2010_2018.csv',\n",
    "            'corr_Completo_TODAS_JAN_1979_2010.csv',\n",
    "            'corr_Completo_TODAS_JAN_2010_2018.csv')"
   ]
  },
  {
   "cell_type": "markdown",
   "metadata": {},
   "source": [
    "# FUNÇÃO"
   ]
  },
  {
   "cell_type": "code",
   "execution_count": 7,
   "metadata": {},
   "outputs": [],
   "source": [
    "#função de teste de significância\n",
    "\n",
    "cor.mtest <- function(mat, conf.level = 0.95) {\n",
    "  mat <- as.matrix(mat)\n",
    "  n <- ncol(mat)\n",
    "  p.mat <- lowCI.mat <- uppCI.mat <- matrix(NA, n, n)\n",
    "  diag(p.mat) <- 0\n",
    "  diag(lowCI.mat) <- diag(uppCI.mat) <- 1\n",
    "  for (i in 1:(n - 1)) {\n",
    "    for (j in (i + 1):n) {\n",
    "      tmp <- cor.test(mat[, i], mat[, j], conf.level = conf.level)\n",
    "      p.mat[i, j] <- p.mat[j, i] <- tmp$p.value\n",
    "      lowCI.mat[i, j] <- lowCI.mat[j, i] <- tmp$conf.int[1]\n",
    "      uppCI.mat[i, j] <- uppCI.mat[j, i] <- tmp$conf.int[2]\n",
    "    }\n",
    "  }\n",
    "  return(list(p.mat, lowCI.mat, uppCI.mat))\n",
    "}"
   ]
  },
  {
   "cell_type": "code",
   "execution_count": 24,
   "metadata": {
    "scrolled": false
   },
   "outputs": [],
   "source": [
    "for (file in todasERA) {\n",
    "    png(height=1200, width=1200, pointsize=25, file=paste(file, \".png\", sep=\"\")) #inicializa a imagem pra salvar\n",
    "\n",
    "    df <- read.csv(file=file, head=TRUE, sep=\",\") #le o df na lista files\n",
    "    df$time <- as.Date(df$time, format = \"%Y-%m-%d\") #converte a coluna time do df pra objeto de data\n",
    "    dfsd <- df[,-1] #cria nova tabela sem a coluna data para fazer a correlação (O R não reconhece a primeira coluna como index)\n",
    "    M <- cor(dfsd) #calcula a correlação\n",
    "    M_cut = M[c(0:4),-c(0:4)] #corta o df de correlação em [linhas, colunas], onde o c inclui as linhas desejadas\n",
    "    #e o -c remove as colunas indesejadas, poderia ser feito usando [-c(4:nrow(M_cut)), c(4:ncol(M_cut))] por exemplo\n",
    "    \n",
    "    ###COLUNAS DE TODAS AS BACIAS\n",
    "    oldcolnames = c(\"X246\",\"X34\", \"X237\", \"X240\", \"X33\", \"X24\", \"X6\", \"X18\", \"X156\", \"X168\", \"X275\", \"X287\", \"X285\", \"X190\", \"X254\", \"X111\", \"X217\", \"X74\", \"X78\", \"X66\", \"X63\", \"X61\")\n",
    "    newcolnames = c(\"Porto Primavera\",\"Ilha Solteira\", \"Barra Bonita\", \"Promissão\", \"São Simão\", \"Emborcação\", \"Furnas\", \"Água Vermelha\", \"Três Marias\", \"Sobradinho Inc\", \"Tucuruí\", \"Santo Antônio\", \"Jirau\", \"Boa Esperança\", \"Pedra do Cavalo\", \"Passo Real\", \"Machadinho\", \"Foz do Areia\", \"Salto Osório\", \"Itaipu\", \"Rosana\", \"Capivara\")\n",
    "    \n",
    "    ###COLUNAS DAS BACIAS DO SUL\n",
    "    #oldcolnames = c(\"X111\", \"X217\", \"X74\", \"X78\", \"X66\", \"X63\", \"X61\")\n",
    "    #newcolnames = c(\"Passo Real\", \"Machadinho\", \"Foz do Areia\", \"Salto Osório\", \"Itaipu\", \"Rosana\", \"Capivara\")\n",
    "\n",
    "    ###COLUNAS DO DF DE ZCAS\n",
    "    #oldcolnames = c(\"índice.de.bloqueios\", \"vort..850.hPa.\", \"div..850.hPa.\", \"vort..500.hPa.\")\n",
    "    #newcolnames = c(\"Índice de bloqueios (850hPa)\", \"Persistência vorticidade (850hPa)\", \"Persistência divergência (850hPa)\", \"Persistência vorticidade (500hPa)\")\n",
    "\n",
    "    ###NOME DAS LINHAS IGUAL PARA VAZOES E ZCAS\n",
    "    #5oldrownames = c(\"índice.de.bloqueios\", \"vort..850.hPa.\", \"div..850.hPa.\", \"vort..500.hPa.\")\n",
    "    #newrownames = c(\"Índice de bloqueios (850hPa)\", \"Persistência vorticidade (850hPa)\", \"Persistência divergência (850hPa)\", \"Persistência vorticidade (500hPa)\")\n",
    "\n",
    "    #loop pra trocar os nomes das colunas e das linhas\n",
    "    \n",
    "    for(i in 1:ncol(M_cut)) colnames(M_cut)[colnames(M_cut) == oldcolnames[i]] = newcolnames[i]\n",
    "    for(i in 1:nrow(M_cut)) rownames(M_cut)[rownames(M_cut) == oldrownames[i]] = newrownames[i]\n",
    "    \n",
    "    #teste de significância\n",
    "    res2 <- cor.mtest(M_cut, 0.99) #cria um objeto para avaliar a significancia para um intevalo de confianca de 99%\n",
    "    res1 <- cor.mtest(M_cut, 0.95) #cria um objeto para avaliar a significancia para um intevalo de confianca de 95%\n",
    "    #CORRPLOT\n",
    "\n",
    "    #cl = color legend\n",
    "    #tl = tick label\n",
    "    #p.mat requere o nível de significância pro plot da correlação, o insig tira os valores que não apresentam\n",
    "    #mais de 99% de nível de significância. poderia ser insig = \"blank\", apagando os valores, \"p-values\", colocando\n",
    "    #os valores p onde não supre a significância, \"pch\" marca um x onde não tem significância, etc\n",
    "    #cl.align = \"r\" posiciona o color legend à direita\n",
    "    #type = \"upper\" deixa só o triângulo superior \n",
    "    #mar posiciona o título (não consigo usar de jeito nenhum)\n",
    "    #outline = \"white\" deixa um quadradinho branco no entorno de cada quadrado de correlação, botei pq achei fofo\n",
    "    #tl.col = \"black\" pinta o tick label de preto. o default acho que é vermelho\n",
    "    #cl.offset +- igual ao pad pra distanciar o color legend\n",
    "    #cl.ratio = espessura do color legend\n",
    "    #cl.lim = limites do color legend\n",
    "    #cl.cex = tamanho da fonte do color legend\n",
    "    #addCoef.col = \"black\" adiciona o coeficiente de correlação em cada quadradinho\n",
    "    #tl.cex = tamanho da fonte do tick label\n",
    "    #number.cex = tamanho da fonte do coeficiente\n",
    "    #method = 'color' é a forma que vai aparecer a correlação, pode ser square, que fica quase igual, circle, que aparecem varios circulozinhos, \n",
    "    #pie, number, etc\n",
    "\n",
    "    corrplot(M_cut, p.mat = res2[[1]], type=\"upper\", cl.align=\"r\", title=file, mar = c(0, 0, 5, 0), outline=\"white\", tl.col='black',addCoef.col='Black', cl.offset = 1, cl.ratio=0.4, cl.lim = c(-1, 1), cl.cex = 0.5, tl.cex=0.75, number.cex=0.4, insig='n', method='color')\n",
    "    dev.off()\n",
    "}"
   ]
  },
  {
   "cell_type": "code",
   "execution_count": null,
   "metadata": {},
   "outputs": [],
   "source": []
  }
 ],
 "metadata": {
  "kernelspec": {
   "display_name": "R",
   "language": "R",
   "name": "ir"
  },
  "language_info": {
   "codemirror_mode": "r",
   "file_extension": ".r",
   "mimetype": "text/x-r-source",
   "name": "R",
   "pygments_lexer": "r",
   "version": "3.6.1"
  }
 },
 "nbformat": 4,
 "nbformat_minor": 4
}

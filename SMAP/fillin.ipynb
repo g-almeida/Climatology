{
 "metadata": {
  "language_info": {
   "codemirror_mode": {
    "name": "ipython",
    "version": 3
   },
   "file_extension": ".py",
   "mimetype": "text/x-python",
   "name": "python",
   "nbconvert_exporter": "python",
   "pygments_lexer": "ipython3",
   "version": "3.8.2-final"
  },
  "orig_nbformat": 2,
  "kernelspec": {
   "name": "python3",
   "display_name": "Python 3.8.2 64-bit ('smap': conda)",
   "metadata": {
    "interpreter": {
     "hash": "eb8a7b46cb307c93c0dbb1ad4a66b22036c6d642c1d2382d23b07df093a7d948"
    }
   }
  }
 },
 "nbformat": 4,
 "nbformat_minor": 2,
 "cells": [
  {
   "cell_type": "code",
   "execution_count": 1,
   "metadata": {},
   "outputs": [],
   "source": [
    "import pandas as pd"
   ]
  },
  {
   "cell_type": "code",
   "execution_count": 13,
   "metadata": {},
   "outputs": [
    {
     "output_type": "execute_result",
     "data": {
      "text/plain": [
       "        Code  cluster  Latitude  Longitude  2005-01-01 00:00:00  \\\n",
       "271  2045013      0.0  -20.0844   -45.2967                  0.0   \n",
       "239  1945008      0.0  -19.7425   -45.2550                  0.0   \n",
       "235  1944049      0.0  -19.4283   -44.7197                  0.0   \n",
       "64   1149000      1.0  -11.3389   -49.2653                  0.0   \n",
       "65   1149002      1.0  -11.7372   -49.1361                  0.0   \n",
       "..       ...      ...       ...        ...                  ...   \n",
       "339  2247054    125.0  -22.3008   -47.1336                  0.0   \n",
       "334  2246003    125.0  -22.0378   -46.9650                  0.0   \n",
       "275  2046013    126.0  -20.3300   -46.3661                  9.7   \n",
       "77   1244022    127.0  -12.2325   -44.3872                  NaN   \n",
       "78   1244023    127.0  -12.6606   -44.3892                  NaN   \n",
       "\n",
       "     2005-01-02 00:00:00  2005-01-03 00:00:00  2005-01-04 00:00:00  \\\n",
       "271                 23.4                  0.0                  3.2   \n",
       "239                 56.1                  1.0                  0.0   \n",
       "235                  5.8                  0.0                  0.0   \n",
       "64                   0.0                 19.8                  0.0   \n",
       "65                   0.0                  5.7                  0.0   \n",
       "..                   ...                  ...                  ...   \n",
       "339                  7.2                 14.3                  8.6   \n",
       "334                  0.4                  0.5                  1.7   \n",
       "275                 31.3                  0.3                 15.8   \n",
       "77                   NaN                  NaN                  NaN   \n",
       "78                   NaN                  NaN                  NaN   \n",
       "\n",
       "     2005-01-05 00:00:00  2005-01-06 00:00:00  ...  2021-02-19 00:00:00  \\\n",
       "271                 36.3                 66.8  ...                  NaN   \n",
       "239                 74.0                126.0  ...                  NaN   \n",
       "235                  3.4                  0.0  ...                  NaN   \n",
       "64                   0.0                 45.2  ...                  NaN   \n",
       "65                  10.5                 19.2  ...                  NaN   \n",
       "..                   ...                  ...  ...                  ...   \n",
       "339                 19.5                  7.3  ...                  NaN   \n",
       "334                 21.0                 21.7  ...                  NaN   \n",
       "275                 39.3                 30.0  ...                  NaN   \n",
       "77                   NaN                  NaN  ...                  NaN   \n",
       "78                   NaN                  NaN  ...                  NaN   \n",
       "\n",
       "     2021-02-20 00:00:00  2021-02-21 00:00:00  2021-02-22 00:00:00  \\\n",
       "271                  NaN                  NaN                  NaN   \n",
       "239                  NaN                  NaN                  NaN   \n",
       "235                  NaN                  NaN                  NaN   \n",
       "64                   NaN                  NaN                  NaN   \n",
       "65                   NaN                  NaN                  NaN   \n",
       "..                   ...                  ...                  ...   \n",
       "339                  NaN                  NaN                  NaN   \n",
       "334                  NaN                  NaN                  NaN   \n",
       "275                  NaN                  NaN                  NaN   \n",
       "77                   NaN                  NaN                  NaN   \n",
       "78                   NaN                  NaN                  NaN   \n",
       "\n",
       "     2021-02-23 00:00:00  2021-02-24 00:00:00  2021-02-25 00:00:00  \\\n",
       "271                  NaN                  NaN                  NaN   \n",
       "239                  NaN                  NaN                  NaN   \n",
       "235                  NaN                  NaN                  NaN   \n",
       "64                   NaN                  NaN                  NaN   \n",
       "65                   NaN                  NaN                  NaN   \n",
       "..                   ...                  ...                  ...   \n",
       "339                  NaN                  NaN                  NaN   \n",
       "334                  NaN                  NaN                  NaN   \n",
       "275                  NaN                  NaN                  NaN   \n",
       "77                   NaN                  NaN                  NaN   \n",
       "78                   NaN                  NaN                  NaN   \n",
       "\n",
       "     2021-02-26 00:00:00  2021-02-27 00:00:00  2021-02-28 00:00:00  \n",
       "271                  NaN                  NaN                  NaN  \n",
       "239                  NaN                  NaN                  NaN  \n",
       "235                  NaN                  NaN                  NaN  \n",
       "64                   NaN                  NaN                  NaN  \n",
       "65                   NaN                  NaN                  NaN  \n",
       "..                   ...                  ...                  ...  \n",
       "339                  NaN                  NaN                  NaN  \n",
       "334                  NaN                  NaN                  NaN  \n",
       "275                  NaN                  NaN                  NaN  \n",
       "77                   NaN                  NaN                  NaN  \n",
       "78                   NaN                  NaN                  NaN  \n",
       "\n",
       "[385 rows x 5907 columns]"
      ],
      "text/html": "<div>\n<style scoped>\n    .dataframe tbody tr th:only-of-type {\n        vertical-align: middle;\n    }\n\n    .dataframe tbody tr th {\n        vertical-align: top;\n    }\n\n    .dataframe thead th {\n        text-align: right;\n    }\n</style>\n<table border=\"1\" class=\"dataframe\">\n  <thead>\n    <tr style=\"text-align: right;\">\n      <th></th>\n      <th>Code</th>\n      <th>cluster</th>\n      <th>Latitude</th>\n      <th>Longitude</th>\n      <th>2005-01-01 00:00:00</th>\n      <th>2005-01-02 00:00:00</th>\n      <th>2005-01-03 00:00:00</th>\n      <th>2005-01-04 00:00:00</th>\n      <th>2005-01-05 00:00:00</th>\n      <th>2005-01-06 00:00:00</th>\n      <th>...</th>\n      <th>2021-02-19 00:00:00</th>\n      <th>2021-02-20 00:00:00</th>\n      <th>2021-02-21 00:00:00</th>\n      <th>2021-02-22 00:00:00</th>\n      <th>2021-02-23 00:00:00</th>\n      <th>2021-02-24 00:00:00</th>\n      <th>2021-02-25 00:00:00</th>\n      <th>2021-02-26 00:00:00</th>\n      <th>2021-02-27 00:00:00</th>\n      <th>2021-02-28 00:00:00</th>\n    </tr>\n  </thead>\n  <tbody>\n    <tr>\n      <th>271</th>\n      <td>2045013</td>\n      <td>0.0</td>\n      <td>-20.0844</td>\n      <td>-45.2967</td>\n      <td>0.0</td>\n      <td>23.4</td>\n      <td>0.0</td>\n      <td>3.2</td>\n      <td>36.3</td>\n      <td>66.8</td>\n      <td>...</td>\n      <td>NaN</td>\n      <td>NaN</td>\n      <td>NaN</td>\n      <td>NaN</td>\n      <td>NaN</td>\n      <td>NaN</td>\n      <td>NaN</td>\n      <td>NaN</td>\n      <td>NaN</td>\n      <td>NaN</td>\n    </tr>\n    <tr>\n      <th>239</th>\n      <td>1945008</td>\n      <td>0.0</td>\n      <td>-19.7425</td>\n      <td>-45.2550</td>\n      <td>0.0</td>\n      <td>56.1</td>\n      <td>1.0</td>\n      <td>0.0</td>\n      <td>74.0</td>\n      <td>126.0</td>\n      <td>...</td>\n      <td>NaN</td>\n      <td>NaN</td>\n      <td>NaN</td>\n      <td>NaN</td>\n      <td>NaN</td>\n      <td>NaN</td>\n      <td>NaN</td>\n      <td>NaN</td>\n      <td>NaN</td>\n      <td>NaN</td>\n    </tr>\n    <tr>\n      <th>235</th>\n      <td>1944049</td>\n      <td>0.0</td>\n      <td>-19.4283</td>\n      <td>-44.7197</td>\n      <td>0.0</td>\n      <td>5.8</td>\n      <td>0.0</td>\n      <td>0.0</td>\n      <td>3.4</td>\n      <td>0.0</td>\n      <td>...</td>\n      <td>NaN</td>\n      <td>NaN</td>\n      <td>NaN</td>\n      <td>NaN</td>\n      <td>NaN</td>\n      <td>NaN</td>\n      <td>NaN</td>\n      <td>NaN</td>\n      <td>NaN</td>\n      <td>NaN</td>\n    </tr>\n    <tr>\n      <th>64</th>\n      <td>1149000</td>\n      <td>1.0</td>\n      <td>-11.3389</td>\n      <td>-49.2653</td>\n      <td>0.0</td>\n      <td>0.0</td>\n      <td>19.8</td>\n      <td>0.0</td>\n      <td>0.0</td>\n      <td>45.2</td>\n      <td>...</td>\n      <td>NaN</td>\n      <td>NaN</td>\n      <td>NaN</td>\n      <td>NaN</td>\n      <td>NaN</td>\n      <td>NaN</td>\n      <td>NaN</td>\n      <td>NaN</td>\n      <td>NaN</td>\n      <td>NaN</td>\n    </tr>\n    <tr>\n      <th>65</th>\n      <td>1149002</td>\n      <td>1.0</td>\n      <td>-11.7372</td>\n      <td>-49.1361</td>\n      <td>0.0</td>\n      <td>0.0</td>\n      <td>5.7</td>\n      <td>0.0</td>\n      <td>10.5</td>\n      <td>19.2</td>\n      <td>...</td>\n      <td>NaN</td>\n      <td>NaN</td>\n      <td>NaN</td>\n      <td>NaN</td>\n      <td>NaN</td>\n      <td>NaN</td>\n      <td>NaN</td>\n      <td>NaN</td>\n      <td>NaN</td>\n      <td>NaN</td>\n    </tr>\n    <tr>\n      <th>...</th>\n      <td>...</td>\n      <td>...</td>\n      <td>...</td>\n      <td>...</td>\n      <td>...</td>\n      <td>...</td>\n      <td>...</td>\n      <td>...</td>\n      <td>...</td>\n      <td>...</td>\n      <td>...</td>\n      <td>...</td>\n      <td>...</td>\n      <td>...</td>\n      <td>...</td>\n      <td>...</td>\n      <td>...</td>\n      <td>...</td>\n      <td>...</td>\n      <td>...</td>\n      <td>...</td>\n    </tr>\n    <tr>\n      <th>339</th>\n      <td>2247054</td>\n      <td>125.0</td>\n      <td>-22.3008</td>\n      <td>-47.1336</td>\n      <td>0.0</td>\n      <td>7.2</td>\n      <td>14.3</td>\n      <td>8.6</td>\n      <td>19.5</td>\n      <td>7.3</td>\n      <td>...</td>\n      <td>NaN</td>\n      <td>NaN</td>\n      <td>NaN</td>\n      <td>NaN</td>\n      <td>NaN</td>\n      <td>NaN</td>\n      <td>NaN</td>\n      <td>NaN</td>\n      <td>NaN</td>\n      <td>NaN</td>\n    </tr>\n    <tr>\n      <th>334</th>\n      <td>2246003</td>\n      <td>125.0</td>\n      <td>-22.0378</td>\n      <td>-46.9650</td>\n      <td>0.0</td>\n      <td>0.4</td>\n      <td>0.5</td>\n      <td>1.7</td>\n      <td>21.0</td>\n      <td>21.7</td>\n      <td>...</td>\n      <td>NaN</td>\n      <td>NaN</td>\n      <td>NaN</td>\n      <td>NaN</td>\n      <td>NaN</td>\n      <td>NaN</td>\n      <td>NaN</td>\n      <td>NaN</td>\n      <td>NaN</td>\n      <td>NaN</td>\n    </tr>\n    <tr>\n      <th>275</th>\n      <td>2046013</td>\n      <td>126.0</td>\n      <td>-20.3300</td>\n      <td>-46.3661</td>\n      <td>9.7</td>\n      <td>31.3</td>\n      <td>0.3</td>\n      <td>15.8</td>\n      <td>39.3</td>\n      <td>30.0</td>\n      <td>...</td>\n      <td>NaN</td>\n      <td>NaN</td>\n      <td>NaN</td>\n      <td>NaN</td>\n      <td>NaN</td>\n      <td>NaN</td>\n      <td>NaN</td>\n      <td>NaN</td>\n      <td>NaN</td>\n      <td>NaN</td>\n    </tr>\n    <tr>\n      <th>77</th>\n      <td>1244022</td>\n      <td>127.0</td>\n      <td>-12.2325</td>\n      <td>-44.3872</td>\n      <td>NaN</td>\n      <td>NaN</td>\n      <td>NaN</td>\n      <td>NaN</td>\n      <td>NaN</td>\n      <td>NaN</td>\n      <td>...</td>\n      <td>NaN</td>\n      <td>NaN</td>\n      <td>NaN</td>\n      <td>NaN</td>\n      <td>NaN</td>\n      <td>NaN</td>\n      <td>NaN</td>\n      <td>NaN</td>\n      <td>NaN</td>\n      <td>NaN</td>\n    </tr>\n    <tr>\n      <th>78</th>\n      <td>1244023</td>\n      <td>127.0</td>\n      <td>-12.6606</td>\n      <td>-44.3892</td>\n      <td>NaN</td>\n      <td>NaN</td>\n      <td>NaN</td>\n      <td>NaN</td>\n      <td>NaN</td>\n      <td>NaN</td>\n      <td>...</td>\n      <td>NaN</td>\n      <td>NaN</td>\n      <td>NaN</td>\n      <td>NaN</td>\n      <td>NaN</td>\n      <td>NaN</td>\n      <td>NaN</td>\n      <td>NaN</td>\n      <td>NaN</td>\n      <td>NaN</td>\n    </tr>\n  </tbody>\n</table>\n<p>385 rows × 5907 columns</p>\n</div>"
     },
     "metadata": {},
     "execution_count": 13
    }
   ],
   "source": [
    "ana_clust = pd.read_csv('series_ana_clusters.csv', sep=',')\n",
    "ana_clust.nunique()\n",
    "ana_clust.sort_values(by='cluster')"
   ]
  },
  {
   "cell_type": "code",
   "execution_count": 84,
   "metadata": {
    "tags": []
   },
   "outputs": [
    {
     "output_type": "execute_result",
     "data": {
      "text/plain": [
       "                     235   239   271\n",
       "2005-01-01 00:00:00  0.0   0.0   0.0\n",
       "2005-01-02 00:00:00  5.8  56.1  23.4\n",
       "2005-01-03 00:00:00  0.0   1.0   0.0\n",
       "2005-01-04 00:00:00  0.0   0.0   3.2\n",
       "2005-01-05 00:00:00  3.4  74.0  36.3\n",
       "...                  ...   ...   ...\n",
       "2021-02-24 00:00:00  NaN   NaN   NaN\n",
       "2021-02-25 00:00:00  NaN   NaN   NaN\n",
       "2021-02-26 00:00:00  NaN   NaN   NaN\n",
       "2021-02-27 00:00:00  NaN   NaN   NaN\n",
       "2021-02-28 00:00:00  NaN   NaN   NaN\n",
       "\n",
       "[5903 rows x 3 columns]"
      ],
      "text/html": "<div>\n<style scoped>\n    .dataframe tbody tr th:only-of-type {\n        vertical-align: middle;\n    }\n\n    .dataframe tbody tr th {\n        vertical-align: top;\n    }\n\n    .dataframe thead th {\n        text-align: right;\n    }\n</style>\n<table border=\"1\" class=\"dataframe\">\n  <thead>\n    <tr style=\"text-align: right;\">\n      <th></th>\n      <th>235</th>\n      <th>239</th>\n      <th>271</th>\n    </tr>\n  </thead>\n  <tbody>\n    <tr>\n      <th>2005-01-01 00:00:00</th>\n      <td>0.0</td>\n      <td>0.0</td>\n      <td>0.0</td>\n    </tr>\n    <tr>\n      <th>2005-01-02 00:00:00</th>\n      <td>5.8</td>\n      <td>56.1</td>\n      <td>23.4</td>\n    </tr>\n    <tr>\n      <th>2005-01-03 00:00:00</th>\n      <td>0.0</td>\n      <td>1.0</td>\n      <td>0.0</td>\n    </tr>\n    <tr>\n      <th>2005-01-04 00:00:00</th>\n      <td>0.0</td>\n      <td>0.0</td>\n      <td>3.2</td>\n    </tr>\n    <tr>\n      <th>2005-01-05 00:00:00</th>\n      <td>3.4</td>\n      <td>74.0</td>\n      <td>36.3</td>\n    </tr>\n    <tr>\n      <th>...</th>\n      <td>...</td>\n      <td>...</td>\n      <td>...</td>\n    </tr>\n    <tr>\n      <th>2021-02-24 00:00:00</th>\n      <td>NaN</td>\n      <td>NaN</td>\n      <td>NaN</td>\n    </tr>\n    <tr>\n      <th>2021-02-25 00:00:00</th>\n      <td>NaN</td>\n      <td>NaN</td>\n      <td>NaN</td>\n    </tr>\n    <tr>\n      <th>2021-02-26 00:00:00</th>\n      <td>NaN</td>\n      <td>NaN</td>\n      <td>NaN</td>\n    </tr>\n    <tr>\n      <th>2021-02-27 00:00:00</th>\n      <td>NaN</td>\n      <td>NaN</td>\n      <td>NaN</td>\n    </tr>\n    <tr>\n      <th>2021-02-28 00:00:00</th>\n      <td>NaN</td>\n      <td>NaN</td>\n      <td>NaN</td>\n    </tr>\n  </tbody>\n</table>\n<p>5903 rows × 3 columns</p>\n</div>"
     },
     "metadata": {},
     "execution_count": 84
    }
   ],
   "source": [
    "# exemplo do cluster 0:\n",
    "cluster0 = ana_clust.where(ana_clust['cluster']==0).dropna(how='all')\n",
    "\n",
    "cluster0.shape[0] # n° de postos presentes\n",
    "cluster0.drop(['Code','cluster','Latitude','Longitude'],axis=1).transpose()"
   ]
  },
  {
   "cell_type": "code",
   "execution_count": null,
   "metadata": {},
   "outputs": [],
   "source": [
    "ana_clust"
   ]
  },
  {
   "cell_type": "code",
   "execution_count": null,
   "metadata": {},
   "outputs": [],
   "source": []
  }
 ]
}
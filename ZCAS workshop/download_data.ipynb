{
 "cells": [
  {
   "cell_type": "code",
   "execution_count": 1,
   "metadata": {},
   "outputs": [
    {
     "name": "stderr",
     "output_type": "stream",
     "text": [
      "2020-07-05 19:17:06,081 INFO Welcome to the CDS\n",
      "2020-07-05 19:17:06,092 INFO Sending request to https://cds.climate.copernicus.eu/api/v2/resources/reanalysis-era5-pressure-levels\n",
      "2020-07-05 19:17:07,511 INFO Request is queued\n",
      "2020-07-05 19:17:08,733 INFO Request is running\n",
      "2020-07-05 19:21:28,783 INFO Request is completed\n",
      "2020-07-05 19:21:28,787 INFO Downloading http://136.156.133.36/cache-compute-0010/cache/data0/adaptor.mars.internal-1593987427.26805-1376-23-41f59535-ee19-4f0f-8d89-9c3e73ebde26.nc to download.nc (507.9M)\n",
      "2020-07-05 19:30:53,710 INFO Download rate 920.6K/s                            \n"
     ]
    },
    {
     "data": {
      "text/plain": [
       "Result(content_length=532552240,content_type=application/x-netcdf,location=http://136.156.133.36/cache-compute-0010/cache/data0/adaptor.mars.internal-1593987427.26805-1376-23-41f59535-ee19-4f0f-8d89-9c3e73ebde26.nc)"
      ]
     },
     "execution_count": 1,
     "metadata": {},
     "output_type": "execute_result"
    }
   ],
   "source": [
    "import cdsapi\n",
    "\n",
    "c = cdsapi.Client()\n",
    "\n",
    "c.retrieve(\n",
    "    'reanalysis-era5-pressure-levels',\n",
    "    {\n",
    "        'product_type': 'reanalysis',\n",
    "        'format': 'netcdf',\n",
    "        'pressure_level': [\n",
    "            '200', '500', '850',\n",
    "        ],\n",
    "        'variable': [\n",
    "            'geopotential', 'u_component_of_wind', 'v_component_of_wind',\n",
    "            'vertical_velocity',\n",
    "        ],\n",
    "        'year': [\n",
    "            '1979', '1980', '1981',\n",
    "            '1982', '1983', '1984',\n",
    "            '1985', '1986', '1987',\n",
    "            '1988', '1989', '1990',\n",
    "            '1991', '1992', '1993',\n",
    "            '1994', '1995', '1996',\n",
    "            '1997', '1998', '1999',\n",
    "            '2000', '2001', '2002',\n",
    "            '2003', '2004', '2005',\n",
    "            '2006', '2007', '2008',\n",
    "            '2009', '2010', '2011',\n",
    "            '2012', '2013', '2014',\n",
    "            '2015', '2016', '2017',\n",
    "            '2018', '2019',\n",
    "        ],\n",
    "        'month': '12',\n",
    "        'day': [\n",
    "            '04', '05', '06',\n",
    "            '07', '08', '09',\n",
    "        ],\n",
    "        'time': '18:00',\n",
    "        'area': [\n",
    "            15, -90, -55,\n",
    "            -10,\n",
    "        ],\n",
    "    },\n",
    "    'download.nc')"
   ]
  },
  {
   "cell_type": "code",
   "execution_count": 2,
   "metadata": {},
   "outputs": [
    {
     "name": "stderr",
     "output_type": "stream",
     "text": [
      "2020-07-05 19:30:54,635 INFO Welcome to the CDS\n",
      "2020-07-05 19:30:54,638 INFO Sending request to https://cds.climate.copernicus.eu/api/v2/resources/reanalysis-era5-single-levels\n",
      "2020-07-05 19:30:55,529 INFO Request is queued\n",
      "2020-07-05 19:30:56,744 INFO Request is running\n",
      "2020-07-05 19:32:12,348 INFO Request is completed\n",
      "2020-07-05 19:32:12,351 INFO Downloading http://136.156.132.153/cache-compute-0002/cache/data5/adaptor.mars.internal-1593988254.6177247-19277-11-88b6f3d3-6459-4302-90cf-0b4d64032494.nc to download.nc (84.7M)\n",
      "2020-07-05 19:33:41,306 INFO Download rate 974.5K/s                            \n"
     ]
    },
    {
     "data": {
      "text/plain": [
       "Result(content_length=88762612,content_type=application/x-netcdf,location=http://136.156.132.153/cache-compute-0002/cache/data5/adaptor.mars.internal-1593988254.6177247-19277-11-88b6f3d3-6459-4302-90cf-0b4d64032494.nc)"
      ]
     },
     "execution_count": 2,
     "metadata": {},
     "output_type": "execute_result"
    }
   ],
   "source": [
    "import cdsapi\n",
    "\n",
    "c = cdsapi.Client()\n",
    "\n",
    "c.retrieve(\n",
    "    'reanalysis-era5-single-levels',\n",
    "    {\n",
    "        'product_type': 'reanalysis',\n",
    "        'format': 'netcdf',\n",
    "        'variable': [\n",
    "            'mean_sea_level_pressure', 'top_net_thermal_radiation',\n",
    "        ],\n",
    "        'year': [\n",
    "            '1979', '1980', '1981',\n",
    "            '1982', '1983', '1984',\n",
    "            '1985', '1986', '1987',\n",
    "            '1988', '1989', '1990',\n",
    "            '1991', '1992', '1993',\n",
    "            '1994', '1995', '1996',\n",
    "            '1997', '1998', '1999',\n",
    "            '2000', '2001', '2002',\n",
    "            '2003', '2004', '2005',\n",
    "            '2006', '2007', '2008',\n",
    "            '2009', '2010', '2011',\n",
    "            '2012', '2013', '2014',\n",
    "            '2015', '2016', '2017',\n",
    "            '2018', '2019',\n",
    "        ],\n",
    "        'month': '12',\n",
    "        'day': [\n",
    "            '04', '05', '06',\n",
    "            '07', '08', '09',\n",
    "        ],\n",
    "        'time': '18:00',\n",
    "        'area': [\n",
    "            15, -90, -55,\n",
    "            -10,\n",
    "        ],\n",
    "    },\n",
    "    'download.nc')"
   ]
  },
  {
   "cell_type": "code",
   "execution_count": null,
   "metadata": {},
   "outputs": [],
   "source": []
  }
 ],
 "metadata": {
  "kernelspec": {
   "display_name": "Python 3",
   "language": "python",
   "name": "python3"
  },
  "language_info": {
   "codemirror_mode": {
    "name": "ipython",
    "version": 3
   },
   "file_extension": ".py",
   "mimetype": "text/x-python",
   "name": "python",
   "nbconvert_exporter": "python",
   "pygments_lexer": "ipython3",
   "version": "3.8.2"
  }
 },
 "nbformat": 4,
 "nbformat_minor": 4
}

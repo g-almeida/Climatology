{
 "cells": [
  {
   "cell_type": "code",
   "execution_count": null,
   "metadata": {},
   "outputs": [],
   "source": [
    "import xarray as xr\n",
    "import pandas as pd\n",
    "import numpy as np\n",
    "import matplotlib as mpl\n",
    "import matplotlib.pyplot as plt\n",
    "import matplotlib.ticker as mticker\n",
    "import matplotlib.patches as mpatches\n",
    "from cartopy.mpl.gridliner import LONGITUDE_FORMATTER, LATITUDE_FORMATTER\n",
    "from mpl_toolkits.axes_grid1 import make_axes_locatable\n",
    "import seaborn as sns\n",
    "import cartopy\n",
    "import cartopy.crs as ccrs\n",
    "import cartopy.feature as cfeature\n",
    "from cartopy.mpl.ticker import LongitudeFormatter, LatitudeFormatter\n",
    "from cartopy.util import add_cyclic_point\n",
    "from datetime import datetime\n",
    "import os\n",
    "import seaborn as sns\n",
    "import metpy.calc as mpcalc\n",
    "import re\n",
    "import calendar\n",
    "from matplotlib.offsetbox import AnchoredText\n",
    "sns.set()"
   ]
  },
  {
   "cell_type": "code",
   "execution_count": null,
   "metadata": {
    "scrolled": true
   },
   "outputs": [],
   "source": [
    "dataX = xr.open_dataset(\"uwnd_18_20.nc\")\n",
    "dataX"
   ]
  },
  {
   "cell_type": "code",
   "execution_count": null,
   "metadata": {},
   "outputs": [],
   "source": [
    "teste = dataX.u[-2,0,0,:,:]"
   ]
  },
  {
   "cell_type": "code",
   "execution_count": null,
   "metadata": {},
   "outputs": [],
   "source": [
    "np.array(teste)"
   ]
  },
  {
   "cell_type": "code",
   "execution_count": null,
   "metadata": {},
   "outputs": [],
   "source": [
    "def set_data(level):\n",
    "    \n",
    "    data = xr.open_dataset(\"uwnd_18_20.nc\")\n",
    "    \n",
    "    u = data.u[-18:,0,level,:,:]\n",
    "    \n",
    "    #time_slice = slice(tempo[0],tempo[1])\n",
    "    \n",
    "   #media_mes = Z.sel(time=time_slice).groupby('time.month').mean()\n",
    "   \n",
    "    coordenadas = [u.longitude.values , u.latitude.values]\n",
    "    \n",
    "    return coordenadas , u"
   ]
  },
  {
   "cell_type": "code",
   "execution_count": null,
   "metadata": {},
   "outputs": [],
   "source": [
    "def figura(level):\n",
    "    \n",
    "    fig, ax = plt.subplots(nrows=6,ncols=3,subplot_kw=dict(projection = ccrs.PlateCarree()), figsize=(32,26))\n",
    "    if level == 0:\n",
    "        fig.suptitle('U-Wind\\n Last 18 months(2018-09-01 - 2020-01-01)\\n 700hPA', fontsize=34, weight='bold', y = 0.95, x = 0.505)\n",
    "    else:\n",
    "        fig.suptitle('U-Wind\\n Last 18 months(2018-09-01 - 2020-01-01)\\n 850 hPA', fontsize=34, weight='bold', y = 0.95, x = 0.505)\n",
    "    \n",
    "    mes = np.arange(0,18,1)\n",
    "    meses = [9,10,11,12,1,2,3,4,5,6,7,8,9,10,11,12,1,2]\n",
    "    \n",
    "    plott(ax[0,0], mes[0], meses[0], level)\n",
    "    plott(ax[0,1], mes[1], meses[1], level)\n",
    "    plott(ax[0,2], mes[2], meses[2], level)\n",
    "    plott(ax[1,0], mes[3], meses[3], level)\n",
    "    plott(ax[1,1], mes[4], meses[4], level)\n",
    "    plott(ax[1,2], mes[5], meses[5], level)\n",
    "    plott(ax[2,0], mes[6], meses[6], level)\n",
    "    plott(ax[2,1], mes[7], meses[7], level)\n",
    "    plott(ax[2,2], mes[8], meses[8], level)\n",
    "    plott(ax[3,0], mes[9], meses[9], level)\n",
    "    plott(ax[3,1], mes[10], meses[10], level)\n",
    "    plott(ax[3,2], mes[11], meses[11], level)\n",
    "    plott(ax[4,0], mes[12], meses[12], level)\n",
    "    plott(ax[4,1], mes[13], meses[13], level)\n",
    "    plott(ax[4,2], mes[14], meses[14], level)\n",
    "    plott(ax[5,0], mes[15], meses[15], level)\n",
    "    plott(ax[5,1], mes[16], meses[16], level)\n",
    "    #plott(ax[5,2], mes[17], meses[17], level)"
   ]
  },
  {
   "cell_type": "code",
   "execution_count": null,
   "metadata": {},
   "outputs": [],
   "source": [
    "def plott(ax, mes, meses, level):\n",
    "    \n",
    "    coordenadas, u = set_data(level)\n",
    "      #norm = mpl.colors.Normalize(vmin= , vmax= )\n",
    "    #if level == 0:\n",
    "        #clevs = np.arange(310,330,10)\n",
    "    #else:\n",
    "    #clevs = np.arange(-10,15,3)\n",
    "    \n",
    "    if mes == 17:\n",
    "        \n",
    "        clevs = np.arange(20,35,3)\n",
    "        \n",
    "        cf = ax.contourf(coordenadas[0],coordenadas[1], u.isel(time=mes), cmap = 'RdBu_r')\n",
    "\n",
    "        cbar = plt.colorbar(cf, orientation='horizontal', pad=0.2 , ax=ax, shrink = 1.0, aspect=40)\n",
    "        cbar.ax.tick_params(labelsize=15)\n",
    "        cbar.set_label(\"m/s\", fontsize = 17, y = 0.3)\n",
    "\n",
    "        gl = ax.gridlines(crs=ccrs.PlateCarree(), draw_labels=True, linewidth=1, color='black', alpha=0.3, linestyle='--')\n",
    "        gl.xlabels_top = False\n",
    "        gl.ylabels_left = True\n",
    "        gl.ylabels_right = False\n",
    "        gl.ylines = True\n",
    "        gl.xlines = True\n",
    "        gl.xlocator = mticker.FixedLocator(np.arange(-70, 50, 20)) #-70,50,20\n",
    "        gl.xformatter = LONGITUDE_FORMATTER\n",
    "        gl.yformatter = LATITUDE_FORMATTER\n",
    "        gl.xlabel_style = {'size': 15}\n",
    "        gl.ylabel_style = {'size': 15}\n",
    "\n",
    "        ax.coastlines('50m')\n",
    "        ax.set_extent([-70, 20, -50, 10])\n",
    "        ax.set_title(calendar.month_abbr[meses], fontdict={'fontsize': 20}, loc = 'right')\n",
    "   \n",
    "    else:\n",
    "    \n",
    "        cf = ax.contourf(coordenadas[0],coordenadas[1], u.isel(time=mes), cmap = 'RdBu_r')\n",
    "\n",
    "        cbar = plt.colorbar(cf, orientation='horizontal', pad=0.2 , ax=ax, shrink = 1.0, aspect=40)\n",
    "        cbar.ax.tick_params(labelsize=15)\n",
    "        cbar.set_label(\"m/s\", fontsize = 17, y = 0.3)\n",
    "\n",
    "        gl = ax.gridlines(crs=ccrs.PlateCarree(), draw_labels=True, linewidth=1, color='black', alpha=0.3, linestyle='--')\n",
    "        gl.xlabels_top = False\n",
    "        gl.ylabels_left = True\n",
    "        gl.ylabels_right = False\n",
    "        gl.ylines = True\n",
    "        gl.xlines = True\n",
    "        gl.xlocator = mticker.FixedLocator(np.arange(-70, 50, 20)) #-70,50,20\n",
    "        gl.xformatter = LONGITUDE_FORMATTER\n",
    "        gl.yformatter = LATITUDE_FORMATTER\n",
    "        gl.xlabel_style = {'size': 15}\n",
    "        gl.ylabel_style = {'size': 15}\n",
    "\n",
    "        ax.coastlines('50m')\n",
    "        ax.set_extent([-70, 20, -50, 10])\n",
    "        ax.set_title(calendar.month_abbr[meses], fontdict={'fontsize': 20}, loc = 'right')"
   ]
  },
  {
   "cell_type": "code",
   "execution_count": null,
   "metadata": {},
   "outputs": [],
   "source": [
    "#700 hpa = 0\n",
    "#800 hpa = 1"
   ]
  },
  {
   "cell_type": "code",
   "execution_count": null,
   "metadata": {},
   "outputs": [],
   "source": [
    "figura(0)"
   ]
  },
  {
   "cell_type": "code",
   "execution_count": null,
   "metadata": {
    "scrolled": true
   },
   "outputs": [],
   "source": [
    "figura(0)\n",
    "plt.savefig(\"uwnd_18months_700hpa.png\")"
   ]
  },
  {
   "cell_type": "code",
   "execution_count": null,
   "metadata": {},
   "outputs": [],
   "source": [
    "figura(1)\n",
    "plt.savefig(\"uwnd_18months_850hpa.png\")\n"
   ]
  },
  {
   "cell_type": "code",
   "execution_count": null,
   "metadata": {},
   "outputs": [],
   "source": []
  }
 ],
 "metadata": {
  "kernelspec": {
   "display_name": "Python 3",
   "language": "python",
   "name": "python3"
  },
  "language_info": {
   "codemirror_mode": {
    "name": "ipython",
    "version": 3
   },
   "file_extension": ".py",
   "mimetype": "text/x-python",
   "name": "python",
   "nbconvert_exporter": "python",
   "pygments_lexer": "ipython3",
   "version": "3.7.6"
  }
 },
 "nbformat": 4,
 "nbformat_minor": 4
}

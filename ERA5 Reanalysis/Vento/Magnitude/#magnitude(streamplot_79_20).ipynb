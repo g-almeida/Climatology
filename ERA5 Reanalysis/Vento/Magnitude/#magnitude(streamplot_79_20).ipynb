{
 "cells": [
  {
   "cell_type": "code",
   "execution_count": null,
   "metadata": {},
   "outputs": [],
   "source": [
    "import xarray as xr\n",
    "import pandas as pd\n",
    "import numpy as np\n",
    "import matplotlib as mpl\n",
    "import matplotlib.pyplot as plt\n",
    "import matplotlib.ticker as mticker\n",
    "import matplotlib.patches as mpatches\n",
    "from cartopy.mpl.gridliner import LONGITUDE_FORMATTER, LATITUDE_FORMATTER\n",
    "from mpl_toolkits.axes_grid1 import make_axes_locatable\n",
    "import seaborn as sns\n",
    "import cartopy\n",
    "import cartopy.crs as ccrs\n",
    "import cartopy.feature as cfeature\n",
    "from cartopy.mpl.ticker import LongitudeFormatter, LatitudeFormatter\n",
    "from cartopy.util import add_cyclic_point\n",
    "from datetime import datetime\n",
    "import os\n",
    "import seaborn as sns\n",
    "import metpy.calc as mpcalc\n",
    "import re\n",
    "import calendar\n",
    "from matplotlib.offsetbox import AnchoredText\n",
    "sns.set()"
   ]
  },
  {
   "cell_type": "code",
   "execution_count": null,
   "metadata": {},
   "outputs": [],
   "source": [
    "data_u = xr.open_dataset(\"uwnd_79_20.nc\")\n",
    "data_u.variables['latitude']   #array 1D\n",
    "data_u.variables['longitude']  #array 1D"
   ]
  },
  {
   "cell_type": "code",
   "execution_count": null,
   "metadata": {
    "scrolled": true
   },
   "outputs": [],
   "source": [
    "data_u\n"
   ]
  },
  {
   "cell_type": "code",
   "execution_count": null,
   "metadata": {
    "scrolled": true
   },
   "outputs": [],
   "source": [
    "data_v = xr.open_dataset(\"vwnd_79_20.nc\")\n",
    "data_v"
   ]
  },
  {
   "cell_type": "code",
   "execution_count": null,
   "metadata": {},
   "outputs": [],
   "source": [
    "def set_data(tempo, level):\n",
    "    \n",
    "    datau = xr.open_dataset(\"uwnd_79_20.nc\")\n",
    "    u = datau.u[:,0,level,:,:]\n",
    "    \n",
    "    datav = xr.open_dataset(\"vwnd_79_20.nc\")\n",
    "    v = datav.v[:,0,level,:,:]\n",
    "    \n",
    "    time_slice = slice(tempo[0],tempo[1])\n",
    "    \n",
    "    Umedia_mes = u.sel(time=time_slice).groupby('time.month').mean()\n",
    "    Vmedia_mes = v.sel(time=time_slice).groupby('time.month').mean()\n",
    "    \n",
    "    lons = Umedia_mes.longitude.values    #1D\n",
    "    lats = Vmedia_mes.latitude.values     #1D\n",
    "    \n",
    "    \n",
    "    return lons, lats, Umedia_mes, Vmedia_mes"
   ]
  },
  {
   "cell_type": "code",
   "execution_count": null,
   "metadata": {},
   "outputs": [],
   "source": [
    "def figura(tempo1, tempo2, level, mes):\n",
    "    \n",
    "    fig, ax = plt.subplots(nrows=1,ncols=2,subplot_kw=dict(projection = ccrs.PlateCarree()), figsize=(32,26))\n",
    "    if level == 0:\n",
    "        fig.suptitle('Comparativo\\nCampo de ventos 700 hPA', fontsize=34, weight='bold', y = 0.75, x = 0.505)\n",
    "    else:\n",
    "        fig.suptitle('Comparativo\\nCampo de ventos 850 hPA', fontsize=34, weight='bold', y = 0.75, x = 0.505)\n",
    "    #mes = [1,2,3,4,5,6,7,8,9,10,11,12]\n",
    "    \n",
    "    plott(ax[0], mes, tempo1, level)\n",
    "    plott2(ax[1], mes, tempo2, level)\n",
    "   "
   ]
  },
  {
   "cell_type": "code",
   "execution_count": null,
   "metadata": {},
   "outputs": [],
   "source": [
    "def plott(ax, mes, tempo1, level):\n",
    "    \n",
    "    lons, lats, Umedia_mes, Vmedia_mes = set_data(tempo1 , level)\n",
    "    \n",
    "    Uvel, lonu = add_cyclic_point(Umedia_mes.sel(month=mes), coord=lons)  #interpolando o grafico/ corrigindo a descontinuidade do meridiano\n",
    "    Vvel, lonv = add_cyclic_point(Vmedia_mes.sel(month=mes), coord=lons)\n",
    "    \n",
    "    \n",
    "    #lons                                    1D\n",
    "    #lats                                    1D\n",
    "    #Uvel = Umedia_mes.sel(month=mes)        #2D\n",
    "    #Vvel = Vmedia_mes.sel(month=mes)        #2D\n",
    "    \n",
    "    #clevs = np.arange(0,14,0.5)\n",
    "    #cf = ax.contourf(coordenadas[0],coordenadas[1], media_mespos.sel(month = mes), clevs, cmap = 'jet_r')\n",
    "    \n",
    "    magnitude = (Uvel ** 2 + Vvel ** 2) ** 0.5\n",
    "    \n",
    "    norm = mpl.colors.Normalize(vmin=0, vmax=30)\n",
    "    \n",
    "    sp = ax.streamplot(lonu, lats, Uvel, Vvel,\n",
    "                   linewidth = 1,\n",
    "                   arrowsize = 1,\n",
    "                   density = 5,\n",
    "                   color = magnitude,\n",
    "                   cmap='jet_r',\n",
    "                   norm=norm,\n",
    "                   transform=ccrs.PlateCarree())\n",
    "    \n",
    "    #cbar = plt.colorbar(cf, orientation='horizontal', pad=0.05 , ax=ax, shrink = 1.0, aspect=40)\n",
    "    #cbar.ax.tick_params(labelsize=15)\n",
    "    #cbar.set_label(\"m/s\", fontsize = 17, y = 0.3)\n",
    "    \n",
    "    gl = ax.gridlines(crs=ccrs.PlateCarree(), draw_labels=True, linewidth=1, color='black', alpha=0.3, linestyle='--')\n",
    "    gl.xlabels_top = False\n",
    "    gl.ylabels_left = True\n",
    "    gl.ylabels_right = False\n",
    "    gl.ylines = True\n",
    "    gl.xlines = True\n",
    "    gl.xlocator = mticker.FixedLocator(np.arange(-70, 50, 20)) #-70,50,20\n",
    "    gl.xformatter = LONGITUDE_FORMATTER\n",
    "    gl.yformatter = LATITUDE_FORMATTER\n",
    "    gl.xlabel_style = {'size': 15}\n",
    "    gl.ylabel_style = {'size': 15}\n",
    "    \n",
    "    ax.coastlines('50m')\n",
    "    ax.set_extent([-70, 20, -50, 10])\n",
    "    ax.set_title(calendar.month_abbr[mes], fontdict={'fontsize': 30}, loc = 'right')\n",
    "    ax.set_title('Climatologia de 1979 até 2010', fontdict={'fontsize': 30}, loc = 'left')"
   ]
  },
  {
   "cell_type": "code",
   "execution_count": null,
   "metadata": {},
   "outputs": [],
   "source": [
    "def plott2(ax, mes, tempo2, level):\n",
    "    \n",
    "    lons, lats, Umedia_mes, Vmedia_mes = set_data(tempo2 , level)\n",
    "    \n",
    "    Uvel, lonu = add_cyclic_point(Umedia_mes.sel(month=mes), coord=lons)  #interpolando o grafico/ corrigindo a descontinuidade do meridiano\n",
    "    Vvel, lonv = add_cyclic_point(Vmedia_mes.sel(month=mes), coord=lons)\n",
    "    \n",
    "    \n",
    "    #lons                                    1D\n",
    "    #lats                                    1D\n",
    "    #Uvel = Umedia_mes.sel(month=mes)        #2D\n",
    "    #Vvel = Vmedia_mes.sel(month=mes)        #2D\n",
    "    \n",
    "    #clevs = np.arange(0,14,0.5)\n",
    "    #cf = ax.contourf(coordenadas[0],coordenadas[1], media_mespos.sel(month = mes), clevs, cmap = 'jet_r')\n",
    "    \n",
    "    magnitude = (Uvel ** 2 + Vvel ** 2) ** 0.5\n",
    "    \n",
    "    norm = mpl.colors.Normalize(vmin=0, vmax=30)\n",
    "    \n",
    "    sp = ax.streamplot(lonu, lats, Uvel, Vvel,\n",
    "                   linewidth = 1,\n",
    "                   arrowsize = 1,\n",
    "                   density = 5,\n",
    "                   color = magnitude,\n",
    "                   cmap='jet_r',\n",
    "                   norm=norm,\n",
    "                   transform=ccrs.PlateCarree())\n",
    "    \n",
    "    #cbar = plt.colorbar(cf, orientation='horizontal', pad=0.05 , ax=ax, shrink = 1.0, aspect=40)\n",
    "    #cbar.ax.tick_params(labelsize=15)\n",
    "    #cbar.set_label(\"m/s\", fontsize = 17, y = 0.3)\n",
    "    \n",
    "    gl = ax.gridlines(crs=ccrs.PlateCarree(), draw_labels=True, linewidth=1, color='black', alpha=0.3, linestyle='--')\n",
    "    gl.xlabels_top = False\n",
    "    gl.ylabels_left = True\n",
    "    gl.ylabels_right = False\n",
    "    gl.ylines = True\n",
    "    gl.xlines = True\n",
    "    gl.xlocator = mticker.FixedLocator(np.arange(-70, 50, 20)) #-70,50,20\n",
    "    gl.xformatter = LONGITUDE_FORMATTER\n",
    "    gl.yformatter = LATITUDE_FORMATTER\n",
    "    gl.xlabel_style = {'size': 15}\n",
    "    gl.ylabel_style = {'size': 15}\n",
    "    \n",
    "    ax.coastlines('50m')\n",
    "    ax.set_extent([-70, 20, -50, 10])\n",
    "    ax.set_title(calendar.month_abbr[mes], fontdict={'fontsize': 30}, loc = 'right')\n",
    "    ax.set_title('2018 até 2019', fontdict={'fontsize': 30}, loc = 'left')"
   ]
  },
  {
   "cell_type": "code",
   "execution_count": null,
   "metadata": {},
   "outputs": [],
   "source": [
    "tempo1 = ['1979-01-01','2010-12-01']\n",
    "tempo2 = ['2018-01-01', '2019-12-01']\n",
    "\n",
    "# 0 = '700' hPA\n",
    "# 1 = '850' hPA\n",
    "#figura(tempo1, tempo2, level, mes escolhido)\n",
    "    #level: 0 = '700' hPA   ou   1 = '850' hPA  \n",
    "    #mes escolhido = [1 até 12]"
   ]
  },
  {
   "cell_type": "code",
   "execution_count": null,
   "metadata": {
    "scrolled": true
   },
   "outputs": [],
   "source": [
    "figura(tempo1, tempo2, 0, 1)\n",
    "plt.savefig(\"uwnd_vwnd.png\")"
   ]
  },
  {
   "cell_type": "code",
   "execution_count": null,
   "metadata": {},
   "outputs": [],
   "source": [
    "figura(tempo1,tempo2, 0, 5)"
   ]
  },
  {
   "cell_type": "code",
   "execution_count": null,
   "metadata": {},
   "outputs": [],
   "source": []
  }
 ],
 "metadata": {
  "kernelspec": {
   "display_name": "Python 3",
   "language": "python",
   "name": "python3"
  },
  "language_info": {
   "codemirror_mode": {
    "name": "ipython",
    "version": 3
   },
   "file_extension": ".py",
   "mimetype": "text/x-python",
   "name": "python",
   "nbconvert_exporter": "python",
   "pygments_lexer": "ipython3",
   "version": "3.8.2"
  }
 },
 "nbformat": 4,
 "nbformat_minor": 4
}

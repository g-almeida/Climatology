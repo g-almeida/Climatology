{
 "cells": [
  {
   "cell_type": "code",
   "execution_count": 1,
   "metadata": {},
   "outputs": [],
   "source": [
    "import pandas as pd\n",
    "import os"
   ]
  },
  {
   "cell_type": "code",
   "execution_count": 4,
   "metadata": {},
   "outputs": [
    {
     "output_type": "execute_result",
     "data": {
      "text/plain": [
       "['Charitas', 'Barreto', 'Itaipu']"
      ]
     },
     "metadata": {},
     "execution_count": 4
    }
   ],
   "source": [
    "path1 = \"/home/data/PMN/1.Pluviometricos/\"\n",
    "path2 = \"/home/data/PMN/2.Meteorologicos/\" \n",
    "os.listdir(\"/home/data/PMN/2.Meteorologicos/\")"
   ]
  },
  {
   "source": [
    "# Começando pelos Meteorológicos:\n",
    "## Barreto:"
   ],
   "cell_type": "markdown",
   "metadata": {}
  },
  {
   "cell_type": "code",
   "execution_count": 11,
   "metadata": {},
   "outputs": [
    {
     "output_type": "execute_result",
     "data": {
      "text/plain": [
       "['Dados Meteorológicos_Niterói_2021.xlsx',\n",
       " 'Dados Meteorológicos_Niterói_2018.xlsx',\n",
       " 'Dados Meteorológicos_Niterói_2019.csv',\n",
       " 'Dados Meteorológicos_Niterói_2020.csv']"
      ]
     },
     "metadata": {},
     "execution_count": 11
    }
   ],
   "source": [
    "os.listdir(\"/home/data/PMN/2.Meteorologicos/Barreto/\")"
   ]
  },
  {
   "cell_type": "code",
   "execution_count": 57,
   "metadata": {},
   "outputs": [],
   "source": [
    "barreto = os.listdir(\"/home/data/PMN/2.Meteorologicos/Barreto/\")\n",
    "B_list = []\n",
    "for cada in barreto:\n",
    "    try:\n",
    "        var = pd.read_csv(path2+\"Barreto/\"+cada, sep=';')\n",
    "    except:\n",
    "        var = pd.read_excel(path2+\"Barreto/\"+cada)\n",
    "    \n",
    "    B_list.append(var)"
   ]
  },
  {
   "cell_type": "code",
   "execution_count": 61,
   "metadata": {},
   "outputs": [],
   "source": [
    "B_list[1]=B_list[1].loc[7:]\r\n",
    "B_list[1].reset_index().drop\r\n",
    "\r\n",
    "B_list[2]=B_list[2].loc[7:]\r\n",
    "B_list[2].reset_index()\r\n",
    "\r\n",
    "B_list[3]=B_list[3].loc[7:]\r\n",
    "B_list[3].reset_index()"
   ]
  },
  {
   "cell_type": "code",
   "execution_count": 75,
   "metadata": {},
   "outputs": [
    {
     "output_type": "execute_result",
     "data": {
      "text/plain": [
       "['Data',\n",
       " 'Hora (UTC)',\n",
       " 'Temp. Ins. (C)',\n",
       " 'Temp. Max. (C)',\n",
       " 'Temp. Min. (C)',\n",
       " 'Umi. Ins. (%)',\n",
       " 'Umi. Max. (%)',\n",
       " 'Umi. Min. (%)',\n",
       " 'Pto Orvalho Ins. (C)',\n",
       " 'Pto Orvalho Max. (C)',\n",
       " 'Pto Orvalho Min. (C)',\n",
       " 'Pressao Ins. (hPa)',\n",
       " 'Pressao Max. (hPa)',\n",
       " 'Pressao Min. (hPa)',\n",
       " 'Vel. Vento (m/s)',\n",
       " 'Dir. Vento (m/s)',\n",
       " 'Raj. Vento (m/s)',\n",
       " 'Radiacao (KJ/mÂ²)',\n",
       " 'Chuva (mm)']"
      ]
     },
     "metadata": {},
     "execution_count": 75
    }
   ],
   "source": [
    "colunas=[]\n",
    "for cada in B_list[0].loc[0]:\n",
    "    colunas.append(cada) \n",
    "colunas"
   ]
  },
  {
   "cell_type": "code",
   "execution_count": 89,
   "metadata": {},
   "outputs": [
    {
     "output_type": "error",
     "ename": "ValueError",
     "evalue": "cannot insert level_0, already exists",
     "traceback": [
      "\u001b[0;31m---------------------------------------------------------------------------\u001b[0m",
      "\u001b[0;31mValueError\u001b[0m                                Traceback (most recent call last)",
      "\u001b[0;32m<ipython-input-89-97b17a93286e>\u001b[0m in \u001b[0;36m<module>\u001b[0;34m\u001b[0m\n\u001b[0;32m----> 1\u001b[0;31m \u001b[0mB_list\u001b[0m\u001b[0;34m[\u001b[0m\u001b[0;36m1\u001b[0m\u001b[0;34m]\u001b[0m \u001b[0;34m=\u001b[0m \u001b[0mB_list\u001b[0m\u001b[0;34m[\u001b[0m\u001b[0;36m1\u001b[0m\u001b[0;34m]\u001b[0m\u001b[0;34m.\u001b[0m\u001b[0mreset_index\u001b[0m\u001b[0;34m(\u001b[0m\u001b[0;34m)\u001b[0m\u001b[0;34m\u001b[0m\u001b[0;34m\u001b[0m\u001b[0m\n\u001b[0m\u001b[1;32m      2\u001b[0m \u001b[0mB_list\u001b[0m\u001b[0;34m[\u001b[0m\u001b[0;36m1\u001b[0m\u001b[0;34m]\u001b[0m\u001b[0;34m\u001b[0m\u001b[0;34m\u001b[0m\u001b[0m\n",
      "\u001b[0;32m~/miniconda3/envs/smap/lib/python3.8/site-packages/pandas/core/frame.py\u001b[0m in \u001b[0;36mreset_index\u001b[0;34m(self, level, drop, inplace, col_level, col_fill)\u001b[0m\n\u001b[1;32m   5014\u001b[0m                 \u001b[0;31m# to ndarray and maybe infer different dtype\u001b[0m\u001b[0;34m\u001b[0m\u001b[0;34m\u001b[0m\u001b[0;34m\u001b[0m\u001b[0m\n\u001b[1;32m   5015\u001b[0m                 \u001b[0mlevel_values\u001b[0m \u001b[0;34m=\u001b[0m \u001b[0mmaybe_casted_values\u001b[0m\u001b[0;34m(\u001b[0m\u001b[0mlev\u001b[0m\u001b[0;34m,\u001b[0m \u001b[0mlab\u001b[0m\u001b[0;34m)\u001b[0m\u001b[0;34m\u001b[0m\u001b[0;34m\u001b[0m\u001b[0m\n\u001b[0;32m-> 5016\u001b[0;31m                 \u001b[0mnew_obj\u001b[0m\u001b[0;34m.\u001b[0m\u001b[0minsert\u001b[0m\u001b[0;34m(\u001b[0m\u001b[0;36m0\u001b[0m\u001b[0;34m,\u001b[0m \u001b[0mname\u001b[0m\u001b[0;34m,\u001b[0m \u001b[0mlevel_values\u001b[0m\u001b[0;34m)\u001b[0m\u001b[0;34m\u001b[0m\u001b[0;34m\u001b[0m\u001b[0m\n\u001b[0m\u001b[1;32m   5017\u001b[0m \u001b[0;34m\u001b[0m\u001b[0m\n\u001b[1;32m   5018\u001b[0m         \u001b[0mnew_obj\u001b[0m\u001b[0;34m.\u001b[0m\u001b[0mindex\u001b[0m \u001b[0;34m=\u001b[0m \u001b[0mnew_index\u001b[0m\u001b[0;34m\u001b[0m\u001b[0;34m\u001b[0m\u001b[0m\n",
      "\u001b[0;32m~/miniconda3/envs/smap/lib/python3.8/site-packages/pandas/core/frame.py\u001b[0m in \u001b[0;36minsert\u001b[0;34m(self, loc, column, value, allow_duplicates)\u001b[0m\n\u001b[1;32m   3761\u001b[0m         \u001b[0mself\u001b[0m\u001b[0;34m.\u001b[0m\u001b[0m_ensure_valid_index\u001b[0m\u001b[0;34m(\u001b[0m\u001b[0mvalue\u001b[0m\u001b[0;34m)\u001b[0m\u001b[0;34m\u001b[0m\u001b[0;34m\u001b[0m\u001b[0m\n\u001b[1;32m   3762\u001b[0m         \u001b[0mvalue\u001b[0m \u001b[0;34m=\u001b[0m \u001b[0mself\u001b[0m\u001b[0;34m.\u001b[0m\u001b[0m_sanitize_column\u001b[0m\u001b[0;34m(\u001b[0m\u001b[0mcolumn\u001b[0m\u001b[0;34m,\u001b[0m \u001b[0mvalue\u001b[0m\u001b[0;34m,\u001b[0m \u001b[0mbroadcast\u001b[0m\u001b[0;34m=\u001b[0m\u001b[0;32mFalse\u001b[0m\u001b[0;34m)\u001b[0m\u001b[0;34m\u001b[0m\u001b[0;34m\u001b[0m\u001b[0m\n\u001b[0;32m-> 3763\u001b[0;31m         \u001b[0mself\u001b[0m\u001b[0;34m.\u001b[0m\u001b[0m_mgr\u001b[0m\u001b[0;34m.\u001b[0m\u001b[0minsert\u001b[0m\u001b[0;34m(\u001b[0m\u001b[0mloc\u001b[0m\u001b[0;34m,\u001b[0m \u001b[0mcolumn\u001b[0m\u001b[0;34m,\u001b[0m \u001b[0mvalue\u001b[0m\u001b[0;34m,\u001b[0m \u001b[0mallow_duplicates\u001b[0m\u001b[0;34m=\u001b[0m\u001b[0mallow_duplicates\u001b[0m\u001b[0;34m)\u001b[0m\u001b[0;34m\u001b[0m\u001b[0;34m\u001b[0m\u001b[0m\n\u001b[0m\u001b[1;32m   3764\u001b[0m \u001b[0;34m\u001b[0m\u001b[0m\n\u001b[1;32m   3765\u001b[0m     \u001b[0;32mdef\u001b[0m \u001b[0massign\u001b[0m\u001b[0;34m(\u001b[0m\u001b[0mself\u001b[0m\u001b[0;34m,\u001b[0m \u001b[0;34m**\u001b[0m\u001b[0mkwargs\u001b[0m\u001b[0;34m)\u001b[0m \u001b[0;34m->\u001b[0m \u001b[0mDataFrame\u001b[0m\u001b[0;34m:\u001b[0m\u001b[0;34m\u001b[0m\u001b[0;34m\u001b[0m\u001b[0m\n",
      "\u001b[0;32m~/miniconda3/envs/smap/lib/python3.8/site-packages/pandas/core/internals/managers.py\u001b[0m in \u001b[0;36minsert\u001b[0;34m(self, loc, item, value, allow_duplicates)\u001b[0m\n\u001b[1;32m   1189\u001b[0m         \u001b[0;32mif\u001b[0m \u001b[0;32mnot\u001b[0m \u001b[0mallow_duplicates\u001b[0m \u001b[0;32mand\u001b[0m \u001b[0mitem\u001b[0m \u001b[0;32min\u001b[0m \u001b[0mself\u001b[0m\u001b[0;34m.\u001b[0m\u001b[0mitems\u001b[0m\u001b[0;34m:\u001b[0m\u001b[0;34m\u001b[0m\u001b[0;34m\u001b[0m\u001b[0m\n\u001b[1;32m   1190\u001b[0m             \u001b[0;31m# Should this be a different kind of error??\u001b[0m\u001b[0;34m\u001b[0m\u001b[0;34m\u001b[0m\u001b[0;34m\u001b[0m\u001b[0m\n\u001b[0;32m-> 1191\u001b[0;31m             \u001b[0;32mraise\u001b[0m \u001b[0mValueError\u001b[0m\u001b[0;34m(\u001b[0m\u001b[0;34mf\"cannot insert {item}, already exists\"\u001b[0m\u001b[0;34m)\u001b[0m\u001b[0;34m\u001b[0m\u001b[0;34m\u001b[0m\u001b[0m\n\u001b[0m\u001b[1;32m   1192\u001b[0m \u001b[0;34m\u001b[0m\u001b[0m\n\u001b[1;32m   1193\u001b[0m         \u001b[0;32mif\u001b[0m \u001b[0;32mnot\u001b[0m \u001b[0misinstance\u001b[0m\u001b[0;34m(\u001b[0m\u001b[0mloc\u001b[0m\u001b[0;34m,\u001b[0m \u001b[0mint\u001b[0m\u001b[0;34m)\u001b[0m\u001b[0;34m:\u001b[0m\u001b[0;34m\u001b[0m\u001b[0;34m\u001b[0m\u001b[0m\n",
      "\u001b[0;31mValueError\u001b[0m: cannot insert level_0, already exists"
     ]
    }
   ],
   "source": [
    "B_list[1] = B_list[1].reset_index()\n",
    "B_list[1]"
   ]
  },
  {
   "cell_type": "code",
   "execution_count": 80,
   "metadata": {},
   "outputs": [
    {
     "output_type": "execute_result",
     "data": {
      "text/plain": [
       "                  REGIÃO:          SE                        Unnamed: 2  \\\n",
       "7       DATA (YYYY-MM-DD)  HORA (UTC)  PRECIPITAÇÃO TOTAL, HORÁRIO (mm)   \n",
       "8     2018-07-13 00:00:00    00:00:00                             -9999   \n",
       "9     2018-07-13 00:00:00    01:00:00                             -9999   \n",
       "10    2018-07-13 00:00:00    02:00:00                             -9999   \n",
       "11    2018-07-13 00:00:00    03:00:00                             -9999   \n",
       "...                   ...         ...                               ...   \n",
       "4131  2018-12-31 00:00:00    19:00:00                                 0   \n",
       "4132  2018-12-31 00:00:00    20:00:00                                 0   \n",
       "4133  2018-12-31 00:00:00    21:00:00                                 0   \n",
       "4134  2018-12-31 00:00:00    22:00:00                                 0   \n",
       "4135  2018-12-31 00:00:00    23:00:00                                 0   \n",
       "\n",
       "                                             Unnamed: 3  \\\n",
       "7     PRESSAO ATMOSFERICA AO NIVEL DA ESTACAO, HORAR...   \n",
       "8                                                 -9999   \n",
       "9                                                 -9999   \n",
       "10                                                -9999   \n",
       "11                                                -9999   \n",
       "...                                                 ...   \n",
       "4131                                               1010   \n",
       "4132                                               1010   \n",
       "4133                                             1010.7   \n",
       "4134                                             1011.1   \n",
       "4135                                             1011.9   \n",
       "\n",
       "                                           Unnamed: 4  \\\n",
       "7     PRESSÃO ATMOSFERICA MAX.NA HORA ANT. (AUT) (mB)   \n",
       "8                                               -9999   \n",
       "9                                               -9999   \n",
       "10                                              -9999   \n",
       "11                                              -9999   \n",
       "...                                               ...   \n",
       "4131                                             1010   \n",
       "4132                                           1010.1   \n",
       "4133                                             1011   \n",
       "4134                                           1011.1   \n",
       "4135                                           1011.9   \n",
       "\n",
       "                                            Unnamed: 5  \\\n",
       "7     PRESSÃO ATMOSFERICA MIN. NA HORA ANT. (AUT) (mB)   \n",
       "8                                                -9999   \n",
       "9                                                -9999   \n",
       "10                                               -9999   \n",
       "11                                               -9999   \n",
       "...                                                ...   \n",
       "4131                                            1008.5   \n",
       "4132                                            1009.6   \n",
       "4133                                              1010   \n",
       "4134                                            1010.7   \n",
       "4135                                            1011.1   \n",
       "\n",
       "                   Unnamed: 6                                    Unnamed: 7  \\\n",
       "7     RADIACAO GLOBAL (KJ/m²)  TEMPERATURA DO AR - BULBO SECO, HORARIA (°C)   \n",
       "8                       -9999                                         -9999   \n",
       "9                       -9999                                         -9999   \n",
       "10                      -9999                                         -9999   \n",
       "11                      -9999                                         -9999   \n",
       "...                       ...                                           ...   \n",
       "4131                   2241.3                                          30.7   \n",
       "4132                    826.9                                            30   \n",
       "4133                      343                                          28.3   \n",
       "4134                     58.3                                          28.1   \n",
       "4135                    -9999                                          27.9   \n",
       "\n",
       "                                Unnamed: 8  \\\n",
       "7     TEMPERATURA DO PONTO DE ORVALHO (°C)   \n",
       "8                                    -9999   \n",
       "9                                    -9999   \n",
       "10                                   -9999   \n",
       "11                                   -9999   \n",
       "...                                    ...   \n",
       "4131                                  23.1   \n",
       "4132                                  22.1   \n",
       "4133                                  20.9   \n",
       "4134                                  20.3   \n",
       "4135                                    20   \n",
       "\n",
       "                                      Unnamed: 9  \\\n",
       "7     TEMPERATURA MÁXIMA NA HORA ANT. (AUT) (°C)   \n",
       "8                                          -9999   \n",
       "9                                          -9999   \n",
       "10                                         -9999   \n",
       "11                                         -9999   \n",
       "...                                          ...   \n",
       "4131                                        32.7   \n",
       "4132                                        30.7   \n",
       "4133                                        30.1   \n",
       "4134                                        28.3   \n",
       "4135                                        28.2   \n",
       "\n",
       "                                     Unnamed: 10  \\\n",
       "7     TEMPERATURA MÍNIMA NA HORA ANT. (AUT) (°C)   \n",
       "8                                          -9999   \n",
       "9                                          -9999   \n",
       "10                                         -9999   \n",
       "11                                         -9999   \n",
       "...                                          ...   \n",
       "4131                                        29.9   \n",
       "4132                                        29.2   \n",
       "4133                                        28.3   \n",
       "4134                                        27.8   \n",
       "4135                                        27.8   \n",
       "\n",
       "                                           Unnamed: 11  \\\n",
       "7     TEMPERATURA ORVALHO MAX. NA HORA ANT. (AUT) (°C)   \n",
       "8                                                -9999   \n",
       "9                                                -9999   \n",
       "10                                               -9999   \n",
       "11                                               -9999   \n",
       "...                                                ...   \n",
       "4131                                              23.2   \n",
       "4132                                                23   \n",
       "4133                                              22.4   \n",
       "4134                                              21.3   \n",
       "4135                                              20.4   \n",
       "\n",
       "                                           Unnamed: 12  \\\n",
       "7     TEMPERATURA ORVALHO MIN. NA HORA ANT. (AUT) (°C)   \n",
       "8                                                -9999   \n",
       "9                                                -9999   \n",
       "10                                               -9999   \n",
       "11                                               -9999   \n",
       "...                                                ...   \n",
       "4131                                              21.9   \n",
       "4132                                                22   \n",
       "4133                                              20.3   \n",
       "4134                                              20.3   \n",
       "4135                                              19.8   \n",
       "\n",
       "                                   Unnamed: 13  \\\n",
       "7     UMIDADE REL. MAX. NA HORA ANT. (AUT) (%)   \n",
       "8                                        -9999   \n",
       "9                                        -9999   \n",
       "10                                       -9999   \n",
       "11                                       -9999   \n",
       "...                                        ...   \n",
       "4131                                        66   \n",
       "4132                                        67   \n",
       "4133                                        66   \n",
       "4134                                        67   \n",
       "4135                                        63   \n",
       "\n",
       "                                   Unnamed: 14  \\\n",
       "7     UMIDADE REL. MIN. NA HORA ANT. (AUT) (%)   \n",
       "8                                        -9999   \n",
       "9                                        -9999   \n",
       "10                                       -9999   \n",
       "11                                       -9999   \n",
       "...                                        ...   \n",
       "4131                                        55   \n",
       "4132                                        62   \n",
       "4133                                        59   \n",
       "4134                                        62   \n",
       "4135                                        62   \n",
       "\n",
       "                              Unnamed: 15  \\\n",
       "7     UMIDADE RELATIVA DO AR, HORARIA (%)   \n",
       "8                                   -9999   \n",
       "9                                   -9999   \n",
       "10                                  -9999   \n",
       "11                                  -9999   \n",
       "...                                   ...   \n",
       "4131                                   64   \n",
       "4132                                   63   \n",
       "4133                                   64   \n",
       "4134                                   62   \n",
       "4135                                   62   \n",
       "\n",
       "                               Unnamed: 16                 Unnamed: 17  \\\n",
       "7     VENTO, DIREÇÃO HORARIA (gr) (° (gr))  VENTO, RAJADA MAXIMA (m/s)   \n",
       "8                                    -9999                       -9999   \n",
       "9                                    -9999                       -9999   \n",
       "10                                   -9999                       -9999   \n",
       "11                                   -9999                       -9999   \n",
       "...                                    ...                         ...   \n",
       "4131                                   114                        10.2   \n",
       "4132                                   163                         7.1   \n",
       "4133                                   338                         7.1   \n",
       "4134                                    63                           4   \n",
       "4135                                    71                         2.8   \n",
       "\n",
       "                          Unnamed: 18  \n",
       "7     VENTO, VELOCIDADE HORARIA (m/s)  \n",
       "8                               -9999  \n",
       "9                               -9999  \n",
       "10                              -9999  \n",
       "11                              -9999  \n",
       "...                               ...  \n",
       "4131                              2.8  \n",
       "4132                              2.3  \n",
       "4133                              1.3  \n",
       "4134                              1.3  \n",
       "4135                              0.6  \n",
       "\n",
       "[4129 rows x 19 columns]"
      ],
      "text/html": "<div>\n<style scoped>\n    .dataframe tbody tr th:only-of-type {\n        vertical-align: middle;\n    }\n\n    .dataframe tbody tr th {\n        vertical-align: top;\n    }\n\n    .dataframe thead th {\n        text-align: right;\n    }\n</style>\n<table border=\"1\" class=\"dataframe\">\n  <thead>\n    <tr style=\"text-align: right;\">\n      <th></th>\n      <th>REGIÃO:</th>\n      <th>SE</th>\n      <th>Unnamed: 2</th>\n      <th>Unnamed: 3</th>\n      <th>Unnamed: 4</th>\n      <th>Unnamed: 5</th>\n      <th>Unnamed: 6</th>\n      <th>Unnamed: 7</th>\n      <th>Unnamed: 8</th>\n      <th>Unnamed: 9</th>\n      <th>Unnamed: 10</th>\n      <th>Unnamed: 11</th>\n      <th>Unnamed: 12</th>\n      <th>Unnamed: 13</th>\n      <th>Unnamed: 14</th>\n      <th>Unnamed: 15</th>\n      <th>Unnamed: 16</th>\n      <th>Unnamed: 17</th>\n      <th>Unnamed: 18</th>\n    </tr>\n  </thead>\n  <tbody>\n    <tr>\n      <th>7</th>\n      <td>DATA (YYYY-MM-DD)</td>\n      <td>HORA (UTC)</td>\n      <td>PRECIPITAÇÃO TOTAL, HORÁRIO (mm)</td>\n      <td>PRESSAO ATMOSFERICA AO NIVEL DA ESTACAO, HORAR...</td>\n      <td>PRESSÃO ATMOSFERICA MAX.NA HORA ANT. (AUT) (mB)</td>\n      <td>PRESSÃO ATMOSFERICA MIN. NA HORA ANT. (AUT) (mB)</td>\n      <td>RADIACAO GLOBAL (KJ/m²)</td>\n      <td>TEMPERATURA DO AR - BULBO SECO, HORARIA (°C)</td>\n      <td>TEMPERATURA DO PONTO DE ORVALHO (°C)</td>\n      <td>TEMPERATURA MÁXIMA NA HORA ANT. (AUT) (°C)</td>\n      <td>TEMPERATURA MÍNIMA NA HORA ANT. (AUT) (°C)</td>\n      <td>TEMPERATURA ORVALHO MAX. NA HORA ANT. (AUT) (°C)</td>\n      <td>TEMPERATURA ORVALHO MIN. NA HORA ANT. (AUT) (°C)</td>\n      <td>UMIDADE REL. MAX. NA HORA ANT. (AUT) (%)</td>\n      <td>UMIDADE REL. MIN. NA HORA ANT. (AUT) (%)</td>\n      <td>UMIDADE RELATIVA DO AR, HORARIA (%)</td>\n      <td>VENTO, DIREÇÃO HORARIA (gr) (° (gr))</td>\n      <td>VENTO, RAJADA MAXIMA (m/s)</td>\n      <td>VENTO, VELOCIDADE HORARIA (m/s)</td>\n    </tr>\n    <tr>\n      <th>8</th>\n      <td>2018-07-13 00:00:00</td>\n      <td>00:00:00</td>\n      <td>-9999</td>\n      <td>-9999</td>\n      <td>-9999</td>\n      <td>-9999</td>\n      <td>-9999</td>\n      <td>-9999</td>\n      <td>-9999</td>\n      <td>-9999</td>\n      <td>-9999</td>\n      <td>-9999</td>\n      <td>-9999</td>\n      <td>-9999</td>\n      <td>-9999</td>\n      <td>-9999</td>\n      <td>-9999</td>\n      <td>-9999</td>\n      <td>-9999</td>\n    </tr>\n    <tr>\n      <th>9</th>\n      <td>2018-07-13 00:00:00</td>\n      <td>01:00:00</td>\n      <td>-9999</td>\n      <td>-9999</td>\n      <td>-9999</td>\n      <td>-9999</td>\n      <td>-9999</td>\n      <td>-9999</td>\n      <td>-9999</td>\n      <td>-9999</td>\n      <td>-9999</td>\n      <td>-9999</td>\n      <td>-9999</td>\n      <td>-9999</td>\n      <td>-9999</td>\n      <td>-9999</td>\n      <td>-9999</td>\n      <td>-9999</td>\n      <td>-9999</td>\n    </tr>\n    <tr>\n      <th>10</th>\n      <td>2018-07-13 00:00:00</td>\n      <td>02:00:00</td>\n      <td>-9999</td>\n      <td>-9999</td>\n      <td>-9999</td>\n      <td>-9999</td>\n      <td>-9999</td>\n      <td>-9999</td>\n      <td>-9999</td>\n      <td>-9999</td>\n      <td>-9999</td>\n      <td>-9999</td>\n      <td>-9999</td>\n      <td>-9999</td>\n      <td>-9999</td>\n      <td>-9999</td>\n      <td>-9999</td>\n      <td>-9999</td>\n      <td>-9999</td>\n    </tr>\n    <tr>\n      <th>11</th>\n      <td>2018-07-13 00:00:00</td>\n      <td>03:00:00</td>\n      <td>-9999</td>\n      <td>-9999</td>\n      <td>-9999</td>\n      <td>-9999</td>\n      <td>-9999</td>\n      <td>-9999</td>\n      <td>-9999</td>\n      <td>-9999</td>\n      <td>-9999</td>\n      <td>-9999</td>\n      <td>-9999</td>\n      <td>-9999</td>\n      <td>-9999</td>\n      <td>-9999</td>\n      <td>-9999</td>\n      <td>-9999</td>\n      <td>-9999</td>\n    </tr>\n    <tr>\n      <th>...</th>\n      <td>...</td>\n      <td>...</td>\n      <td>...</td>\n      <td>...</td>\n      <td>...</td>\n      <td>...</td>\n      <td>...</td>\n      <td>...</td>\n      <td>...</td>\n      <td>...</td>\n      <td>...</td>\n      <td>...</td>\n      <td>...</td>\n      <td>...</td>\n      <td>...</td>\n      <td>...</td>\n      <td>...</td>\n      <td>...</td>\n      <td>...</td>\n    </tr>\n    <tr>\n      <th>4131</th>\n      <td>2018-12-31 00:00:00</td>\n      <td>19:00:00</td>\n      <td>0</td>\n      <td>1010</td>\n      <td>1010</td>\n      <td>1008.5</td>\n      <td>2241.3</td>\n      <td>30.7</td>\n      <td>23.1</td>\n      <td>32.7</td>\n      <td>29.9</td>\n      <td>23.2</td>\n      <td>21.9</td>\n      <td>66</td>\n      <td>55</td>\n      <td>64</td>\n      <td>114</td>\n      <td>10.2</td>\n      <td>2.8</td>\n    </tr>\n    <tr>\n      <th>4132</th>\n      <td>2018-12-31 00:00:00</td>\n      <td>20:00:00</td>\n      <td>0</td>\n      <td>1010</td>\n      <td>1010.1</td>\n      <td>1009.6</td>\n      <td>826.9</td>\n      <td>30</td>\n      <td>22.1</td>\n      <td>30.7</td>\n      <td>29.2</td>\n      <td>23</td>\n      <td>22</td>\n      <td>67</td>\n      <td>62</td>\n      <td>63</td>\n      <td>163</td>\n      <td>7.1</td>\n      <td>2.3</td>\n    </tr>\n    <tr>\n      <th>4133</th>\n      <td>2018-12-31 00:00:00</td>\n      <td>21:00:00</td>\n      <td>0</td>\n      <td>1010.7</td>\n      <td>1011</td>\n      <td>1010</td>\n      <td>343</td>\n      <td>28.3</td>\n      <td>20.9</td>\n      <td>30.1</td>\n      <td>28.3</td>\n      <td>22.4</td>\n      <td>20.3</td>\n      <td>66</td>\n      <td>59</td>\n      <td>64</td>\n      <td>338</td>\n      <td>7.1</td>\n      <td>1.3</td>\n    </tr>\n    <tr>\n      <th>4134</th>\n      <td>2018-12-31 00:00:00</td>\n      <td>22:00:00</td>\n      <td>0</td>\n      <td>1011.1</td>\n      <td>1011.1</td>\n      <td>1010.7</td>\n      <td>58.3</td>\n      <td>28.1</td>\n      <td>20.3</td>\n      <td>28.3</td>\n      <td>27.8</td>\n      <td>21.3</td>\n      <td>20.3</td>\n      <td>67</td>\n      <td>62</td>\n      <td>62</td>\n      <td>63</td>\n      <td>4</td>\n      <td>1.3</td>\n    </tr>\n    <tr>\n      <th>4135</th>\n      <td>2018-12-31 00:00:00</td>\n      <td>23:00:00</td>\n      <td>0</td>\n      <td>1011.9</td>\n      <td>1011.9</td>\n      <td>1011.1</td>\n      <td>-9999</td>\n      <td>27.9</td>\n      <td>20</td>\n      <td>28.2</td>\n      <td>27.8</td>\n      <td>20.4</td>\n      <td>19.8</td>\n      <td>63</td>\n      <td>62</td>\n      <td>62</td>\n      <td>71</td>\n      <td>2.8</td>\n      <td>0.6</td>\n    </tr>\n  </tbody>\n</table>\n<p>4129 rows × 19 columns</p>\n</div>"
     },
     "metadata": {},
     "execution_count": 80
    }
   ],
   "source": [
    "B_list[1]"
   ]
  },
  {
   "cell_type": "code",
   "execution_count": null,
   "metadata": {},
   "outputs": [],
   "source": []
  }
 ],
 "metadata": {
  "kernelspec": {
   "name": "python3",
   "display_name": "Python 3.8.2 64-bit ('smap': conda)"
  },
  "language_info": {
   "codemirror_mode": {
    "name": "ipython",
    "version": 3
   },
   "file_extension": ".py",
   "mimetype": "text/x-python",
   "name": "python",
   "nbconvert_exporter": "python",
   "pygments_lexer": "ipython3",
   "version": "3.8.2"
  },
  "interpreter": {
   "hash": "eb8a7b46cb307c93c0dbb1ad4a66b22036c6d642c1d2382d23b07df093a7d948"
  }
 },
 "nbformat": 4,
 "nbformat_minor": 4
}
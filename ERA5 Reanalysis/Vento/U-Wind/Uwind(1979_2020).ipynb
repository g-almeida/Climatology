{
 "cells": [
  {
   "cell_type": "code",
   "execution_count": null,
   "metadata": {},
   "outputs": [],
   "source": [
    "import xarray as xr\n",
    "import pandas as pd\n",
    "import numpy as np\n",
    "import matplotlib as mpl\n",
    "import matplotlib.pyplot as plt\n",
    "import matplotlib.ticker as mticker\n",
    "import matplotlib.patches as mpatches\n",
    "from cartopy.mpl.gridliner import LONGITUDE_FORMATTER, LATITUDE_FORMATTER\n",
    "from mpl_toolkits.axes_grid1 import make_axes_locatable\n",
    "import seaborn as sns\n",
    "import cartopy\n",
    "import cartopy.crs as ccrs\n",
    "import cartopy.feature as cfeature\n",
    "from cartopy.mpl.ticker import LongitudeFormatter, LatitudeFormatter\n",
    "from cartopy.util import add_cyclic_point\n",
    "from datetime import datetime\n",
    "import os\n",
    "import seaborn as sns\n",
    "import metpy.calc as mpcalc\n",
    "import re\n",
    "import calendar\n",
    "from matplotlib.offsetbox import AnchoredText\n",
    "sns.set()"
   ]
  },
  {
   "cell_type": "code",
   "execution_count": null,
   "metadata": {
    "scrolled": true
   },
   "outputs": [],
   "source": [
    "dataX = xr.open_dataset(\"uwnd_79_20.nc\")\n",
    "dataX"
   ]
  },
  {
   "cell_type": "code",
   "execution_count": null,
   "metadata": {},
   "outputs": [],
   "source": [
    "np.array(dataX.u[-1,0,0,:,:])"
   ]
  },
  {
   "cell_type": "code",
   "execution_count": null,
   "metadata": {},
   "outputs": [],
   "source": [
    "def set_data(tempo, level):\n",
    "    \n",
    "    data = xr.open_dataset(\"uwnd_79_20.nc\")\n",
    "    \n",
    "    u = data.u[:,0,level,:,:]\n",
    "    \n",
    "    time_slice = slice(tempo[0],tempo[1])\n",
    "    \n",
    "    media_mes = u.sel(time=time_slice).groupby('time.month').mean()\n",
    "    \n",
    "    coordenadas = [media_mes.longitude.values , media_mes.latitude.values]\n",
    "    \n",
    "    return coordenadas , media_mes\n",
    "    "
   ]
  },
  {
   "cell_type": "code",
   "execution_count": null,
   "metadata": {},
   "outputs": [],
   "source": [
    "def figura(tempo, level):\n",
    "    \n",
    "    fig, ax = plt.subplots(nrows=3,ncols=4,subplot_kw=dict(projection = ccrs.PlateCarree()), figsize=(32,26))\n",
    "    if level == 0:\n",
    "        fig.suptitle('Vento Zonal\\n700hPa', fontsize=34, weight='bold', y = 0.95, x = 0.505)\n",
    "    else:\n",
    "        fig.suptitle('Vento Zonal\\n850hPa', fontsize=34, weight='bold', y = 0.95, x = 0.505)\n",
    "    \n",
    "    mes = [1,2,3,4,5,6,7,8,9,10,11,12]\n",
    "    \n",
    "    #plott(ax[0,0], mes[0],tempo, level)\n",
    "    #plott(ax[0,1], mes[1],tempo, level)\n",
    "    #plott(ax[0,2], mes[2],tempo, level)\n",
    "    #plott(ax[1,0], mes[3],tempo, level)\n",
    "    #plott(ax[1,1], mes[4],tempo, level)\n",
    "    #plott(ax[1,2], mes[5],tempo, level)\n",
    "    #plott(ax[2,0], mes[6],tempo, level)\n",
    "    #plott(ax[2,1], mes[7],tempo, level)\n",
    "    #plott(ax[2,2], mes[8],tempo, level)\n",
    "    #plott(ax[3,0], mes[9],tempo, level)\n",
    "    #plott(ax[3,1], mes[10],tempo, level)\n",
    "    #plott(ax[3,2], mes[11],tempo, level)\n",
    "    \n",
    "    plott(ax[0,0], mes[0],tempo, level)\n",
    "    plott(ax[0,1], mes[1],tempo, level)\n",
    "    plott(ax[0,2], mes[2],tempo, level)\n",
    "    plott(ax[0,3], mes[3],tempo, level)\n",
    "    plott(ax[1,0], mes[4],tempo, level)\n",
    "    plott(ax[1,1], mes[5],tempo, level)\n",
    "    plott(ax[1,2], mes[6],tempo, level)\n",
    "    plott(ax[1,3], mes[7],tempo, level)\n",
    "    plott(ax[2,0], mes[8],tempo, level)\n",
    "    plott(ax[2,1], mes[9],tempo, level)\n",
    "    plott(ax[2,2], mes[10],tempo, level)\n",
    "    plott(ax[2,3], mes[11],tempo, level)"
   ]
  },
  {
   "cell_type": "code",
   "execution_count": null,
   "metadata": {},
   "outputs": [],
   "source": [
    "def plott(ax, mes, tempo, level):\n",
    "    \n",
    "    coordenadas, media_mes = set_data(tempo,level)\n",
    "      #norm = mpl.colors.Normalize(vmin= , vmax= )\n",
    "#    if level == 0:\n",
    "#        clevs = np.arange(310,330,10)\n",
    "#    else:\n",
    "#        clevs = np.arange(150,170,10)\n",
    "\n",
    "    clevs = np.arange(-14,1,1.5)\n",
    "    \n",
    "    cf = ax.contourf(coordenadas[0],coordenadas[1], media_mes.sel(month = mes), clevs, cmap = 'jet')\n",
    "    \n",
    "    cbar = plt.colorbar(cf, orientation='horizontal', pad=0.2 , ax=ax, shrink = 1.0, aspect=40)\n",
    "    cbar.ax.tick_params(labelsize=15)\n",
    "    cbar.set_label(\"m/s\", fontsize = 17, y = 0.3)\n",
    "    \n",
    "    gl = ax.gridlines(crs=ccrs.PlateCarree(), draw_labels=True, linewidth=1, color='black', alpha=0.3, linestyle='--')\n",
    "    gl.xlabels_top = False\n",
    "    gl.ylabels_left = True\n",
    "    gl.ylabels_right = False\n",
    "    gl.ylines = True\n",
    "    gl.xlines = True\n",
    "    gl.xlocator = mticker.FixedLocator(np.arange(-70, 50, 20)) #-70,50,20\n",
    "    gl.xformatter = LONGITUDE_FORMATTER\n",
    "    gl.yformatter = LATITUDE_FORMATTER\n",
    "    gl.xlabel_style = {'size': 15}\n",
    "    gl.ylabel_style = {'size': 15}\n",
    "    \n",
    "    ax.coastlines('50m')\n",
    "    ax.set_extent([-70, 20, -50, 10])\n",
    "    ax.set_title(calendar.month_abbr[mes], fontdict={'fontsize': 20}, loc = 'right')\n",
    "    ax.set_title('2018-01 até 2020-01', fontdict={'fontsize': 20}, loc = 'left')\n",
    "    "
   ]
  },
  {
   "cell_type": "code",
   "execution_count": null,
   "metadata": {},
   "outputs": [],
   "source": [
    "tempo0 = ['1979-01-01','2010-12-01']\n",
    "tempo1 = ['2010-01-01','2018-08-01']\n",
    "tempo2 = ['2018-01-01','2020-01-01']\n",
    "\n",
    "# 0 = '700' hPA\n",
    "# 1 = '850' hPA"
   ]
  },
  {
   "cell_type": "code",
   "execution_count": null,
   "metadata": {},
   "outputs": [],
   "source": [
    "figura(tempo0,0)\n",
    "plt.savefig('D:/_Gabriel/Estudo/UFF/Bloqueios_Atmosfericos/ImagensApresentação/uwnd_700h_79_10')"
   ]
  },
  {
   "cell_type": "code",
   "execution_count": null,
   "metadata": {},
   "outputs": [],
   "source": [
    "figura(tempo0,1)\n",
    "plt.savefig('D:/_Gabriel/Estudo/UFF/Bloqueios_Atmosfericos/ImagensApresentação/uwnd_850h_79_10')"
   ]
  },
  {
   "cell_type": "code",
   "execution_count": null,
   "metadata": {},
   "outputs": [],
   "source": [
    "figura(tempo1,0)\n",
    "plt.savefig('D:/_Gabriel/Estudo/UFF/Bloqueios_Atmosfericos/ImagensApresentação/uwnd_700h_10_18')"
   ]
  },
  {
   "cell_type": "code",
   "execution_count": null,
   "metadata": {},
   "outputs": [],
   "source": [
    "figura(tempo1,1)\n",
    "plt.savefig('D:/_Gabriel/Estudo/UFF/Bloqueios_Atmosfericos/ImagensApresentação/uwnd_850h_10_18')"
   ]
  },
  {
   "cell_type": "code",
   "execution_count": null,
   "metadata": {},
   "outputs": [],
   "source": [
    "figura(tempo2,0)\n",
    "plt.savefig('D:/_Gabriel/Estudo/UFF/Bloqueios_Atmosfericos/ImagensApresentação/uwnd_700h_18_20')"
   ]
  },
  {
   "cell_type": "code",
   "execution_count": null,
   "metadata": {},
   "outputs": [],
   "source": [
    "figura(tempo2,1)\n",
    "plt.savefig('D:/_Gabriel/Estudo/UFF/Bloqueios_Atmosfericos/ImagensApresentação/uwnd_850h_18_20')"
   ]
  },
  {
   "cell_type": "code",
   "execution_count": null,
   "metadata": {},
   "outputs": [],
   "source": []
  }
 ],
 "metadata": {
  "kernelspec": {
   "display_name": "Python 3",
   "language": "python",
   "name": "python3"
  },
  "language_info": {
   "codemirror_mode": {
    "name": "ipython",
    "version": 3
   },
   "file_extension": ".py",
   "mimetype": "text/x-python",
   "name": "python",
   "nbconvert_exporter": "python",
   "pygments_lexer": "ipython3",
   "version": "3.7.6"
  }
 },
 "nbformat": 4,
 "nbformat_minor": 4
}

{
 "cells": [
  {
   "cell_type": "code",
   "execution_count": 4,
   "metadata": {},
   "outputs": [],
   "source": [
    "import pandas as pd\n",
    "import os\n",
    "import numpy as np"
   ]
  },
  {
   "cell_type": "code",
   "execution_count": 7,
   "metadata": {},
   "outputs": [
    {
     "output_type": "execute_result",
     "data": {
      "text/plain": [
       "['2021', '2018', '2019', '2020']"
      ]
     },
     "metadata": {},
     "execution_count": 7
    }
   ],
   "source": [
    "path1 = \"/home/data/PMN/1.Pluviometricos\"\n",
    "path2 = \"/home/data/PMN/2.Meteorologicos\" \n",
    "os.listdir(path1)"
   ]
  },
  {
   "cell_type": "markdown",
   "metadata": {},
   "source": [
    "# Começando pelos Meteorológicos:\n",
    "## Barreto:"
   ]
  },
  {
   "cell_type": "code",
   "execution_count": 3,
   "metadata": {},
   "outputs": [
    {
     "output_type": "execute_result",
     "data": {
      "text/plain": [
       "['Dados Meteorológicos_Niterói_2021.xlsx',\n",
       " 'Dados Meteorológicos_Niterói_2018.xlsx',\n",
       " 'Dados Meteorológicos_Niterói_2019.csv',\n",
       " 'Dados Meteorológicos_Niterói_2020.csv']"
      ]
     },
     "metadata": {},
     "execution_count": 3
    }
   ],
   "source": [
    "os.listdir(path2+\"/Barreto/\")"
   ]
  },
  {
   "cell_type": "code",
   "execution_count": 4,
   "metadata": {},
   "outputs": [],
   "source": [
    "barreto = os.listdir(path2+\"/Barreto/\")\n",
    "B_list = []\n",
    "for cada in barreto:\n",
    "    try:\n",
    "        var = pd.read_excel(path2+\"/Barreto/\"+cada, engine='openpyxl')\n",
    "    except:\n",
    "        var = pd.read_csv(path2+\"/Barreto/\"+cada, sep=';', engine='python')\n",
    "    \n",
    "    B_list.append(var)"
   ]
  },
  {
   "cell_type": "code",
   "execution_count": 5,
   "metadata": {},
   "outputs": [],
   "source": [
    "B_list[1].columns = B_list[1].loc[7]\n",
    "B_list[1] = B_list[1].loc[8:].reset_index()\n",
    "B_list[1] = B_list[1].drop('index', axis=1)\n",
    "\n",
    "B_list[2].columns = B_list[2].loc[7]\n",
    "B_list[2] = B_list[2].loc[8:].reset_index()\n",
    "B_list[2] = B_list[2].drop('index', axis=1)\n",
    "\n",
    "B_list[3].columns = B_list[3].loc[7]\n",
    "B_list[3] = B_list[3].loc[8:].reset_index()\n",
    "B_list[3] = B_list[3].drop('index', axis=1)\n",
    "\n",
    "B_list[0].columns = B_list[0].loc[0]\n",
    "B_list[0]=B_list[0].drop(0)\n",
    "B_list[0] = B_list[0].reset_index().drop('index',axis=1)"
   ]
  },
  {
   "cell_type": "code",
   "execution_count": 6,
   "metadata": {},
   "outputs": [],
   "source": [
    "B_list[1] = B_list[1].rename(columns={'DATA (YYYY-MM-DD)':'Data','HORA (UTC)':'Hora (UTC)','TEMPERATURA DO AR - BULBO SECO, HORARIA (°C)':'Temp. Ins. (C)',\n",
    " 'TEMPERATURA MÁXIMA NA HORA ANT. (AUT) (°C)':'Temp. Max. (C)',\n",
    " 'TEMPERATURA MÍNIMA NA HORA ANT. (AUT) (°C)':'Temp. Min. (C)',\n",
    " 'UMIDADE RELATIVA DO AR, HORARIA (%)':'Umi. Ins. (%)',\n",
    " 'UMIDADE REL. MAX. NA HORA ANT. (AUT) (%)':'Umi. Max. (%)',\n",
    " 'UMIDADE REL. MIN. NA HORA ANT. (AUT) (%)':'Umi. Min. (%)',\n",
    " 'TEMPERATURA DO PONTO DE ORVALHO (°C)':'Pto Orvalho Ins. (C)',\n",
    " 'TEMPERATURA ORVALHO MAX. NA HORA ANT. (AUT) (°C)':'Pto Orvalho Max. (C)',\n",
    "'TEMPERATURA ORVALHO MIN. NA HORA ANT. (AUT) (°C)':'Pto Orvalho Min. (C)',\n",
    " 'PRESSAO ATMOSFERICA AO NIVEL DA ESTACAO, HORARIA (mB)':'Pressao Ins. (hPa)',\n",
    "'PRESSÃO ATMOSFERICA MAX.NA HORA ANT. (AUT) (mB)':'Pressao Max. (hPa)',\n",
    "'PRESSÃO ATMOSFERICA MIN. NA HORA ANT. (AUT) (mB)':'Pressao Min. (hPa)',\n",
    " 'VENTO, VELOCIDADE HORARIA (m/s)':'Vel. Vento (m/s)',\n",
    " 'VENTO, DIREÇÃO HORARIA (gr) (° (gr))':'Dir. Vento (m/s)',\n",
    "'VENTO, RAJADA MAXIMA (m/s)':'Raj. Vento (m/s)',\n",
    " 'RADIACAO GLOBAL (KJ/m²)':'Radiacao (KJ/mÂ²)',\n",
    " 'PRECIPITAÇÃO TOTAL, HORÁRIO (mm)':'Chuva (mm)'})\n",
    "\n",
    "B_list[2] = B_list[2].rename(columns={'Hora UTC':'Hora (UTC)','TEMPERATURA DO AR - BULBO SECO, HORARIA (�C)':'Temp. Ins. (C)',\n",
    " 'TEMPERATURA M�XIMA NA HORA ANT. (AUT) (�C)':'Temp. Max. (C)',\n",
    " 'TEMPERATURA M�NIMA NA HORA ANT. (AUT) (�C)':'Temp. Min. (C)',\n",
    " 'UMIDADE RELATIVA DO AR, HORARIA (%)':'Umi. Ins. (%)',\n",
    " 'UMIDADE REL. MAX. NA HORA ANT. (AUT) (%)':'Umi. Max. (%)',\n",
    " 'UMIDADE REL. MIN. NA HORA ANT. (AUT) (%)':'Umi. Min. (%)',\n",
    " 'TEMPERATURA DO PONTO DE ORVALHO (�C)':'Pto Orvalho Ins. (C)',\n",
    " 'TEMPERATURA ORVALHO MAX. NA HORA ANT. (AUT) (�C)':'Pto Orvalho Max. (C)',\n",
    "'TEMPERATURA ORVALHO MIN. NA HORA ANT. (AUT) (�C)':'Pto Orvalho Min. (C)',\n",
    " 'PRESSAO ATMOSFERICA AO NIVEL DA ESTACAO, HORARIA (mB)':'Pressao Ins. (hPa)',\n",
    " 'PRESS�O ATMOSFERICA MAX.NA HORA ANT. (AUT) (mB)':'Pressao Max. (hPa)',\n",
    " 'PRESS�O ATMOSFERICA MIN. NA HORA ANT. (AUT) (mB)':'Pressao Min. (hPa)',\n",
    " 'VENTO, VELOCIDADE HORARIA (m/s)':'Vel. Vento (m/s)',\n",
    " 'VENTO, DIRE��O HORARIA (gr) (� (gr))':'Dir. Vento (m/s)',\n",
    "'VENTO, RAJADA MAXIMA (m/s)':'Raj. Vento (m/s)',\n",
    " 'RADIACAO GLOBAL (KJ/m�)':'Radiacao (KJ/mÂ²)',\n",
    " 'PRECIPITA��O TOTAL, HOR�RIO (mm)':'Chuva (mm)'})\n",
    "\n",
    "B_list[3] = B_list[3].rename(columns={'Hora UTC':'Hora (UTC)','TEMPERATURA DO AR - BULBO SECO, HORARIA (�C)':'Temp. Ins. (C)',\n",
    " 'TEMPERATURA M�XIMA NA HORA ANT. (AUT) (�C)':'Temp. Max. (C)',\n",
    " 'TEMPERATURA M�NIMA NA HORA ANT. (AUT) (�C)':'Temp. Min. (C)',\n",
    " 'UMIDADE RELATIVA DO AR, HORARIA (%)':'Umi. Ins. (%)',\n",
    " 'UMIDADE REL. MAX. NA HORA ANT. (AUT) (%)':'Umi. Max. (%)',\n",
    " 'UMIDADE REL. MIN. NA HORA ANT. (AUT) (%)':'Umi. Min. (%)',\n",
    " 'TEMPERATURA DO PONTO DE ORVALHO (�C)':'Pto Orvalho Ins. (C)',\n",
    " 'TEMPERATURA ORVALHO MAX. NA HORA ANT. (AUT) (�C)':'Pto Orvalho Max. (C)',\n",
    "'TEMPERATURA ORVALHO MIN. NA HORA ANT. (AUT) (�C)':'Pto Orvalho Min. (C)',\n",
    " 'PRESSAO ATMOSFERICA AO NIVEL DA ESTACAO, HORARIA (mB)':'Pressao Ins. (hPa)',\n",
    " 'PRESS�O ATMOSFERICA MAX.NA HORA ANT. (AUT) (mB)':'Pressao Max. (hPa)',\n",
    " 'PRESS�O ATMOSFERICA MIN. NA HORA ANT. (AUT) (mB)':'Pressao Min. (hPa)',\n",
    " 'VENTO, VELOCIDADE HORARIA (m/s)':'Vel. Vento (m/s)',\n",
    " 'VENTO, DIRE��O HORARIA (gr) (� (gr))':'Dir. Vento (m/s)',\n",
    "'VENTO, RAJADA MAXIMA (m/s)':'Raj. Vento (m/s)',\n",
    " 'RADIACAO GLOBAL (Kj/m�)':'Radiacao (KJ/mÂ²)',\n",
    " 'PRECIPITA��O TOTAL, HOR�RIO (mm)':'Chuva (mm)'})"
   ]
  },
  {
   "cell_type": "code",
   "execution_count": 52,
   "metadata": {},
   "outputs": [],
   "source": [
    "#B_list[0] = 3864 rows × 19 columns\n",
    "#B_list[1] = 4128 rows × 19 columns\n",
    "B_concat = pd.concat(B_list)\n",
    "B_concat['Data'] = B_concat['Data'].apply(lambda x: pd.to_datetime(x))\n",
    "B_concat = B_concat.set_index('Data')\n",
    "B_concat = B_concat.replace({-9999:np.nan})\n",
    "B_concat = B_concat.sort_values(by='Data').dropna(how='all')"
   ]
  },
  {
   "cell_type": "code",
   "execution_count": 54,
   "metadata": {},
   "outputs": [],
   "source": [
    "B_concat.to_csv(path2+\"/Barreto/concat_18-21.csv\")"
   ]
  },
  {
   "source": [
    "# Charitas & Itaipu"
   ],
   "cell_type": "markdown",
   "metadata": {}
  },
  {
   "cell_type": "code",
   "execution_count": 21,
   "metadata": {},
   "outputs": [],
   "source": [
    "def formatting(df):\n",
    "    if 'Unnamed: 8' in df:\n",
    "        df = df.drop(['Unnamed: 8', 'T m�x', 'T min', 'UR max', 'UR min', 'Vento m�x',\n",
    "       'Prec m�x'], axis=1)\n",
    "\n",
    "    df_f = df.rename({'Data Hora':'Data Hora (dd/mm/aa)', 'Wind Speed':'Wind Speed (m/s)', 'Wind Direction':'Wind Direction (Deg)', 'Solar Radiation':'Solar Radiation (W/m2)','Relative Humidity':'Relative Humidity (%)', 'Air Temperature':'Air Temperature (C)', 'Barom Pressure':'Barom Pressure (mbar)', 'Rain Total':'Rain Total (mm)'}, axis=1).loc[1:]\n",
    "    return df_f \n",
    "\n"
   ]
  },
  {
   "cell_type": "code",
   "execution_count": 22,
   "metadata": {},
   "outputs": [],
   "source": [
    "charY = os.listdir(path2+\"/Charitas/\")\n",
    "itaY = os.listdir(path2+\"/Itaipu/\")\n",
    "\n",
    "char_list = []\n",
    "ita_list = []\n",
    "for year in charY:\n",
    "    files0 = os.listdir(path2+\"/Charitas/\"+year+\"/\")\n",
    "    for cada in files0:\n",
    "        var = pd.read_csv(path2+\"/Charitas/\"+year+\"/\"+cada, sep=';')\n",
    "        char_list.append(formatting(var))\n",
    "\n",
    "\n",
    "for year in itaY:\n",
    "    files1 = os.listdir(path2+\"/Itaipu/\"+year+\"/\")\n",
    "    for cada in files1:\n",
    "        var = pd.read_csv(path2+\"/Itaipu/\"+year+\"/\"+cada, sep=';')\n",
    "        ita_list.append(formatting(var))"
   ]
  },
  {
   "cell_type": "code",
   "execution_count": 23,
   "metadata": {},
   "outputs": [],
   "source": [
    "char_concat = pd.concat(char_list).sort_values(by='Data Hora (dd/mm/aa)').dropna(how='all')\n",
    "ita_concat = pd.concat(ita_list).sort_values(by='Data Hora (dd/mm/aa)').dropna(how='all')"
   ]
  },
  {
   "cell_type": "code",
   "execution_count": 24,
   "metadata": {},
   "outputs": [],
   "source": [
    "char_concat = char_concat.drop(['Air Temp Minimum', 'Air Temp Average', 'Air Temp Maximum',\n",
    "       'Unnamed: 10', 'T m�x', 'T min', 'UR max', 'UR min', 'Vento m�x',\n",
    "       'Prec m�x', 'Wind Speed Avg', 'Wind Speed Max', 'Unnamed: 11', 'T máx',\n",
    "       'Vento máx', 'Prec máx'], axis=1)\n",
    "ita_concat = ita_concat.drop(['Air Temp Minimum', 'Air Temp Average', 'Air Temp Maximum',\n",
    "       'Unnamed: 10', 'T m�x', 'T min', 'UR max', 'UR min', 'Vento m�x',\n",
    "       'Prec m�x', 'Wind Speed Avg', 'Wind Speed Max', 'Unnamed: 11', 'T máx',\n",
    "       'Vento máx', 'Prec máx'], axis=1)\n",
    "char_concat.to_csv(path2+\"/Charitas/charitas_16-20.csv\")\n",
    "ita_concat.to_csv(path2+\"/Itaipu/itaipu_17-20.csv\")"
   ]
  },
  {
   "cell_type": "code",
   "execution_count": null,
   "metadata": {},
   "outputs": [],
   "source": []
  }
 ],
 "metadata": {
  "interpreter": {
   "hash": "eb8a7b46cb307c93c0dbb1ad4a66b22036c6d642c1d2382d23b07df093a7d948"
  },
  "kernelspec": {
   "name": "python3",
   "display_name": "Python 3.8.2 64-bit ('smap': conda)"
  },
  "language_info": {
   "codemirror_mode": {
    "name": "ipython",
    "version": 3
   },
   "file_extension": ".py",
   "mimetype": "text/x-python",
   "name": "python",
   "nbconvert_exporter": "python",
   "pygments_lexer": "ipython3",
   "version": "3.8.2"
  }
 },
 "nbformat": 4,
 "nbformat_minor": 4
}
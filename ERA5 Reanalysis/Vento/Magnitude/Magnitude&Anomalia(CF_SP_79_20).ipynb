{
 "cells": [
  {
   "cell_type": "code",
   "execution_count": null,
   "metadata": {},
   "outputs": [],
   "source": [
    "import xarray as xr\n",
    "import pandas as pd\n",
    "import numpy as np\n",
    "import matplotlib as mpl\n",
    "import matplotlib.pyplot as plt\n",
    "import matplotlib.ticker as mticker\n",
    "import matplotlib.patches as mpatches\n",
    "from cartopy.mpl.gridliner import LONGITUDE_FORMATTER, LATITUDE_FORMATTER\n",
    "from mpl_toolkits.axes_grid1 import make_axes_locatable\n",
    "import seaborn as sns\n",
    "import cartopy\n",
    "import cartopy.crs as ccrs\n",
    "import cartopy.feature as cfeature\n",
    "from cartopy.mpl.ticker import LongitudeFormatter, LatitudeFormatter\n",
    "from cartopy.util import add_cyclic_point\n",
    "from datetime import datetime\n",
    "import os\n",
    "import seaborn as sns\n",
    "import metpy.calc as mpcalc\n",
    "import re\n",
    "import calendar\n",
    "from matplotlib.offsetbox import AnchoredText\n",
    "sns.set()"
   ]
  },
  {
   "cell_type": "code",
   "execution_count": null,
   "metadata": {},
   "outputs": [],
   "source": [
    "def set_data(tempo, level):\n",
    "\n",
    "    if level == 2:\n",
    "        \n",
    "        data = xr.open_dataset(\"D:/_Gabriel/Estudo/UFF/Bloqueios_Atmosfericos/Climatologias/nc/975hPa_79_20.nc\")\n",
    "        u = data.u[:,0,:,:]                   # 'u' é a variável do dataset\n",
    "    \n",
    "        data = xr.open_dataset(\"D:/_Gabriel/Estudo/UFF/Bloqueios_Atmosfericos/Climatologias/nc/975hPa_79_20.nc\")\n",
    "        v = data.v[:,0,:,:]                   # 'v' é a variável do dataset\n",
    "    \n",
    "    else:\n",
    "        data = xr.open_dataset(\"D:/_Gabriel/Estudo/UFF/Bloqueios_Atmosfericos/Climatologias/nc/uwnd_79_20.nc\")\n",
    "        u = data.u[:,0,level,:,:]                   # 'u' é a variável do dataset\n",
    "    \n",
    "        data = xr.open_dataset(\"D:/_Gabriel/Estudo/UFF/Bloqueios_Atmosfericos/Climatologias/nc/vwnd_79_20.nc\")\n",
    "        v = data.v[:,0,level,:,:]                   # 'v' é a variável do dataset\n",
    "    \n",
    "    time_slice = slice(tempo[0],tempo[1])\n",
    "    uwnd = u.sel(time=time_slice)\n",
    "    vwnd = v.sel(time=time_slice)\n",
    "    \n",
    "    magnitude = ((uwnd)** 2 + (vwnd)** 2) ** 0.5\n",
    "    \n",
    "    magSet = magnitude.groupby('time.month').mean()\n",
    "    \n",
    "    lons = magSet.longitude.values    #1D\n",
    "    lats = magSet.latitude.values     #1D\n",
    "    \n",
    "    Umedia_mes = u.sel(time=time_slice).groupby('time.month').mean()\n",
    "    Vmedia_mes = v.sel(time=time_slice).groupby('time.month').mean()\n",
    "    \n",
    "    \n",
    "    return lons, lats, Umedia_mes, Vmedia_mes, magSet"
   ]
  },
  {
   "cell_type": "code",
   "execution_count": null,
   "metadata": {},
   "outputs": [],
   "source": [
    "def figura(tempo1, tempo2, level, mes):\n",
    "    \n",
    "    fig, ax = plt.subplots(nrows=1,ncols=2,subplot_kw=dict(projection = ccrs.PlateCarree()), figsize=(32,26))\n",
    "    \n",
    "    if level == 0:\n",
    "        fig.suptitle('Comparativo\\nMagnitude em 700 hPA', fontsize=34, weight='bold', y = 0.75, x = 0.505)\n",
    "    \n",
    "    elif level ==1:\n",
    "        fig.suptitle('Comparativo\\nMagnitude em 850 hPA', fontsize=34, weight='bold', y = 0.75, x = 0.505)\n",
    "    \n",
    "    else:\n",
    "        fig.suptitle('Comparativo\\nMagnitude em 975 hPA', fontsize=34, weight='bold', y = 0.75, x = 0.505)\n",
    "    #mes = [1,2,3,4,5,6,7,8,9,10,11,12]\n",
    "    \n",
    "    plott(ax[0], mes, tempo1, level)\n",
    "    plott2(ax[1], mes, tempo2, level)\n",
    " \n",
    "    export(tempo1 ,mes, level)"
   ]
  },
  {
   "cell_type": "code",
   "execution_count": null,
   "metadata": {},
   "outputs": [],
   "source": [
    "def figuraComp3(tempo1, tempo2, tempo3, level, mes):\n",
    "    \n",
    "    fig, ax = plt.subplots(nrows=1,ncols=3,subplot_kw=dict(projection = ccrs.PlateCarree()), figsize=(32,26))\n",
    "\n",
    "    if level == 0:\n",
    "        fig.suptitle('Comparativo\\nMagnitude em 700 hPA', fontsize=34, weight='bold', y = 0.75, x = 0.505)\n",
    "    elif level == 1:\n",
    "        fig.suptitle('Comparativo\\nMagnitude em 850 hPA', fontsize=34, weight='bold', y = 0.75, x = 0.505)\n",
    "    else:\n",
    "        fig.suptitle('Comparativo\\nMagnitude em 975 hPA', fontsize=34, weight='bold', y = 0.75, x = 0.505)\n",
    "    \n",
    "    #mes = [1,2,3,4,5,6,7,8,9,10,11,12]\n",
    "    \n",
    "    plott(ax[0], mes, tempo1, level)\n",
    "    plott(ax[1], mes, tempo2, level)\n",
    "    plott2(ax[2], mes, tempo3, level)\n",
    " \n",
    "    #exportComp3(mes, level)"
   ]
  },
  {
   "cell_type": "code",
   "execution_count": null,
   "metadata": {},
   "outputs": [],
   "source": [
    "def plott(ax, mes, tempo1, level):\n",
    "    \n",
    "    lons, lats, Umedia_mes, Vmedia_mes, magSet = set_data(tempo1, level)\n",
    "    \n",
    "    Uvel, lonu = add_cyclic_point(Umedia_mes.sel(month=mes), coord=lons)  #interpolando o grafico/ corrigindo a descontinuidade do meridiano\n",
    "    Vvel, lonv = add_cyclic_point(Vmedia_mes.sel(month=mes), coord=lons)\n",
    "   \n",
    "    norm = mpl.colors.Normalize(vmin=0, vmax=12)\n",
    "    \n",
    "    clevs = np.arange(1,19.5,1.5)\n",
    "    cf = ax.contourf(lons, lats, magSet.sel(month=mes), clevs, cmap = 'jet_r',extend='both')\n",
    "    \n",
    "    sp = ax.streamplot(lonu, lats, Uvel, Vvel,\n",
    "                   linewidth = 1.7,\n",
    "                   arrowsize = 1.2,\n",
    "                   density = 2,\n",
    "                   norm=norm,\n",
    "                   transform=ccrs.PlateCarree())\n",
    "    \n",
    "    cbar = plt.colorbar(cf, orientation='horizontal', pad=0.05 , ax=ax, shrink = 1.0, aspect=40)\n",
    "    cbar.ax.tick_params(labelsize=15)\n",
    "    cbar.set_label(\"m/s\", fontsize = 17, y = 0.3)\n",
    "    \n",
    "    gl = ax.gridlines(crs=ccrs.PlateCarree(), draw_labels=True, linewidth=1, color='black', alpha=0.3, linestyle='--')\n",
    "    gl.xlabels_top = False\n",
    "    gl.ylabels_left = True\n",
    "    gl.ylabels_right = False\n",
    "    gl.ylines = True\n",
    "    gl.xlines = True\n",
    "    gl.xlocator = mticker.FixedLocator(np.arange(-70, 50, 20)) #-70,50,20\n",
    "    gl.xformatter = LONGITUDE_FORMATTER\n",
    "    gl.yformatter = LATITUDE_FORMATTER\n",
    "    gl.xlabel_style = {'size': 15}\n",
    "    gl.ylabel_style = {'size': 15}\n",
    "    \n",
    "    ax.coastlines('50m')\n",
    "    ax.set_extent([-70, 20, -50, 10])\n",
    "    ax.set_title(calendar.month_abbr[mes], fontdict={'fontsize': 30}, loc = 'right')\n",
    "    \n",
    "    if tempo1 == per1:\n",
    "    \n",
    "        ax.set_title('Climatologia de 1979-01 até 2010-12', fontdict={'fontsize': 20}, loc = 'left')\n",
    "        \n",
    "    elif tempo1 == per4:\n",
    "    \n",
    "        ax.set_title('Climatologia de 2010-01 até 2018-08', fontdict={'fontsize': 20}, loc = 'left')"
   ]
  },
  {
   "cell_type": "code",
   "execution_count": null,
   "metadata": {},
   "outputs": [],
   "source": [
    "def plott2(ax, mes, tempo3, level):\n",
    "    \n",
    "    lons, lats, Umedia_mes, Vmedia_mes, magSet = set_data(tempo3, level)\n",
    "    \n",
    "    Uvel, lonu = add_cyclic_point(Umedia_mes.sel(month=mes), coord=lons)  #interpolando o grafico/ corrigindo a descontinuidade do meridiano\n",
    "    Vvel, lonv = add_cyclic_point(Vmedia_mes.sel(month=mes), coord=lons)\n",
    "    \n",
    "    clevs = np.arange(1,19.5,1.5)\n",
    "    \n",
    "    cf = ax.contourf(lons, lats, magSet.sel(month=mes), clevs, cmap = 'jet_r', extend='both')\n",
    "    \n",
    "    norm = mpl.colors.Normalize(vmin=0, vmax=12)\n",
    "    \n",
    "    #brb = ax.barbs(lonu, lats, Uvel, Vvel, magnitude, length=7, cmap = 'jet_r', norm=norm, linewidth =15) ???\n",
    "    \n",
    "    sp = ax.streamplot(lonu, lats, Uvel, Vvel,\n",
    "                   linewidth = 1.7,\n",
    "                   arrowsize = 1.2,\n",
    "                   density = 2,\n",
    "                   norm=norm,\n",
    "                   transform=ccrs.PlateCarree())\n",
    "\n",
    "    \n",
    "    cbar = plt.colorbar(cf, orientation='horizontal', pad=0.05 , ax=ax, shrink = 1.0, aspect=40)\n",
    "    cbar.ax.tick_params(labelsize=15)\n",
    "    cbar.set_label(\"m/s\", fontsize = 17, y = 0.3)\n",
    "    \n",
    "    gl = ax.gridlines(crs=ccrs.PlateCarree(), draw_labels=True, linewidth=1, color='black', alpha=0.3, linestyle='--')\n",
    "    gl.xlabels_top = False\n",
    "    gl.ylabels_left = True\n",
    "    gl.ylabels_right = False\n",
    "    gl.ylines = True\n",
    "    gl.xlines = True\n",
    "    gl.xlocator = mticker.FixedLocator(np.arange(-70, 50, 20)) #-70,50,20\n",
    "    gl.xformatter = LONGITUDE_FORMATTER\n",
    "    gl.yformatter = LATITUDE_FORMATTER\n",
    "    gl.xlabel_style = {'size': 15}\n",
    "    gl.ylabel_style = {'size': 15}\n",
    "    \n",
    "    ax.coastlines('50m')\n",
    "    ax.set_extent([-70, 20, -50, 10])\n",
    "    ax.set_title(calendar.month_abbr[mes], fontdict={'fontsize': 30}, loc = 'right')\n",
    "    ax.set_title('2018 até 2020', fontdict={'fontsize': 20}, loc = 'left')"
   ]
  },
  {
   "cell_type": "code",
   "execution_count": null,
   "metadata": {},
   "outputs": [],
   "source": [
    "    def export(tempo1, mes, level):\n",
    "    \n",
    "        if level == 0:\n",
    "            if tempo1 == per1:\n",
    "\n",
    "                path = calendar.month_abbr[mes]\n",
    "                plt.savefig('D:/_Gabriel/Estudo/UFF/Bloqueios_Atmosfericos/Climatologias/Imagens Geradas/Vento/Magnitude/plots/700hPa/compMag_700hPA_'+ calendar.month_abbr[mes]+'.png')\n",
    "\n",
    "            if tempo1 == per4:\n",
    "\n",
    "                path = calendar.month_abbr[mes]\n",
    "                plt.savefig('D:/_Gabriel/Estudo/UFF/Bloqueios_Atmosfericos/Climatologias/Imagens Geradas/Vento/10_18/Magnitude/comparativos/700hPa/compMag_700hPA_'+ calendar.month_abbr[mes]+'.png')\n",
    "\n",
    "        elif level == 1:\n",
    "            if tempo1 == per1:\n",
    "\n",
    "                path = calendar.month_abbr[mes]\n",
    "                plt.savefig('D:/_Gabriel/Estudo/UFF/Bloqueios_Atmosfericos/Climatologias/Imagens Geradas/Vento/Magnitude/plots/850hPa/compMag_850hPA_'+ calendar.month_abbr[mes]+'.png')\n",
    "\n",
    "            if tempo1 == per4:\n",
    "\n",
    "                path = calendar.month_abbr[mes]\n",
    "                plt.savefig('D:/_Gabriel/Estudo/UFF/Bloqueios_Atmosfericos/Climatologias/Imagens Geradas/Vento/10_18/Magnitude/comparativos/850hPa/compMag_850hPA_'+ calendar.month_abbr[mes]+'.png')\n",
    "\n",
    "        elif level == 2:\n",
    "            if tempo1 == per1:\n",
    "\n",
    "                path = calendar.month_abbr[mes]\n",
    "                plt.savefig('D:/_Gabriel/Estudo/UFF/Bloqueios_Atmosfericos/Climatologias/Imagens Geradas/Vento/Magnitude/plots/975hPa/compMag_975hPA_'+ calendar.month_abbr[mes]+'.png')\n",
    "\n",
    "            if tempo1 == per4:\n",
    "\n",
    "                path = calendar.month_abbr[mes]\n",
    "                plt.savefig('D:/_Gabriel/Estudo/UFF/Bloqueios_Atmosfericos/Climatologias/Imagens Geradas/Vento/10_18/Magnitude/comparativos/975hPa/compMag_975hPA_'+ calendar.month_abbr[mes]+'.png')"
   ]
  },
  {
   "cell_type": "code",
   "execution_count": null,
   "metadata": {},
   "outputs": [],
   "source": [
    "def exportComp3(mes, level):\n",
    "    \n",
    "    if level == 0:\n",
    "        path = calendar.month_abbr[mes]\n",
    "        plt.savefig('D:/_Gabriel/Estudo/UFF/Bloqueios_Atmosfericos/Climatologias/Imagens Geradas/Vento/Magnitude/plots/700hPa/comp3/compMag_975hPA_'+ calendar.month_abbr[mes]+'.png')\n",
    "    \n",
    "    elif level == 1:\n",
    "        path = calendar.month_abbr[mes]\n",
    "        plt.savefig('D:/_Gabriel/Estudo/UFF/Bloqueios_Atmosfericos/Climatologias/Imagens Geradas/Vento/Magnitude/plots/850hPa/comp3/compMag_975hPA_'+ calendar.month_abbr[mes]+'.png')\n",
    "    \n",
    "    elif level == 2:\n",
    "        path = calendar.month_abbr[mes]\n",
    "        plt.savefig('D:/_Gabriel/Estudo/UFF/Bloqueios_Atmosfericos/Climatologias/Imagens Geradas/Vento/Magnitude/plots/975hPa/comp3/compMag_975hPA_'+ calendar.month_abbr[mes]+'.png')"
   ]
  },
  {
   "cell_type": "code",
   "execution_count": null,
   "metadata": {},
   "outputs": [],
   "source": [
    "per1 = ['1979-01-01','2010-12-01']     # Algumas datas a serem contempladas\n",
    "per2 = ['2018-01-01','2020-01-01']\n",
    "per3 = ['2010-01-01','2020-01-01']     # INUTILIZADA\n",
    "per4 = ['2010-01-01','2018-08-01']\n",
    "\n",
    "#figura(tempo1, tempo2, mes escolhido) \n",
    "    #mes escolhido = [1 até 12]\n",
    "    "
   ]
  },
  {
   "cell_type": "code",
   "execution_count": null,
   "metadata": {},
   "outputs": [],
   "source": [
    "mesPlot = np.arange(1,13)"
   ]
  },
  {
   "cell_type": "code",
   "execution_count": null,
   "metadata": {},
   "outputs": [],
   "source": [
    "for cada in mesPlot:\n",
    "    figuraComp3(per1, per4, per2, 0, cada)"
   ]
  },
  {
   "cell_type": "code",
   "execution_count": null,
   "metadata": {},
   "outputs": [],
   "source": [
    "for cada in mesPlot:\n",
    "    figuraComp3(per1, per4, per2, 1, cada)"
   ]
  },
  {
   "cell_type": "code",
   "execution_count": null,
   "metadata": {},
   "outputs": [],
   "source": [
    "for cada in mesPlot:\n",
    "    figuraComp3(per1, per4, per2, 2, cada)"
   ]
  },
  {
   "cell_type": "code",
   "execution_count": null,
   "metadata": {},
   "outputs": [],
   "source": [
    "for cada in mesPlot:\n",
    "    figura(per1, per2, 0, cada)"
   ]
  },
  {
   "cell_type": "code",
   "execution_count": null,
   "metadata": {},
   "outputs": [],
   "source": [
    "for cada in mesPlot:\n",
    "    figura(per1, per2, 1, cada)"
   ]
  },
  {
   "cell_type": "code",
   "execution_count": null,
   "metadata": {},
   "outputs": [],
   "source": [
    "for cada in mesPlot:\n",
    "    figura(per1, per2, 2, cada)"
   ]
  },
  {
   "cell_type": "code",
   "execution_count": null,
   "metadata": {},
   "outputs": [],
   "source": [
    "for cada in mesPlot:\n",
    "    figura(per4, per2, 0, cada)"
   ]
  },
  {
   "cell_type": "code",
   "execution_count": null,
   "metadata": {},
   "outputs": [],
   "source": [
    "for cada in mesPlot:\n",
    "    figura(per4, per2, 1, cada)"
   ]
  },
  {
   "cell_type": "code",
   "execution_count": null,
   "metadata": {},
   "outputs": [],
   "source": [
    "for cada in mesPlot:\n",
    "    figura(per4, per2, 2, cada)"
   ]
  },
  {
   "cell_type": "markdown",
   "metadata": {},
   "source": [
    "## 12 Plots "
   ]
  },
  {
   "cell_type": "code",
   "execution_count": null,
   "metadata": {},
   "outputs": [],
   "source": [
    "def figura12(tempo, level):\n",
    "    \n",
    "    fig, ax = plt.subplots(nrows=3,ncols=4,subplot_kw=dict(projection = ccrs.PlateCarree()), figsize=(32,26))\n",
    "    \n",
    "    if level == 0:\n",
    "        if tempo == per1:\n",
    "\n",
    "            fig.suptitle('Magnitude em 700 hPA\\n 1979-01-01 até 2010-12-01', fontsize=34, weight='bold', y = 0.95, x = 0.505)\n",
    "\n",
    "\n",
    "        if tempo == per2:\n",
    "\n",
    "            fig.suptitle('Magnitude em 700 hPA\\n 2018-01-01 até 2020-01-01', fontsize=34, weight='bold', y = 0.95, x = 0.505)\n",
    "\n",
    "\n",
    "        if tempo == per3:\n",
    "\n",
    "            fig.suptitle('Magnitude em 700 hPA\\n 2010-01-01 até 2020-01-01', fontsize=34, weight='bold', y = 0.95, x = 0.505)\n",
    "\n",
    "\n",
    "        if tempo == per4:\n",
    "\n",
    "            fig.suptitle('Magnitude em 700 hPA\\n 2010-01-01 até 2018-08-01', fontsize=34, weight='bold', y = 0.95, x = 0.505)\n",
    "    \n",
    "    \n",
    "    elif level == 1:\n",
    "        if tempo == per1:\n",
    "\n",
    "            fig.suptitle('Magnitude em 850 hPA\\n 1979-01-01 até 2010-12-01', fontsize=34, weight='bold', y = 0.95, x = 0.505)\n",
    "\n",
    "\n",
    "        if tempo == per2:\n",
    "\n",
    "            fig.suptitle('Magnitude em 850 hPA\\n 2018-01-01 até 2020-01-01', fontsize=34, weight='bold', y = 0.95, x = 0.505)\n",
    "\n",
    "\n",
    "        if tempo == per3:\n",
    "\n",
    "            fig.suptitle('Magnitude em 850 hPA\\n 2010-01-01 até 2020-01-01', fontsize=34, weight='bold', y = 0.95, x = 0.505)\n",
    "\n",
    "\n",
    "        if tempo == per4:\n",
    "\n",
    "            fig.suptitle('Magnitude em 850 hPA\\n 2010-01-01 até 2018-08-01', fontsize=34, weight='bold', y = 0.95, x = 0.505)\n",
    "            \n",
    "    \n",
    "    elif level == 2:\n",
    "        if tempo == per1:\n",
    "\n",
    "            fig.suptitle('Magnitude em 975 hPA\\n 1979-01-01 até 2010-12-01', fontsize=34, weight='bold', y = 0.95, x = 0.505)\n",
    "\n",
    "\n",
    "        if tempo == per2:\n",
    "\n",
    "            fig.suptitle('Magnitude em 975 hPA\\n 2018-01-01 até 2020-01-01', fontsize=34, weight='bold', y = 0.95, x = 0.505)\n",
    "\n",
    "\n",
    "        if tempo == per3:\n",
    "\n",
    "            fig.suptitle('Magnitude em 975 hPA\\n 2010-01-01 até 2020-01-01', fontsize=34, weight='bold', y = 0.95, x = 0.505)\n",
    "\n",
    "\n",
    "        if tempo == per4:\n",
    "\n",
    "            fig.suptitle('Magnitude em 975 hPA\\n 2010-01-01 até 2018-08-01', fontsize=34, weight='bold', y = 0.95, x = 0.505)\n",
    "        \n",
    "    \n",
    "    mes = [1,2,3,4,5,6,7,8,9,10,11,12]\n",
    "       \n",
    "    plott12(ax[0,0], mes[0],tempo, level)      # OBS: Pra essa figura, algumas pequenas alterações são feitas na função 'plott'                                            \n",
    "    plott12(ax[0,1], mes[1],tempo, level)      #      Alterações de formatação, como títulos, distanciamento do colorbar e etc...\n",
    "    plott12(ax[0,2], mes[2],tempo, level)\n",
    "    plott12(ax[0,3], mes[3],tempo, level)\n",
    "    plott12(ax[1,0], mes[4],tempo, level)\n",
    "    plott12(ax[1,1], mes[5],tempo, level)\n",
    "    plott12(ax[1,2], mes[6],tempo, level)\n",
    "    plott12(ax[1,3], mes[7],tempo, level)\n",
    "    plott12(ax[2,0], mes[8],tempo, level)\n",
    "    plott12(ax[2,1], mes[9],tempo, level)\n",
    "    plott12(ax[2,2], mes[10],tempo, level)\n",
    "    plott12(ax[2,3], mes[11],tempo, level)\n",
    "    \n",
    "    ax[0][0].set_title('LAMMOC-UFF', fontdict={'fontsize': 20}, loc = 'left')\n",
    "    \n",
    "    export_12(tempo, level)"
   ]
  },
  {
   "cell_type": "code",
   "execution_count": null,
   "metadata": {},
   "outputs": [],
   "source": [
    "def plott12(ax, mes, tempo, level):\n",
    "    \n",
    "    lons, lats, Umedia_mes, Vmedia_mes, magSet = set_data(tempo, level)\n",
    "    \n",
    "    Uvel, lonu = add_cyclic_point(Umedia_mes.sel(month=mes), coord=lons)  #interpolando o grafico/ corrigindo a descontinuidade do meridiano\n",
    "    Vvel, lonv = add_cyclic_point(Vmedia_mes.sel(month=mes), coord=lons)\n",
    "   \n",
    "    norm = mpl.colors.Normalize(vmin=0, vmax=12)\n",
    "    \n",
    "    clevs = np.arange(2.5,22.5,2.5)\n",
    "    cf = ax.contourf(lons, lats, magSet.sel(month=mes), clevs, cmap = 'jet_r',extend='both')\n",
    "    \n",
    "    sp = ax.streamplot(lonu, lats, Uvel, Vvel,\n",
    "                   linewidth = 1,\n",
    "                   arrowsize = 0.7,\n",
    "                   density = 3,\n",
    "                   norm=norm,\n",
    "                   transform=ccrs.PlateCarree())\n",
    "    \n",
    "    cbar = plt.colorbar(cf, orientation='horizontal', pad=0.1 , ax=ax, shrink = 1.0, aspect=40)\n",
    "    cbar.ax.tick_params(labelsize=15)\n",
    "    cbar.set_label(\"m/s\", fontsize = 17, y = 0.3, labelpad=15)\n",
    "    \n",
    "    gl = ax.gridlines(crs=ccrs.PlateCarree(), draw_labels=True, linewidth=1, color='black', alpha=0.3, linestyle='--')\n",
    "    gl.xlabels_top = False\n",
    "    gl.ylabels_left = True\n",
    "    gl.ylabels_right = False\n",
    "    gl.ylines = True\n",
    "    gl.xlines = True\n",
    "    gl.xlocator = mticker.FixedLocator(np.arange(-70, 50, 20)) #-70,50,20\n",
    "    gl.xformatter = LONGITUDE_FORMATTER\n",
    "    gl.yformatter = LATITUDE_FORMATTER\n",
    "    gl.xlabel_style = {'size': 15}\n",
    "    gl.ylabel_style = {'size': 15}\n",
    "    \n",
    "    ax.coastlines('50m')\n",
    "    ax.set_extent([-70, 20, -50, 10])\n",
    "    ax.set_title(calendar.month_abbr[mes], fontdict={'fontsize': 30}, loc = 'right')\n",
    "    \n",
    "    "
   ]
  },
  {
   "cell_type": "code",
   "execution_count": null,
   "metadata": {},
   "outputs": [],
   "source": [
    "def export_12(tempo, level):\n",
    "    if level == 0:\n",
    "        if tempo == per1:\n",
    "\n",
    "            plt.savefig(\"D:/_Gabriel/Estudo/UFF/Bloqueios_Atmosfericos/Climatologias/Imagens Geradas/Vento/Magnitude/plots12/_79_10/Nmag_700hPa_1979_2010\")\n",
    "\n",
    "        elif tempo == per2:\n",
    "\n",
    "            plt.savefig(\"D:/_Gabriel/Estudo/UFF/Bloqueios_Atmosfericos/Climatologias/Imagens Geradas/Vento/Magnitude/plots12/_18_19/Nmag_700hPa_2018_2020\")\n",
    "\n",
    "        elif tempo == per3:\n",
    "\n",
    "            plt.savefig(\"D:/_Gabriel/Estudo/UFF/Bloqueios_Atmosfericos/Climatologias/Imagens Geradas/Vento/Magnitude/plots12/_10_20/Nmag_700hPa_2010_2020\")\n",
    "\n",
    "        elif tempo == per4:\n",
    "            plt.savefig(\"D:/_Gabriel/Estudo/UFF/Bloqueios_Atmosfericos/Climatologias/Imagens Geradas/Vento/10_18/Magnitude/Nmag_700hPa_2010_2018\")\n",
    "    \n",
    "    elif level == 1:\n",
    "        if tempo == per1:\n",
    "\n",
    "            plt.savefig(\"D:/_Gabriel/Estudo/UFF/Bloqueios_Atmosfericos/Climatologias/Imagens Geradas/Vento/Magnitude/plots12/_79_10/Nmag_850hPa_1979_2010\")\n",
    "\n",
    "        elif tempo == per2:\n",
    "\n",
    "            plt.savefig(\"D:/_Gabriel/Estudo/UFF/Bloqueios_Atmosfericos/Climatologias/Imagens Geradas/Vento/Magnitude/plots12/_18_19/Nmag_850hPa_2018_2020\")\n",
    "\n",
    "        elif tempo == per3:\n",
    "\n",
    "            plt.savefig(\"D:/_Gabriel/Estudo/UFF/Bloqueios_Atmosfericos/Climatologias/Imagens Geradas/Vento/Magnitude/plots12/_10_20/Nmag_850hPa_2010_2020\")\n",
    "\n",
    "        elif tempo == per4:\n",
    "            plt.savefig(\"D:/_Gabriel/Estudo/UFF/Bloqueios_Atmosfericos/Climatologias/Imagens Geradas/Vento/10_18/Magnitude/Nmag_850hPa_2010_2018\")\n",
    "    \n",
    "    elif level == 2: \n",
    "        if tempo == per1:\n",
    "\n",
    "            plt.savefig(\"D:/_Gabriel/Estudo/UFF/Bloqueios_Atmosfericos/Climatologias/Imagens Geradas/Vento/Magnitude/plots12/_79_10/Nmag_975hPa_1979_2010\")\n",
    "\n",
    "        elif tempo == per2:\n",
    "\n",
    "            plt.savefig(\"D:/_Gabriel/Estudo/UFF/Bloqueios_Atmosfericos/Climatologias/Imagens Geradas/Vento/Magnitude/plots12/_18_19/Nmag_975hPa_2018_2020\")\n",
    "\n",
    "        elif tempo == per3:\n",
    "\n",
    "            plt.savefig(\"D:/_Gabriel/Estudo/UFF/Bloqueios_Atmosfericos/Climatologias/Imagens Geradas/Vento/Magnitude/plots12/_10_20/Nmag_975hPa_2010_2020\")\n",
    "\n",
    "        elif tempo == per4:\n",
    "            plt.savefig(\"D:/_Gabriel/Estudo/UFF/Bloqueios_Atmosfericos/Climatologias/Imagens Geradas/Vento/10_18/Magnitude/Nmag_975hPa_2010_2018\")\n",
    "    "
   ]
  },
  {
   "cell_type": "code",
   "execution_count": null,
   "metadata": {
    "scrolled": true
   },
   "outputs": [],
   "source": [
    "figura12(per1,0)"
   ]
  },
  {
   "cell_type": "code",
   "execution_count": null,
   "metadata": {},
   "outputs": [],
   "source": [
    "figura12(per1,1)"
   ]
  },
  {
   "cell_type": "code",
   "execution_count": null,
   "metadata": {},
   "outputs": [],
   "source": [
    "figura12(per1,2)"
   ]
  },
  {
   "cell_type": "code",
   "execution_count": null,
   "metadata": {},
   "outputs": [],
   "source": [
    "figura12(per2,0)"
   ]
  },
  {
   "cell_type": "code",
   "execution_count": null,
   "metadata": {},
   "outputs": [],
   "source": [
    "figura12(per2,1)"
   ]
  },
  {
   "cell_type": "code",
   "execution_count": null,
   "metadata": {},
   "outputs": [],
   "source": [
    "figura12(per2,2)"
   ]
  },
  {
   "cell_type": "code",
   "execution_count": null,
   "metadata": {},
   "outputs": [],
   "source": [
    "figura12(per3,0)"
   ]
  },
  {
   "cell_type": "code",
   "execution_count": null,
   "metadata": {},
   "outputs": [],
   "source": [
    "figura12(per3,1)"
   ]
  },
  {
   "cell_type": "code",
   "execution_count": null,
   "metadata": {},
   "outputs": [],
   "source": [
    "figura12(per3,2)"
   ]
  },
  {
   "cell_type": "code",
   "execution_count": null,
   "metadata": {},
   "outputs": [],
   "source": [
    "figura12(per4,0)"
   ]
  },
  {
   "cell_type": "code",
   "execution_count": null,
   "metadata": {},
   "outputs": [],
   "source": [
    "figura12(per4,1)"
   ]
  },
  {
   "cell_type": "code",
   "execution_count": null,
   "metadata": {},
   "outputs": [],
   "source": [
    "figura12(per4,2)"
   ]
  },
  {
   "cell_type": "markdown",
   "metadata": {},
   "source": [
    "# Anomalia "
   ]
  },
  {
   "cell_type": "code",
   "execution_count": null,
   "metadata": {},
   "outputs": [],
   "source": [
    "def set_dataAnom(tempo1, tempo2, level):\n",
    "    if level == 2:\n",
    "        \n",
    "        data = xr.open_dataset(\"D:/_Gabriel/Estudo/UFF/Bloqueios_Atmosfericos/Climatologias/nc/975hPa_79_20.nc\")\n",
    "        u = data.u[:,0,:,:]                   # 'u' é a variável do dataset\n",
    "    \n",
    "        data = xr.open_dataset(\"D:/_Gabriel/Estudo/UFF/Bloqueios_Atmosfericos/Climatologias/nc/975hPa_79_20.nc\")\n",
    "        v = data.v[:,0,:,:]                   # 'v' é a variável do dataset\n",
    "    \n",
    "    else:\n",
    "        data = xr.open_dataset(\"D:/_Gabriel/Estudo/UFF/Bloqueios_Atmosfericos/Climatologias/nc/uwnd_79_20.nc\")\n",
    "        u = data.u[:,0,level,:,:]                   # 'u' é a variável do dataset\n",
    "    \n",
    "        data = xr.open_dataset(\"D:/_Gabriel/Estudo/UFF/Bloqueios_Atmosfericos/Climatologias/nc/vwnd_79_20.nc\")\n",
    "        v = data.v[:,0,level,:,:]                   # 'v' é a variável do dataset\n",
    "               \n",
    "    time_slice1 = slice(tempo1[0],tempo1[1])\n",
    "    uwnd1 = u.sel(time=time_slice1)\n",
    "    vwnd1 = v.sel(time=time_slice1)\n",
    "    \n",
    "    magnitude1 = ((uwnd1)** 2 + (vwnd1)** 2) ** 0.5\n",
    "    magSet1 = magnitude1.groupby('time.month').mean()\n",
    "    \n",
    "    \n",
    "    time_slice2 = slice(tempo2[0],tempo2[1])\n",
    "    uwnd2 = u.sel(time=time_slice2)\n",
    "    vwnd2 = v.sel(time=time_slice2)\n",
    "    \n",
    "    magnitude2 = ((uwnd2)** 2 + (vwnd2)** 2) ** 0.5 \n",
    "    magSet2 = magnitude2.groupby('time.month').mean()\n",
    "    \n",
    "    \n",
    "    lons = magSet1.longitude.values    #1D\n",
    "    lats = magSet1.latitude.values     #1D\n",
    "    \n",
    "    \n",
    "    return lons, lats, magSet1, magSet2"
   ]
  },
  {
   "cell_type": "code",
   "execution_count": null,
   "metadata": {},
   "outputs": [],
   "source": [
    "def figuraAnom(tempo1, tempo2, mes, level):\n",
    "    \n",
    "    fig, ax = plt.subplots(nrows=1,ncols=1,subplot_kw=dict(projection = ccrs.PlateCarree()), figsize=(32,26))\n",
    "    if level == 0:\n",
    "        fig.suptitle('Anomalia\\nMagnitude em 700 hPA', fontsize=34, weight='bold', y = 0.95, x = 0.505)\n",
    "    \n",
    "    elif level == 1:\n",
    "        fig.suptitle('Anomalia\\nMagnitude em 850 hPA', fontsize=34, weight='bold', y = 0.95, x = 0.505)\n",
    "        \n",
    "    elif level == 2:\n",
    "        fig.suptitle('Anomalia\\nMagnitude em 975 hPA', fontsize=34, weight='bold', y = 0.95, x = 0.505)\n",
    "  \n",
    "    #mes = [1,2,3,4,5,6,7,8,9,10,11,12]\n",
    "    \n",
    "    plottAnom(ax, mes, tempo1, tempo2, level)\n",
    "   \n",
    "    exportAnom(tempo1, mes, level)"
   ]
  },
  {
   "cell_type": "code",
   "execution_count": null,
   "metadata": {},
   "outputs": [],
   "source": [
    "def plottAnom(ax, mes, tempo1, tempo2, level):\n",
    "    \n",
    "    lons, lats, magSet1, magSet2 = set_dataAnom(tempo1, tempo2, level)\n",
    "    \n",
    "    anomalia_magnitude = magSet2.sel(month=mes) - magSet1.sel(month=mes)\n",
    "    \n",
    "    norm = mpl.colors.Normalize(vmin=0, vmax=12)\n",
    "    \n",
    "    clevs = np.arange(-6,10,0.5)\n",
    "    cf = ax.contourf(lons, lats, anomalia_magnitude, clevs, cmap = 'RdBu')\n",
    "    \n",
    "    cbar = plt.colorbar(cf, orientation='horizontal', pad=0.1 , ax=ax, shrink = 1.0, aspect=40)\n",
    "    cbar.ax.tick_params(labelsize=15)\n",
    "    cbar.set_label(\"m/s\", fontsize = 17, y = 0.3, labelpad = 15)\n",
    "    \n",
    "    gl = ax.gridlines(crs=ccrs.PlateCarree(), draw_labels=True, linewidth=1, color='black', alpha=0.3, linestyle='--')\n",
    "    gl.xlabels_top = False\n",
    "    gl.ylabels_left = True\n",
    "    gl.ylabels_right = False\n",
    "    gl.ylines = True\n",
    "    gl.xlines = True\n",
    "    gl.xlocator = mticker.FixedLocator(np.arange(-70, 50, 20)) #-70,50,20\n",
    "    gl.xformatter = LONGITUDE_FORMATTER\n",
    "    gl.yformatter = LATITUDE_FORMATTER\n",
    "    gl.xlabel_style = {'size': 15}\n",
    "    gl.ylabel_style = {'size': 15}\n",
    "    \n",
    "    ax.coastlines('50m')\n",
    "    ax.set_extent([-70, 20, -50, 10])\n",
    "    ax.set_title(calendar.month_abbr[mes], fontdict={'fontsize': 40}, loc = 'right')\n",
    "    \n",
    "    if tempo1 == per1:\n",
    "        ax.set_title('Anomalia do período 2018-01-01 a 2020-01-01 em relação ao período de 1979-01-01 a 2010-12-01 ', fontdict={'fontsize': 26}, loc = 'left')\n",
    "        \n",
    "    if tempo1 == per4:\n",
    "        ax.set_title('Anomalia do período 2018-01-01 a 2020-01-01 em relação ao período de 2010-01-01 a 2018-08-01 ', fontdict={'fontsize': 26}, loc = 'left')"
   ]
  },
  {
   "cell_type": "code",
   "execution_count": null,
   "metadata": {},
   "outputs": [],
   "source": [
    "def exportAnom(tempo1, mes, level):\n",
    "\n",
    "    if tempo1 == per1:\n",
    "        if level == 0:\n",
    "            path = calendar.month_abbr[mes]\n",
    "            plt.savefig('D:/_Gabriel/Estudo/UFF/Bloqueios_Atmosfericos/Climatologias/Imagens Geradas/Vento/Magnitude/plots/anomalia/700hPA/NmagnitudeAnom_700hPA_'+ calendar.month_abbr[mes]+'.png')\n",
    "            \n",
    "        elif level == 1:\n",
    "            path = calendar.month_abbr[mes]\n",
    "            plt.savefig('D:/_Gabriel/Estudo/UFF/Bloqueios_Atmosfericos/Climatologias/Imagens Geradas/Vento/Magnitude/plots/anomalia/850hPA/NmagnitudeAnom_850hPA_'+ calendar.month_abbr[mes]+'.png')\n",
    "        \n",
    "        elif level == 2:\n",
    "            path = calendar.month_abbr[mes]\n",
    "            plt.savefig('D:/_Gabriel/Estudo/UFF/Bloqueios_Atmosfericos/Climatologias/Imagens Geradas/Vento/Magnitude/plots/anomalia/975hPa/NmagnitudeAnom_975hPA_'+ calendar.month_abbr[mes]+'.png')\n",
    "        \n",
    "        \n",
    "    elif tempo1 == per4:\n",
    "        if level == 0:\n",
    "            path = calendar.month_abbr[mes]\n",
    "            plt.savefig('D:/_Gabriel/Estudo/UFF/Bloqueios_Atmosfericos/Climatologias/Imagens Geradas/Vento/10_18/Magnitude/anomalia/700hPA/NmagnitudeAnom_700hPA_'+ calendar.month_abbr[mes]+'.png')\n",
    "            \n",
    "        elif level == 1:\n",
    "            path = calendar.month_abbr[mes]\n",
    "            plt.savefig('D:/_Gabriel/Estudo/UFF/Bloqueios_Atmosfericos/Climatologias/Imagens Geradas/Vento/10_18/Magnitude/anomalia/850hPA/NmagnitudeAnom_850hPA_'+ calendar.month_abbr[mes]+'.png')\n",
    "        \n",
    "        elif level == 2:\n",
    "            path = calendar.month_abbr[mes]\n",
    "            plt.savefig('D:/_Gabriel/Estudo/UFF/Bloqueios_Atmosfericos/Climatologias/Imagens Geradas/Vento/10_18/Magnitude/anomalia/975hPA/NmagnitudeAnom_975hPA_'+ calendar.month_abbr[mes]+'.png')"
   ]
  },
  {
   "cell_type": "code",
   "execution_count": null,
   "metadata": {},
   "outputs": [],
   "source": [
    "for cada in mesPlot:\n",
    "    figuraAnom(per1,per2,cada, 0)"
   ]
  },
  {
   "cell_type": "code",
   "execution_count": null,
   "metadata": {},
   "outputs": [],
   "source": [
    "for cada in mesPlot:\n",
    "    figuraAnom(per1,per2,cada, 1)"
   ]
  },
  {
   "cell_type": "code",
   "execution_count": null,
   "metadata": {},
   "outputs": [],
   "source": [
    "for cada in mesPlot:\n",
    "    figuraAnom(per1,per2,cada, 2)"
   ]
  },
  {
   "cell_type": "code",
   "execution_count": null,
   "metadata": {},
   "outputs": [],
   "source": [
    "for cada in mesPlot:\n",
    "    figuraAnom(per4,per2,cada, 0)"
   ]
  },
  {
   "cell_type": "code",
   "execution_count": null,
   "metadata": {},
   "outputs": [],
   "source": [
    "for cada in mesPlot:\n",
    "    figuraAnom(per4,per2,cada, 1)"
   ]
  },
  {
   "cell_type": "code",
   "execution_count": null,
   "metadata": {},
   "outputs": [],
   "source": [
    "for cada in mesPlot:\n",
    "    figuraAnom(per4,per2,cada, 2)"
   ]
  },
  {
   "cell_type": "markdown",
   "metadata": {},
   "source": [
    "## 12plots"
   ]
  },
  {
   "cell_type": "code",
   "execution_count": null,
   "metadata": {},
   "outputs": [],
   "source": [
    "def figuraAnom12(tempo1, tempo2, level):\n",
    "    \n",
    "    fig, ax = plt.subplots(nrows=3,ncols=4,subplot_kw=dict(projection = ccrs.PlateCarree()), figsize=(32,26))\n",
    "    \n",
    "    if level == 0:\n",
    "        if tempo1 == per1:\n",
    "            fig.suptitle('Anomalia do período 2018-01-01 a 2020-01-01 em relação ao período de 1979-01-01 a 2010-12-01\\n700 hPa', fontsize=34, weight='bold', y = 0.95, x = 0.505)\n",
    "    \n",
    "        elif tempo1 == per4:\n",
    "            fig.suptitle('Anomalia do período 2018-01-01 a 2020-01-01 em relação ao período de 2010-01-01 a 2018-08-01\\n700 hPa', fontsize=34, weight='bold', y = 0.95, x = 0.505)\n",
    "    \n",
    "    elif level == 1:\n",
    "        if tempo1 == per1:\n",
    "            fig.suptitle('Anomalia do período 2018-01-01 a 2020-01-01 em relação ao período de 1979-01-01 a 2010-12-01\\n850 hPa', fontsize=34, weight='bold', y = 0.95, x = 0.505)\n",
    "    \n",
    "        elif tempo1 == per4:\n",
    "            fig.suptitle('Anomalia do período 2018-01-01 a 2020-01-01 em relação ao período de 2010-01-01 a 2018-08-01\\n850 hPa', fontsize=34, weight='bold', y = 0.95, x = 0.505)\n",
    "    \n",
    "    elif level == 2:\n",
    "        if tempo1 == per1:\n",
    "            fig.suptitle('Anomalia do período 2018-01-01 a 2020-01-01 em relação ao período de 1979-01-01 a 2010-12-01\\n975 hPa', fontsize=34, weight='bold', y = 0.95, x = 0.505)\n",
    "    \n",
    "        elif tempo1 == per4:\n",
    "            fig.suptitle('Anomalia do período 2018-01-01 a 2020-01-01 em relação ao período de 2010-01-01 a 2018-08-01\\n975 hPa', fontsize=34, weight='bold', y = 0.95, x = 0.505)\n",
    "\n",
    "    mes = [1,2,3,4,5,6,7,8,9,10,11,12]\n",
    "    \n",
    "    \n",
    "    plottAnom12(ax[0,0], mes[0],tempo1, tempo2, level)\n",
    "    plottAnom12(ax[0,1], mes[1],tempo1, tempo2, level)\n",
    "    plottAnom12(ax[0,2], mes[2],tempo1, tempo2, level)\n",
    "    plottAnom12(ax[0,3], mes[3],tempo1, tempo2, level)\n",
    "    plottAnom12(ax[1,0], mes[4],tempo1, tempo2, level)\n",
    "    plottAnom12(ax[1,1], mes[5],tempo1, tempo2, level)\n",
    "    plottAnom12(ax[1,2], mes[6],tempo1, tempo2, level)\n",
    "    plottAnom12(ax[1,3], mes[7],tempo1, tempo2, level)\n",
    "    plottAnom12(ax[2,0], mes[8],tempo1, tempo2, level)\n",
    "    plottAnom12(ax[2,1], mes[9],tempo1, tempo2, level)\n",
    "    plottAnom12(ax[2,2], mes[10],tempo1, tempo2, level)\n",
    "    plottAnom12(ax[2,3], mes[11],tempo1, tempo2, level)\n",
    "    \n",
    "    ax[0][0].set_title('LAMMOC-UFF', fontdict={'fontsize': 20}, loc = 'left')\n",
    "    \n",
    "    exportAnom_12(tempo1, level)"
   ]
  },
  {
   "cell_type": "code",
   "execution_count": null,
   "metadata": {},
   "outputs": [],
   "source": [
    "def plottAnom12(ax, mes, tempo1, tempo2, level):\n",
    "    \n",
    "    lons, lats, magSet1, magSet2 = set_dataAnom(tempo1, tempo2, level)\n",
    "    \n",
    "    anomalia_magnitude = magSet2.sel(month=mes) - magSet1.sel(month=mes)\n",
    "    \n",
    "    norm = mpl.colors.Normalize(vmin=0, vmax=12)\n",
    "    \n",
    "    clevs = np.arange(-6,10,0.5)\n",
    "    cf = ax.contourf(lons, lats, anomalia_magnitude, clevs, cmap = 'RdBu')\n",
    "    \n",
    "    cbar = plt.colorbar(cf, orientation='horizontal', pad=0.1 , ax=ax, shrink = 1.0, aspect=40)\n",
    "    cbar.ax.tick_params(labelsize=15)\n",
    "    cbar.set_label(\"m/s\", fontsize = 17, y = 0.3, labelpad = 15)\n",
    "    \n",
    "    gl = ax.gridlines(crs=ccrs.PlateCarree(), draw_labels=True, linewidth=1, color='black', alpha=0.3, linestyle='--')\n",
    "    gl.xlabels_top = False\n",
    "    gl.ylabels_left = True\n",
    "    gl.ylabels_right = False\n",
    "    gl.ylines = True\n",
    "    gl.xlines = True\n",
    "    gl.xlocator = mticker.FixedLocator(np.arange(-70, 50, 20)) #-70,50,20\n",
    "    gl.xformatter = LONGITUDE_FORMATTER\n",
    "    gl.yformatter = LATITUDE_FORMATTER\n",
    "    gl.xlabel_style = {'size': 15}\n",
    "    gl.ylabel_style = {'size': 15}\n",
    "    \n",
    "    ax.coastlines('50m')\n",
    "    ax.set_extent([-70, 20, -50, 10])\n",
    "    ax.set_title(calendar.month_abbr[mes], fontdict={'fontsize': 30}, loc = 'right')"
   ]
  },
  {
   "cell_type": "code",
   "execution_count": null,
   "metadata": {},
   "outputs": [],
   "source": [
    "def exportAnom_12(tempo1, level):\n",
    "    if level == 0:\n",
    "        if tempo1 == per1:\n",
    "            plt.savefig('D:/_Gabriel/Estudo/UFF/Bloqueios_Atmosfericos/Climatologias/Imagens Geradas/Vento/Magnitude/plots12/_anomalia/Nmagnitude12Anom_79_10_700hPa.png')\n",
    "\n",
    "        elif tempo1 == per4:\n",
    "            plt.savefig('D:/_Gabriel/Estudo/UFF/Bloqueios_Atmosfericos/Climatologias/Imagens Geradas/Vento/10_18/Magnitude/anomalia/Nmagnitude12Anom_10_18_700hPa.png') \n",
    "   \n",
    "    elif level == 1:\n",
    "        if tempo1 == per1:\n",
    "            plt.savefig('D:/_Gabriel/Estudo/UFF/Bloqueios_Atmosfericos/Climatologias/Imagens Geradas/Vento/Magnitude/plots12/_anomalia/Nmagnitude12Anom_79_10_850hPa.png')\n",
    "\n",
    "        elif tempo1 == per4:\n",
    "            plt.savefig('D:/_Gabriel/Estudo/UFF/Bloqueios_Atmosfericos/Climatologias/Imagens Geradas/Vento/10_18/Magnitude/anomalia/Nmagnitude12Anom_10_18_850hPa.png')\n",
    "    \n",
    "    elif level == 2:\n",
    "        if tempo1 == per1:\n",
    "            plt.savefig('D:/_Gabriel/Estudo/UFF/Bloqueios_Atmosfericos/Climatologias/Imagens Geradas/Vento/Magnitude/plots12/_anomalia/Nmagnitude12Anom_79_10_975hPa.png')\n",
    "\n",
    "        elif tempo1 == per4:\n",
    "            plt.savefig('D:/_Gabriel/Estudo/UFF/Bloqueios_Atmosfericos/Climatologias/Imagens Geradas/Vento/10_18/Magnitude/anomalia/Nmagnitude12Anom_10_18_975hPa.png')"
   ]
  },
  {
   "cell_type": "code",
   "execution_count": null,
   "metadata": {},
   "outputs": [],
   "source": [
    "figuraAnom12(per1, per2, 0)"
   ]
  },
  {
   "cell_type": "code",
   "execution_count": null,
   "metadata": {},
   "outputs": [],
   "source": [
    "figuraAnom12(per1, per2, 1)"
   ]
  },
  {
   "cell_type": "code",
   "execution_count": null,
   "metadata": {},
   "outputs": [],
   "source": [
    "figuraAnom12(per1, per2, 2)"
   ]
  },
  {
   "cell_type": "code",
   "execution_count": null,
   "metadata": {},
   "outputs": [],
   "source": [
    "figuraAnom12(per4, per2, 0)"
   ]
  },
  {
   "cell_type": "code",
   "execution_count": null,
   "metadata": {},
   "outputs": [],
   "source": [
    "figuraAnom12(per4, per2, 1)"
   ]
  },
  {
   "cell_type": "code",
   "execution_count": null,
   "metadata": {},
   "outputs": [],
   "source": [
    "figuraAnom12(per4, per2, 2)"
   ]
  },
  {
   "cell_type": "code",
   "execution_count": null,
   "metadata": {},
   "outputs": [],
   "source": []
  }
 ],
 "metadata": {
  "kernelspec": {
   "display_name": "Python 3",
   "language": "python",
   "name": "python3"
  },
  "language_info": {
   "codemirror_mode": {
    "name": "ipython",
    "version": 3
   },
   "file_extension": ".py",
   "mimetype": "text/x-python",
   "name": "python",
   "nbconvert_exporter": "python",
   "pygments_lexer": "ipython3",
   "version": "3.8.2"
  }
 },
 "nbformat": 4,
 "nbformat_minor": 4
}

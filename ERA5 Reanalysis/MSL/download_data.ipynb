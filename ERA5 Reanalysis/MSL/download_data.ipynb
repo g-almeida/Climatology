{
 "cells": [
  {
   "cell_type": "code",
   "execution_count": 1,
   "metadata": {},
   "outputs": [
    {
     "name": "stderr",
     "output_type": "stream",
     "text": [
      "2020-06-04 21:14:43,899 INFO Welcome to the CDS\n",
      "2020-06-04 21:14:43,911 INFO Sending request to https://cds.climate.copernicus.eu/api/v2/resources/reanalysis-era5-single-levels-monthly-means\n",
      "2020-06-04 21:14:45,686 INFO Request is queued\n",
      "2020-06-04 21:14:51,124 INFO Request is running\n",
      "2020-06-04 21:17:39,293 INFO Request is completed\n",
      "2020-06-04 21:17:39,297 INFO Downloading http://136.156.133.39/cache-compute-0012/cache/data4/adaptor.mars.internal-1591316087.1635654-24388-5-db71cc56-e8e2-4af5-9a70-4a9ba88f5d5e.nc to download.nc (33.3M)\n",
      "2020-06-04 21:18:28,467 INFO Download rate 692.8K/s                            \n"
     ]
    },
    {
     "data": {
      "text/plain": [
       "Result(content_length=34877176,content_type=application/x-netcdf,location=http://136.156.133.39/cache-compute-0012/cache/data4/adaptor.mars.internal-1591316087.1635654-24388-5-db71cc56-e8e2-4af5-9a70-4a9ba88f5d5e.nc)"
      ]
     },
     "execution_count": 1,
     "metadata": {},
     "output_type": "execute_result"
    }
   ],
   "source": [
    "import cdsapi\n",
    "\n",
    "c = cdsapi.Client()\n",
    "\n",
    "c.retrieve(\n",
    "    'reanalysis-era5-single-levels-monthly-means',\n",
    "    {\n",
    "        'product_type': 'monthly_averaged_reanalysis',\n",
    "        'variable': 'mean_sea_level_pressure',\n",
    "        'year': [\n",
    "            '1979', '1980', '1981',\n",
    "            '1982', '1983', '1984',\n",
    "            '1985', '1986', '1987',\n",
    "            '1988', '1989', '1990',\n",
    "            '1991', '1992', '1993',\n",
    "            '1994', '1995', '1996',\n",
    "            '1997', '1998', '1999',\n",
    "            '2000', '2001', '2002',\n",
    "            '2003', '2004', '2005',\n",
    "            '2006', '2007', '2008',\n",
    "            '2009', '2010', '2011',\n",
    "            '2012', '2013', '2014',\n",
    "            '2015', '2016', '2017',\n",
    "            '2018', '2019', '2020',\n",
    "        ],\n",
    "        'month': [\n",
    "            '01', '02', '03',\n",
    "            '04', '05', '06',\n",
    "            '07', '08', '09',\n",
    "            '10', '11', '12',\n",
    "        ],\n",
    "        'time': '00:00',\n",
    "        'format': 'netcdf',\n",
    "        'area': [\n",
    "            -20, -42, -40,\n",
    "            12,\n",
    "        ],\n",
    "    },\n",
    "    'download.nc')"
   ]
  },
  {
   "cell_type": "code",
   "execution_count": 2,
   "metadata": {},
   "outputs": [
    {
     "name": "stderr",
     "output_type": "stream",
     "text": [
      "2020-06-08 01:07:33,917 INFO Welcome to the CDS\n",
      "2020-06-08 01:07:33,951 INFO Sending request to https://cds.climate.copernicus.eu/api/v2/resources/reanalysis-era5-single-levels-monthly-means\n",
      "2020-06-08 01:07:35,113 INFO Request is queued\n",
      "2020-06-08 01:07:36,319 INFO Request is running\n",
      "2020-06-08 01:11:55,929 INFO Request is completed\n",
      "2020-06-08 01:11:55,932 INFO Downloading http://136.156.133.36/cache-compute-0010/cache/data5/adaptor.mars.internal-1591589256.0089748-31572-15-c57c5eb3-1396-4df9-af2f-32bb957c207d.nc to download.nc (133.9M)\n",
      "2020-06-08 01:14:35,517 INFO Download rate 859.1K/s                            \n"
     ]
    },
    {
     "data": {
      "text/plain": [
       "Result(content_length=140384000,content_type=application/x-netcdf,location=http://136.156.133.36/cache-compute-0010/cache/data5/adaptor.mars.internal-1591589256.0089748-31572-15-c57c5eb3-1396-4df9-af2f-32bb957c207d.nc)"
      ]
     },
     "execution_count": 2,
     "metadata": {},
     "output_type": "execute_result"
    }
   ],
   "source": [
    "import cdsapi\n",
    "\n",
    "c = cdsapi.Client()\n",
    "\n",
    "c.retrieve(\n",
    "    'reanalysis-era5-single-levels-monthly-means',\n",
    "    {\n",
    "        'product_type': 'monthly_averaged_reanalysis',\n",
    "        'variable': 'mean_sea_level_pressure',\n",
    "        'year': [\n",
    "            '1979', '1980', '1981',\n",
    "            '1982', '1983', '1984',\n",
    "            '1985', '1986', '1987',\n",
    "            '1988', '1989', '1990',\n",
    "            '1991', '1992', '1993',\n",
    "            '1994', '1995', '1996',\n",
    "            '1997', '1998', '1999',\n",
    "            '2000', '2001', '2002',\n",
    "            '2003', '2004', '2005',\n",
    "            '2006', '2007', '2008',\n",
    "            '2009', '2010', '2011',\n",
    "            '2012', '2013', '2014',\n",
    "            '2015', '2016', '2017',\n",
    "            '2018', '2019', '2020',\n",
    "        ],\n",
    "        'month': [\n",
    "            '01', '02', '03',\n",
    "            '04', '05', '06',\n",
    "            '07', '08', '09',\n",
    "            '10', '11', '12',\n",
    "        ],\n",
    "        'time': '00:00',\n",
    "        'format': 'netcdf',\n",
    "        'area': [\n",
    "            0, -55, -60,\n",
    "            18,\n",
    "        ],\n",
    "    },\n",
    "    'download.nc')"
   ]
  },
  {
   "cell_type": "code",
   "execution_count": null,
   "metadata": {},
   "outputs": [],
   "source": []
  }
 ],
 "metadata": {
  "kernelspec": {
   "display_name": "Python 3",
   "language": "python",
   "name": "python3"
  },
  "language_info": {
   "codemirror_mode": {
    "name": "ipython",
    "version": 3
   },
   "file_extension": ".py",
   "mimetype": "text/x-python",
   "name": "python",
   "nbconvert_exporter": "python",
   "pygments_lexer": "ipython3",
   "version": "3.8.2"
  }
 },
 "nbformat": 4,
 "nbformat_minor": 4
}

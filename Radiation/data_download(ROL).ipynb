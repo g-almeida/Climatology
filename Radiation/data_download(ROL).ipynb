{
 "cells": [
  {
   "cell_type": "code",
   "execution_count": 1,
   "metadata": {},
   "outputs": [
    {
     "name": "stderr",
     "output_type": "stream",
     "text": [
      "2020-04-29 19:37:00,655 INFO Sending request to https://cds.climate.copernicus.eu/api/v2/resources/reanalysis-era5-single-levels-monthly-means\n",
      "2020-04-29 19:37:02,310 INFO Request is queued\n",
      "2020-04-29 19:37:05,451 INFO Request is running\n",
      "2020-04-29 19:39:56,068 INFO Request is completed\n",
      "2020-04-29 19:39:56,071 INFO Downloading http://136.156.133.37/cache-compute-0011/cache/data8/adaptor.mars.internal-1588199822.0104764-17557-29-3aabff2a-2baf-47e0-9795-e58fa2a932a0.nc to download.nc (300.6M)\n",
      "2020-04-29 20:58:56,942 INFO Download rate 64.9K/s                             \n"
     ]
    },
    {
     "data": {
      "text/plain": [
       "Result(content_length=315224364,content_type=application/x-netcdf,location=http://136.156.133.37/cache-compute-0011/cache/data8/adaptor.mars.internal-1588199822.0104764-17557-29-3aabff2a-2baf-47e0-9795-e58fa2a932a0.nc)"
      ]
     },
     "execution_count": 1,
     "metadata": {},
     "output_type": "execute_result"
    }
   ],
   "source": [
    "import cdsapi\n",
    "\n",
    "c = cdsapi.Client()\n",
    "\n",
    "c.retrieve(\n",
    "    'reanalysis-era5-single-levels-monthly-means',\n",
    "    {\n",
    "        'format': 'netcdf',\n",
    "        'product_type': 'monthly_averaged_reanalysis',\n",
    "        'variable': 'mean_top_net_long_wave_radiation_flux',\n",
    "        'year': [\n",
    "            '1979', '1980', '1981',\n",
    "            '1982', '1983', '1984',\n",
    "            '1985', '1986', '1987',\n",
    "            '1988', '1989', '1990',\n",
    "            '1991', '1992', '1993',\n",
    "            '1994', '1995', '1996',\n",
    "            '1997', '1998', '1999',\n",
    "            '2000', '2001', '2002',\n",
    "            '2003', '2004', '2005',\n",
    "            '2006', '2007', '2008',\n",
    "            '2009', '2010', '2011',\n",
    "            '2012', '2013', '2014',\n",
    "            '2015', '2016', '2017',\n",
    "            '2018', '2019', '2020',\n",
    "        ],\n",
    "        'month': [\n",
    "            '01', '02', '03',\n",
    "            '04', '05', '06',\n",
    "            '07', '08', '09',\n",
    "            '10', '11', '12',\n",
    "        ],\n",
    "        'time': '00:00',\n",
    "        'area': [\n",
    "            20, -90, -70,\n",
    "            20,\n",
    "        ],\n",
    "    },\n",
    "    'download.nc')"
   ]
  },
  {
   "cell_type": "code",
   "execution_count": null,
   "metadata": {},
   "outputs": [],
   "source": []
  }
 ],
 "metadata": {
  "kernelspec": {
   "display_name": "Python 3",
   "language": "python",
   "name": "python3"
  },
  "language_info": {
   "codemirror_mode": {
    "name": "ipython",
    "version": 3
   },
   "file_extension": ".py",
   "mimetype": "text/x-python",
   "name": "python",
   "nbconvert_exporter": "python",
   "pygments_lexer": "ipython3",
   "version": "3.7.6"
  }
 },
 "nbformat": 4,
 "nbformat_minor": 4
}

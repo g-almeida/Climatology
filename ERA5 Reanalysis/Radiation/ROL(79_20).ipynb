{
 "cells": [
  {
   "cell_type": "code",
   "execution_count": 1,
   "metadata": {},
   "outputs": [
    {
     "ename": "ModuleNotFoundError",
     "evalue": "No module named 'cartopy'",
     "output_type": "error",
     "traceback": [
      "\u001b[0;31m---------------------------------------------------------------------------\u001b[0m",
      "\u001b[0;31mModuleNotFoundError\u001b[0m                       Traceback (most recent call last)",
      "\u001b[0;32m<ipython-input-1-17e1f6e36d55>\u001b[0m in \u001b[0;36m<module>\u001b[0;34m\u001b[0m\n\u001b[1;32m      6\u001b[0m \u001b[0;32mimport\u001b[0m \u001b[0mmatplotlib\u001b[0m\u001b[0;34m.\u001b[0m\u001b[0mticker\u001b[0m \u001b[0;32mas\u001b[0m \u001b[0mmticker\u001b[0m\u001b[0;34m\u001b[0m\u001b[0;34m\u001b[0m\u001b[0m\n\u001b[1;32m      7\u001b[0m \u001b[0;32mimport\u001b[0m \u001b[0mmatplotlib\u001b[0m\u001b[0;34m.\u001b[0m\u001b[0mpatches\u001b[0m \u001b[0;32mas\u001b[0m \u001b[0mmpatches\u001b[0m\u001b[0;34m\u001b[0m\u001b[0;34m\u001b[0m\u001b[0m\n\u001b[0;32m----> 8\u001b[0;31m \u001b[0;32mfrom\u001b[0m \u001b[0mcartopy\u001b[0m\u001b[0;34m.\u001b[0m\u001b[0mmpl\u001b[0m\u001b[0;34m.\u001b[0m\u001b[0mgridliner\u001b[0m \u001b[0;32mimport\u001b[0m \u001b[0mLONGITUDE_FORMATTER\u001b[0m\u001b[0;34m,\u001b[0m \u001b[0mLATITUDE_FORMATTER\u001b[0m\u001b[0;34m\u001b[0m\u001b[0;34m\u001b[0m\u001b[0m\n\u001b[0m\u001b[1;32m      9\u001b[0m \u001b[0;32mfrom\u001b[0m \u001b[0mmpl_toolkits\u001b[0m\u001b[0;34m.\u001b[0m\u001b[0maxes_grid1\u001b[0m \u001b[0;32mimport\u001b[0m \u001b[0mmake_axes_locatable\u001b[0m\u001b[0;34m\u001b[0m\u001b[0;34m\u001b[0m\u001b[0m\n\u001b[1;32m     10\u001b[0m \u001b[0;32mimport\u001b[0m \u001b[0mseaborn\u001b[0m \u001b[0;32mas\u001b[0m \u001b[0msns\u001b[0m\u001b[0;34m\u001b[0m\u001b[0;34m\u001b[0m\u001b[0m\n",
      "\u001b[0;31mModuleNotFoundError\u001b[0m: No module named 'cartopy'"
     ]
    }
   ],
   "source": [
    "import xarray as xr\n",
    "import pandas as pd\n",
    "import numpy as np\n",
    "import matplotlib as mpl\n",
    "import matplotlib.pyplot as plt\n",
    "import matplotlib.ticker as mticker\n",
    "import matplotlib.patches as mpatches\n",
    "from cartopy.mpl.gridliner import LONGITUDE_FORMATTER, LATITUDE_FORMATTER\n",
    "from mpl_toolkits.axes_grid1 import make_axes_locatable\n",
    "import seaborn as sns\n",
    "import cartopy\n",
    "import cartopy.crs as ccrs\n",
    "import cartopy.feature as cfeature\n",
    "from cartopy.mpl.ticker import LongitudeFormatter, LatitudeFormatter\n",
    "from cartopy.util import add_cyclic_point\n",
    "from datetime import datetime\n",
    "import os\n",
    "import seaborn as sns\n",
    "import metpy.calc as mpcalc\n",
    "import re\n",
    "import calendar\n",
    "from matplotlib.offsetbox import AnchoredText\n",
    "sns.set()"
   ]
  },
  {
   "cell_type": "code",
   "execution_count": null,
   "metadata": {},
   "outputs": [],
   "source": []
  },
  {
   "cell_type": "code",
   "execution_count": null,
   "metadata": {},
   "outputs": [],
   "source": [
    "def set_data(tempo):\n",
    "    data = xr.open_dataset('D:/_Gabriel/Estudo/UFF/Bloqueios_Atmosfericos/Climatologias/nc/ROL_79_20.nc')  \n",
    "    rol = data.mtnlwrf[:,0,:,:]\n",
    "    \n",
    "    time_slice = slice(tempo[0],tempo[1])\n",
    "    media_mes = rol.sel(time=time_slice).groupby('time.month').mean()\n",
    "    media_mes = media_mes * (-1)\n",
    "    \n",
    "    lons = media_mes.longitude.values\n",
    "    lats = media_mes.latitude.values\n",
    "    \n",
    "    return lons, lats, media_mes"
   ]
  },
  {
   "cell_type": "code",
   "execution_count": null,
   "metadata": {},
   "outputs": [],
   "source": []
  },
  {
   "cell_type": "code",
   "execution_count": null,
   "metadata": {},
   "outputs": [],
   "source": [
    "def figura(tempo1, tempo2, mes):\n",
    "    fig, ax = plt.subplots(nrows=1,ncols=2,subplot_kw=dict(projection = ccrs.PlateCarree()), figsize=(32,26))\n",
    "\n",
    "    fig.suptitle('Outgoing Longwave Radiation (W/m²)\\nComparativo', fontsize=34, weight='bold', y = 0.70, x = 0.505)\n",
    "    \n",
    "    #mes = [1,2,3,4,5,6,7,8,9,10,11,12]\n",
    "    \n",
    "    plott(ax[0], mes, tempo1)\n",
    "    plott2(ax[1], mes, tempo2)\n",
    " \n",
    "    export(tempo1 ,mes)"
   ]
  },
  {
   "cell_type": "code",
   "execution_count": null,
   "metadata": {},
   "outputs": [],
   "source": [
    "def figuraComp3(tempo1, tempo2, tempo3, mes):\n",
    "    \n",
    "    fig, ax = plt.subplots(nrows=1,ncols=3,subplot_kw=dict(projection = ccrs.PlateCarree()), figsize=(32,26))\n",
    "\n",
    "    fig.suptitle('Outgoing Longwave Radiation (W/m²)\\nComparativo', fontsize=34, weight='bold', y = 0.60, x = 0.505)\n",
    "    \n",
    "    #mes = [1,2,3,4,5,6,7,8,9,10,11,12]\n",
    "    \n",
    "    plott(ax[0], mes, tempo1)\n",
    "    plott(ax[1], mes, tempo2)\n",
    "    plott2(ax[2], mes, tempo3)\n",
    " \n",
    "    exportComp3(mes)"
   ]
  },
  {
   "cell_type": "code",
   "execution_count": null,
   "metadata": {},
   "outputs": [],
   "source": [
    "def plott(ax, mes, tempo1):\n",
    "    \n",
    "    lons, lats, media_mes = set_data(tempo1)\n",
    "    \n",
    "    #Uvel, lonu = add_cyclic_point(Umedia_mes.sel(month=mes), coord=lons)  #interpolando o grafico/ corrigindo a descontinuidade do meridiano\n",
    "    \n",
    "    norm = mpl.colors.Normalize(vmin=0, vmax=12)\n",
    "    clevs = np.arange(160,300,10)\n",
    "    cf = ax.contourf(lons, lats, media_mes.sel(month=mes), clevs, cmap = 'jet',extend='both')\n",
    "    \n",
    "    cbar = plt.colorbar(cf, orientation='horizontal', pad=0.05 , ax=ax, shrink = 1.0, aspect=40)\n",
    "    cbar.ax.tick_params(labelsize=15)\n",
    "    cbar.set_label(\"W / m²\", fontsize = 17, y = 0.3)\n",
    "    \n",
    "    gl = ax.gridlines(crs=ccrs.PlateCarree(), draw_labels=True, linewidth=1, color='black', alpha=0.3, linestyle='--')\n",
    "    gl.xlabels_top = False\n",
    "    gl.ylabels_left = True\n",
    "    gl.ylabels_right = False\n",
    "    gl.ylines = True\n",
    "    gl.xlines = True\n",
    "    #gl.xlocator = mticker.FixedLocator(np.arange(-70, 50, 20)) #-70,50,20\n",
    "    gl.xformatter = LONGITUDE_FORMATTER\n",
    "    gl.yformatter = LATITUDE_FORMATTER\n",
    "    gl.xlabel_style = {'size': 15}\n",
    "    gl.ylabel_style = {'size': 15}\n",
    "    \n",
    "    ax.coastlines('50m')\n",
    "    #ax.set_extent([-70, 20, -50, 10])\n",
    "    ax.set_title(calendar.month_abbr[mes], fontdict={'fontsize': 30}, loc = 'right')\n",
    "    \n",
    "    if tempo1 == per1:\n",
    "    \n",
    "        ax.set_title('Climatologia de 1979-01 até 2010-12', fontdict={'fontsize': 25}, loc = 'left')\n",
    "        \n",
    "    elif tempo1 == per4:\n",
    "    \n",
    "        ax.set_title('Climatologia de 2010-01 até 2018-08', fontdict={'fontsize': 25}, loc = 'left')"
   ]
  },
  {
   "cell_type": "code",
   "execution_count": null,
   "metadata": {},
   "outputs": [],
   "source": [
    "def plott2(ax, mes, tempo3):\n",
    "    \n",
    "    lons, lats, media_mes= set_data(tempo3)\n",
    "    \n",
    "   #Uvel, lonu = add_cyclic_point(Umedia_mes.sel(month=mes), coord=lons)  #interpolando o grafico/ corrigindo a descontinuidade do meridiano\n",
    "    clevs = np.arange(160,300,10)\n",
    "    \n",
    "    cf = ax.contourf(lons, lats, media_mes.sel(month=mes), clevs, cmap = 'jet', extend='both')\n",
    "    \n",
    "    norm = mpl.colors.Normalize(vmin=0, vmax=12)\n",
    "        \n",
    "    cbar = plt.colorbar(cf, orientation='horizontal', pad=0.05 , ax=ax, shrink = 1.0, aspect=40)\n",
    "    cbar.ax.tick_params(labelsize=15)\n",
    "    cbar.set_label(\"W / m²\", fontsize = 17, y = 0.3, labelpad=15)\n",
    "    \n",
    "    gl = ax.gridlines(crs=ccrs.PlateCarree(), draw_labels=True, linewidth=1, color='black', alpha=0.3, linestyle='--')\n",
    "    gl.xlabels_top = False\n",
    "    gl.ylabels_left = True\n",
    "    gl.ylabels_right = False\n",
    "    gl.ylines = True\n",
    "    gl.xlines = True\n",
    "    #gl.xlocator = mticker.FixedLocator(np.arange(-70, 50, 20)) #-70,50,20\n",
    "    gl.xformatter = LONGITUDE_FORMATTER\n",
    "    gl.yformatter = LATITUDE_FORMATTER\n",
    "    gl.xlabel_style = {'size': 15}\n",
    "    gl.ylabel_style = {'size': 15}\n",
    "    \n",
    "    ax.coastlines('50m')\n",
    "    #ax.set_extent([-70, 20, -50, 10])\n",
    "    ax.set_title(calendar.month_abbr[mes], fontdict={'fontsize': 30}, loc = 'right')\n",
    "    ax.set_title('2018 até 2020', fontdict={'fontsize': 30}, loc = 'left')"
   ]
  },
  {
   "cell_type": "code",
   "execution_count": null,
   "metadata": {},
   "outputs": [],
   "source": [
    "def export(tempo1, mes):\n",
    "    \n",
    "    if tempo1 == per1:\n",
    "        \n",
    "        path = calendar.month_abbr[mes]\n",
    "        plt.savefig('D:/_Gabriel/Estudo/UFF/Bloqueios_Atmosfericos/Climatologias/Imagens Geradas/Radiation/plots/comparativos/79_10/compROL_79_10'+ calendar.month_abbr[mes]+'.png')\n",
    "    \n",
    "    if tempo1 == per4:\n",
    "        \n",
    "        path = calendar.month_abbr[mes]\n",
    "        plt.savefig('D:/_Gabriel/Estudo/UFF/Bloqueios_Atmosfericos/Climatologias/Imagens Geradas/Radiation/plots/comparativos/10_18/compROL_10_18'+ calendar.month_abbr[mes]+'.png')"
   ]
  },
  {
   "cell_type": "code",
   "execution_count": null,
   "metadata": {
    "scrolled": true
   },
   "outputs": [],
   "source": [
    "def exportComp3(mes):\n",
    "    \n",
    "    path = calendar.month_abbr[mes]\n",
    "    plt.savefig('D:/_Gabriel/Estudo/UFF/Bloqueios_Atmosfericos/Climatologias/Imagens Geradas/Radiation/plots/comparativos/comp3/comp3ROL'+ calendar.month_abbr[mes]+'.png')"
   ]
  },
  {
   "cell_type": "code",
   "execution_count": null,
   "metadata": {},
   "outputs": [],
   "source": [
    "per1 = ['1979-01-01','2010-12-01']     # Algumas datas a serem contempladas\n",
    "per2 = ['2018-01-01','2020-01-01']\n",
    "per3 = ['2010-01-01','2020-01-01']     # INUTILIZADA\n",
    "per4 = ['2010-01-01','2018-08-01']\n",
    "\n",
    "#figura(tempo1, tempo2, mes escolhido) \n",
    "    #mes escolhido = [1 até 12]"
   ]
  },
  {
   "cell_type": "code",
   "execution_count": null,
   "metadata": {
    "scrolled": true
   },
   "outputs": [],
   "source": [
    "figuraComp3(per1, per4, per2, 1)"
   ]
  },
  {
   "cell_type": "code",
   "execution_count": null,
   "metadata": {},
   "outputs": [],
   "source": [
    "for cada in mesPlot:\n",
    "    figuraComp3(per1, per4, per2, cada)"
   ]
  },
  {
   "cell_type": "code",
   "execution_count": null,
   "metadata": {},
   "outputs": [],
   "source": [
    "mesPlot = np.arange(1,13)"
   ]
  },
  {
   "cell_type": "code",
   "execution_count": null,
   "metadata": {},
   "outputs": [],
   "source": [
    "for cada in mesPlot:\n",
    "    figura(per1,per2,cada)"
   ]
  },
  {
   "cell_type": "code",
   "execution_count": null,
   "metadata": {},
   "outputs": [],
   "source": [
    "for cada in mesPlot:\n",
    "    figura(per4,per2,cada)"
   ]
  },
  {
   "cell_type": "markdown",
   "metadata": {},
   "source": [
    "## 12 plots"
   ]
  },
  {
   "cell_type": "code",
   "execution_count": null,
   "metadata": {},
   "outputs": [],
   "source": [
    "def figura12(tempo):\n",
    "    \n",
    "    fig, ax = plt.subplots(nrows=3,ncols=4,subplot_kw=dict(projection = ccrs.PlateCarree()), figsize=(32,26))\n",
    "    \n",
    "    if tempo == per1:\n",
    "        \n",
    "        fig.suptitle('Outgoing Longwave Radiation (W/m²)\\n 1979-01-01 até 2010-12-01', fontsize=34, weight='bold', y = 0.95, x = 0.505)\n",
    "       \n",
    "    \n",
    "    if tempo == per2:\n",
    "       \n",
    "        fig.suptitle('Outgoing Longwave Radiation (W/m²)\\n 2018-01-01 até 2020-01-01', fontsize=34, weight='bold', y = 0.95, x = 0.505)\n",
    "       \n",
    "            \n",
    "    if tempo == per3:\n",
    "\n",
    "        fig.suptitle('Outgoing Longwave Radiation (W/m²)\\n 2010-01-01 até 2020-01-01', fontsize=34, weight='bold', y = 0.95, x = 0.505)\n",
    "        \n",
    "            \n",
    "    if tempo == per4:\n",
    "        \n",
    "        fig.suptitle('Outgoing Longwave Radiation (W/m²)\\n 2010-01-01 até 2018-08-01', fontsize=34, weight='bold', y = 0.95, x = 0.505)\n",
    "        \n",
    "    \n",
    "    mes = [1,2,3,4,5,6,7,8,9,10,11,12]\n",
    "       \n",
    "    plott12(ax[0,0], mes[0],tempo)      # OBS: Pra essa figura, algumas pequenas alterações são feitas na função 'plott'                                            \n",
    "    plott12(ax[0,1], mes[1],tempo)      #      Alterações de formatação, como títulos, distanciamento do colorbar e etc...\n",
    "    plott12(ax[0,2], mes[2],tempo)\n",
    "    plott12(ax[0,3], mes[3],tempo)\n",
    "    plott12(ax[1,0], mes[4],tempo)\n",
    "    plott12(ax[1,1], mes[5],tempo)\n",
    "    plott12(ax[1,2], mes[6],tempo)\n",
    "    plott12(ax[1,3], mes[7],tempo)\n",
    "    plott12(ax[2,0], mes[8],tempo)\n",
    "    plott12(ax[2,1], mes[9],tempo)\n",
    "    plott12(ax[2,2], mes[10],tempo)\n",
    "    plott12(ax[2,3], mes[11],tempo)\n",
    "    \n",
    "    ax[0][0].set_title('LAMMOC-UFF', fontdict={'fontsize': 20}, loc = 'left')\n",
    "    \n",
    "    export_12(tempo)"
   ]
  },
  {
   "cell_type": "code",
   "execution_count": null,
   "metadata": {},
   "outputs": [],
   "source": [
    "def plott12(ax, mes, tempo):\n",
    "    \n",
    "    lons, lats, media_mes = set_data(tempo)\n",
    "\n",
    "    norm = mpl.colors.Normalize(vmin=0, vmax=12)\n",
    "    clevs = np.arange(160,300,10)\n",
    "    cf = ax.contourf(lons, lats, media_mes.sel(month=mes), clevs, cmap = 'jet',extend='both')\n",
    "    \n",
    "    cbar = plt.colorbar(cf, orientation='horizontal', pad=0.1 , ax=ax, shrink = 1.0, aspect=40)\n",
    "    cbar.ax.tick_params(labelsize=15)\n",
    "    cbar.set_label(\"W / m²\", fontsize = 17, y = 0.3, labelpad=15)\n",
    "    \n",
    "    gl = ax.gridlines(crs=ccrs.PlateCarree(), draw_labels=True, linewidth=1, color='black', alpha=0.3, linestyle='--')\n",
    "    gl.xlabels_top = False\n",
    "    gl.ylabels_left = True\n",
    "    gl.ylabels_right = False\n",
    "    gl.ylines = True\n",
    "    gl.xlines = True\n",
    "    #gl.xlocator = mticker.FixedLocator(np.arange(-70, 50, 20)) #-70,50,20\n",
    "    gl.xformatter = LONGITUDE_FORMATTER\n",
    "    gl.yformatter = LATITUDE_FORMATTER\n",
    "    gl.xlabel_style = {'size': 15}\n",
    "    gl.ylabel_style = {'size': 15}\n",
    "    \n",
    "    ax.coastlines('50m')\n",
    "    #ax.set_extent([-70, 20, -50, 10])\n",
    "    ax.set_title(calendar.month_abbr[mes], fontdict={'fontsize': 25}, loc = 'right')\n",
    "    "
   ]
  },
  {
   "cell_type": "code",
   "execution_count": null,
   "metadata": {},
   "outputs": [],
   "source": [
    "def export_12(tempo):\n",
    "\n",
    "    if tempo == per1:\n",
    "        \n",
    "        plt.savefig(\"D:/_Gabriel/Estudo/UFF/Bloqueios_Atmosfericos/Climatologias/Imagens Geradas/Radiation/plots/plots12/ROL_1979_2010\")\n",
    "\n",
    "    elif tempo == per2:\n",
    "        \n",
    "        plt.savefig(\"D:/_Gabriel/Estudo/UFF/Bloqueios_Atmosfericos/Climatologias/Imagens Geradas/Radiation/plots/plots12/ROL_2018_2020\")\n",
    "    \n",
    "    elif tempo == per3:\n",
    "        \n",
    "        plt.savefig(\"D:/_Gabriel/Estudo/UFF/Bloqueios_Atmosfericos/Climatologias/Imagens Geradas/Radiation/plots/plots12/ROL_1910_2020\")\n",
    "    \n",
    "    elif tempo == per4:\n",
    "        plt.savefig(\"D:/_Gabriel/Estudo/UFF/Bloqueios_Atmosfericos/Climatologias/Imagens Geradas/Radiation/plots/plots12/ROL_2010_2018\")\n",
    "    "
   ]
  },
  {
   "cell_type": "code",
   "execution_count": null,
   "metadata": {},
   "outputs": [],
   "source": [
    "figura12(per1)"
   ]
  },
  {
   "cell_type": "code",
   "execution_count": null,
   "metadata": {},
   "outputs": [],
   "source": [
    "figura12(per2)"
   ]
  },
  {
   "cell_type": "code",
   "execution_count": null,
   "metadata": {},
   "outputs": [],
   "source": [
    "figura12(per3)"
   ]
  },
  {
   "cell_type": "code",
   "execution_count": null,
   "metadata": {},
   "outputs": [],
   "source": [
    "figura12(per4)"
   ]
  },
  {
   "cell_type": "markdown",
   "metadata": {},
   "source": [
    "# Anomalia:"
   ]
  },
  {
   "cell_type": "code",
   "execution_count": null,
   "metadata": {},
   "outputs": [],
   "source": [
    "def set_dataAnom(tempo1, tempo2):\n",
    "    \n",
    "    data = xr.open_dataset('D:/_Gabriel/Estudo/UFF/Bloqueios_Atmosfericos/Climatologias/nc/ROL_79_20.nc')  \n",
    "    rol = data.mtnlwrf[:,0,:,:]\n",
    "    \n",
    "    time_slice1 = slice(tempo1[0],tempo1[1])\n",
    "    media_mes1 = rol.sel(time=time_slice1).groupby('time.month').mean()\n",
    "    media_mes1 = media_mes1 * (-1)\n",
    "    \n",
    "    time_slice2 = slice(tempo2[0],tempo2[1])\n",
    "    media_mes2 = rol.sel(time=time_slice2).groupby('time.month').mean()\n",
    "    media_mes2 = media_mes2 * (-1)\n",
    "    \n",
    "    lons = media_mes1.longitude.values    #1D\n",
    "    lats = media_mes1.latitude.values     #1D\n",
    "    \n",
    "    \n",
    "    return lons, lats, media_mes1, media_mes2"
   ]
  },
  {
   "cell_type": "code",
   "execution_count": null,
   "metadata": {},
   "outputs": [],
   "source": [
    "def figuraAnom(tempo1, tempo2, mes):\n",
    "    \n",
    "    fig, ax = plt.subplots(nrows=1,ncols=1,subplot_kw=dict(projection = ccrs.PlateCarree()), figsize=(32,26))\n",
    "   \n",
    "    fig.suptitle('Anomalia\\n Outgoing Longwave Radiation (W/m²)', fontsize=34, weight='bold', y = 0.95, x = 0.505)\n",
    "  \n",
    "    #mes = [1,2,3,4,5,6,7,8,9,10,11,12]\n",
    "    \n",
    "    plottAnom(ax, mes, tempo1, tempo2)\n",
    "   \n",
    "    #exportAnom(tempo1, mes)"
   ]
  },
  {
   "cell_type": "code",
   "execution_count": null,
   "metadata": {},
   "outputs": [],
   "source": [
    "def plottAnom(ax, mes, tempo1, tempo2):\n",
    "    \n",
    "    lons, lats, media_mes1, media_mes2 = set_dataAnom(tempo1, tempo2)\n",
    "    \n",
    "    anomalia_rol = media_mes2 - media_mes1\n",
    "    \n",
    "    clevs = np.arange(-30,35,5)\n",
    "    cf = ax.contourf(lons, lats, anomalia_rol.sel(month=mes), clevs, cmap = 'RdBu_r')\n",
    "    \n",
    "    cbar = plt.colorbar(cf, orientation='horizontal', pad=0.1 , ax=ax, shrink = 1.0, aspect=40)\n",
    "    cbar.ax.tick_params(labelsize=15)\n",
    "    cbar.set_label(\"W / m²\", fontsize = 17, y = 0.3, labelpad=15)\n",
    "    \n",
    "    gl = ax.gridlines(crs=ccrs.PlateCarree(), draw_labels=True, linewidth=1, color='black', alpha=0.3, linestyle='--')\n",
    "    gl.xlabels_top = False\n",
    "    gl.ylabels_left = True\n",
    "    gl.ylabels_right = False\n",
    "    gl.ylines = True\n",
    "    gl.xlines = True\n",
    "   # gl.xlocator = mticker.FixedLocator(np.arange(-70, 50, 20)) #-70,50,20\n",
    "    gl.xformatter = LONGITUDE_FORMATTER\n",
    "    gl.yformatter = LATITUDE_FORMATTER\n",
    "    gl.xlabel_style = {'size': 15}\n",
    "    gl.ylabel_style = {'size': 15}\n",
    "    \n",
    "    ax.coastlines('50m')\n",
    "   # ax.set_extent([-70, 20, -50, 10])\n",
    "    ax.set_title(calendar.month_abbr[mes], fontdict={'fontsize': 40}, loc = 'right')\n",
    "    ax.set_title('LAMMOC-UFF', fontdict={'fontsize': 30}, loc = 'left')"
   ]
  },
  {
   "cell_type": "code",
   "execution_count": null,
   "metadata": {},
   "outputs": [],
   "source": [
    "def exportAnom(tempo1, mes):\n",
    "\n",
    "    if tempo1 == per1:\n",
    "        path = calendar.month_abbr[mes]\n",
    "        plt.savefig('D:/_Gabriel/Estudo/UFF/Bloqueios_Atmosfericos/Climatologias/Imagens Geradas/Radiation/plots/anomalia/79_10/ROL_Anom_79_10'+ calendar.month_abbr[mes]+'.png')\n",
    "        \n",
    "    elif tempo1 == per4:\n",
    "        path = calendar.month_abbr[mes]\n",
    "        plt.savefig('D:/_Gabriel/Estudo/UFF/Bloqueios_Atmosfericos/Climatologias/Imagens Geradas/Radiation/plots/anomalia/10_18/ROL_Anom_10_18'+ calendar.month_abbr[mes]+'.png')"
   ]
  },
  {
   "cell_type": "code",
   "execution_count": null,
   "metadata": {},
   "outputs": [],
   "source": [
    "figuraAnom(per1,['2009-01-01','2009-12-01'],12)\n",
    "plt.savefig('anomalia2009.png')"
   ]
  },
  {
   "cell_type": "code",
   "execution_count": null,
   "metadata": {},
   "outputs": [],
   "source": [
    "for cada in mesPlot:\n",
    "    figuraAnom(per1,per2,cada)"
   ]
  },
  {
   "cell_type": "markdown",
   "metadata": {},
   "source": [
    "## 12 Plots"
   ]
  },
  {
   "cell_type": "code",
   "execution_count": null,
   "metadata": {},
   "outputs": [],
   "source": [
    "def figuraAnom12(tempo1, tempo2):\n",
    "    \n",
    "    fig, ax = plt.subplots(nrows=3,ncols=4,subplot_kw=dict(projection = ccrs.PlateCarree()), figsize=(32,26))\n",
    "    \n",
    "    if tempo1 == per1:\n",
    "        fig.suptitle('Outgoing Longwave Radiation (W/m²)\\nAnomalia do período 2018-01-01 a 2020-01-01 em relação ao período de 1979-01-01 a 2010-12-01', fontsize=34, weight='bold', y = 0.95, x = 0.505)\n",
    "    \n",
    "    elif tempo1 == per4:\n",
    "        fig.suptitle('Outgoing Longwave Radiation (W/m²)\\nAnomalia do período 2018-01-01 a 2020-01-01 em relação ao período de 2010-01-01 a 2018-08-01', fontsize=34, weight='bold', y = 0.95, x = 0.505)\n",
    "\n",
    "    mes = [1,2,3,4,5,6,7,8,9,10,11,12]\n",
    "    \n",
    "    \n",
    "    plottAnom12(ax[0,0], mes[0],tempo1, tempo2)\n",
    "    plottAnom12(ax[0,1], mes[1],tempo1, tempo2)\n",
    "    plottAnom12(ax[0,2], mes[2],tempo1, tempo2)\n",
    "    plottAnom12(ax[0,3], mes[3],tempo1, tempo2)\n",
    "    plottAnom12(ax[1,0], mes[4],tempo1, tempo2)\n",
    "    plottAnom12(ax[1,1], mes[5],tempo1, tempo2)\n",
    "    plottAnom12(ax[1,2], mes[6],tempo1, tempo2)\n",
    "    plottAnom12(ax[1,3], mes[7],tempo1, tempo2)\n",
    "    plottAnom12(ax[2,0], mes[8],tempo1, tempo2)\n",
    "    plottAnom12(ax[2,1], mes[9],tempo1, tempo2)\n",
    "    plottAnom12(ax[2,2], mes[10],tempo1, tempo2)\n",
    "    plottAnom12(ax[2,3], mes[11],tempo1, tempo2)\n",
    "    \n",
    "    ax[0][0].set_title('LAMMOC-UFF', fontdict={'fontsize': 20}, loc = 'left')\n",
    "    \n",
    "    exportAnom_12(tempo1)"
   ]
  },
  {
   "cell_type": "code",
   "execution_count": null,
   "metadata": {},
   "outputs": [],
   "source": [
    "def plottAnom12(ax,mes,tempo1,tempo2):\n",
    "    \n",
    "    lons, lats, media_mes1, media_mes2 = set_dataAnom(tempo1, tempo2)\n",
    "    \n",
    "    anomalia_rol = media_mes2 - media_mes1\n",
    "    \n",
    "    clevs = np.arange(-30,35,5)\n",
    "    cf = ax.contourf(lons, lats, anomalia_rol.sel(month=mes), clevs, cmap = 'RdBu_r')\n",
    "    \n",
    "    cbar = plt.colorbar(cf, orientation='horizontal', pad=0.1 , ax=ax, shrink = 1.0, aspect=40)\n",
    "    cbar.ax.tick_params(labelsize=15)\n",
    "    cbar.set_label(\"W / m²\", fontsize = 17, y = 0.3, labelpad=15)\n",
    "    \n",
    "    gl = ax.gridlines(crs=ccrs.PlateCarree(), draw_labels=True, linewidth=1, color='black', alpha=0.3, linestyle='--')\n",
    "    gl.xlabels_top = False\n",
    "    gl.ylabels_left = True\n",
    "    gl.ylabels_right = False\n",
    "    gl.ylines = True\n",
    "    gl.xlines = True\n",
    "   # gl.xlocator = mticker.FixedLocator(np.arange(-70, 50, 20)) #-70,50,20\n",
    "    gl.xformatter = LONGITUDE_FORMATTER\n",
    "    gl.yformatter = LATITUDE_FORMATTER\n",
    "    gl.xlabel_style = {'size': 15}\n",
    "    gl.ylabel_style = {'size': 15}\n",
    "    \n",
    "    ax.coastlines('50m')\n",
    "   # ax.set_extent([-70, 20, -50, 10])\n",
    "    ax.set_title(calendar.month_abbr[mes], fontdict={'fontsize': 30}, loc = 'right')"
   ]
  },
  {
   "cell_type": "code",
   "execution_count": null,
   "metadata": {},
   "outputs": [],
   "source": [
    "def exportAnom_12(tempo1):\n",
    "    if tempo1 == per1:\n",
    "        plt.savefig('D:/_Gabriel/Estudo/UFF/Bloqueios_Atmosfericos/Climatologias/Imagens Geradas/Radiation/plots/anomalia/12plots/ROL12Anom_79_10.png')\n",
    "    \n",
    "    elif tempo1 == per4:\n",
    "        plt.savefig('D:/_Gabriel/Estudo/UFF/Bloqueios_Atmosfericos/Climatologias/Imagens Geradas/Radiation/plots/anomalia/12plots/ROL12Anom_10_18.png')"
   ]
  },
  {
   "cell_type": "code",
   "execution_count": null,
   "metadata": {},
   "outputs": [],
   "source": [
    "figuraAnom12(per1,per2)"
   ]
  },
  {
   "cell_type": "code",
   "execution_count": null,
   "metadata": {},
   "outputs": [],
   "source": [
    "figuraAnom12(per4,per2)"
   ]
  },
  {
   "cell_type": "code",
   "execution_count": null,
   "metadata": {},
   "outputs": [],
   "source": []
  }
 ],
 "metadata": {
  "kernelspec": {
   "display_name": "Python 3",
   "language": "python",
   "name": "python3"
  },
  "language_info": {
   "codemirror_mode": {
    "name": "ipython",
    "version": 3
   },
   "file_extension": ".py",
   "mimetype": "text/x-python",
   "name": "python",
   "nbconvert_exporter": "python",
   "pygments_lexer": "ipython3",
   "version": "3.8.5"
  }
 },
 "nbformat": 4,
 "nbformat_minor": 4
}
